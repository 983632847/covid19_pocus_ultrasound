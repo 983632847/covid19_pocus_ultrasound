{
 "cells": [
  {
   "cell_type": "code",
   "execution_count": 1,
   "metadata": {},
   "outputs": [
    {
     "ename": "ModuleNotFoundError",
     "evalue": "No module named 'tqdm'",
     "output_type": "error",
     "traceback": [
      "\u001b[0;31m---------------------------------------------------------------------------\u001b[0m",
      "\u001b[0;31mModuleNotFoundError\u001b[0m                       Traceback (most recent call last)",
      "\u001b[0;32m<ipython-input-1-683ff00588c5>\u001b[0m in \u001b[0;36m<module>\u001b[0;34m\u001b[0m\n\u001b[1;32m      5\u001b[0m \u001b[0mget_ipython\u001b[0m\u001b[0;34m(\u001b[0m\u001b[0;34m)\u001b[0m\u001b[0;34m.\u001b[0m\u001b[0mrun_line_magic\u001b[0m\u001b[0;34m(\u001b[0m\u001b[0;34m'matplotlib'\u001b[0m\u001b[0;34m,\u001b[0m \u001b[0;34m'inline'\u001b[0m\u001b[0;34m)\u001b[0m\u001b[0;34m\u001b[0m\u001b[0;34m\u001b[0m\u001b[0m\n\u001b[1;32m      6\u001b[0m \u001b[0;32mimport\u001b[0m \u001b[0mpandas\u001b[0m \u001b[0;32mas\u001b[0m \u001b[0mpd\u001b[0m\u001b[0;34m\u001b[0m\u001b[0;34m\u001b[0m\u001b[0m\n\u001b[0;32m----> 7\u001b[0;31m \u001b[0;32mfrom\u001b[0m \u001b[0mtqdm\u001b[0m \u001b[0;32mimport\u001b[0m \u001b[0mtqdm\u001b[0m\u001b[0;34m\u001b[0m\u001b[0;34m\u001b[0m\u001b[0m\n\u001b[0m",
      "\u001b[0;31mModuleNotFoundError\u001b[0m: No module named 'tqdm'"
     ]
    }
   ],
   "source": [
    "import pandas as ps\n",
    "import numpy as np\n",
    "import cv2     # for capturing videos\n",
    "import math   \n",
    "%matplotlib inline\n",
    "import pandas as pd\n",
    "from tqdm import tqdm"
   ]
  },
  {
   "cell_type": "markdown",
   "metadata": {},
   "source": [
    "# video dataset"
   ]
  },
  {
   "cell_type": "code",
   "execution_count": 5,
   "metadata": {},
   "outputs": [],
   "source": [
    "import os\n",
    "path='enter your path\\'\n",
    "\n",
    "#Train\n",
    "videos_train=os.listdir(path+'train\\\\')\n",
    "train = pd.DataFrame()\n",
    "train['video_name'] = videos_train\n",
    "train = train[:-1]\n",
    "\n",
    "#Test\n",
    "videos_test=os.listdir(path+'test\\\\')\n",
    "test = pd.DataFrame()\n",
    "test['video_name'] = videos_test\n",
    "test = test[:-1]\n"
   ]
  },
  {
   "cell_type": "code",
   "execution_count": 6,
   "metadata": {},
   "outputs": [
    {
     "name": "stderr",
     "output_type": "stream",
     "text": [
      "100%|██████████████████████████████████████████████████████████████████████████████████| 24/24 [00:15<00:00,  1.52it/s]\n"
     ]
    }
   ],
   "source": [
    "# storing the frames from training videos\n",
    "for i in tqdm(range(train.shape[0])):\n",
    "    count = 0\n",
    "    videoFile = train['video_name'][i]\n",
    "    cap = cv2.VideoCapture(path+'train\\\\'+videoFile)   # capturing the video from the given path\n",
    "    frameRate = cap.get(5) #frame rate\n",
    "    x=1\n",
    "    while(cap.isOpened()):\n",
    "        frameId = cap.get(1) #current frame number\n",
    "        ret, frame = cap.read()\n",
    "        if (ret != True):\n",
    "            break\n",
    "        if (frameId % math.floor(frameRate) == 0):\n",
    "            # storing the frames in a new folder named train_1\n",
    "            filename =path+'train_1/' + videoFile +\"_frame%d.jpg\" % count;count+=1\n",
    "            cv2.imwrite(filename, frame)\n",
    "    cap.release()\n",
    "    \n"
   ]
  },
  {
   "cell_type": "code",
   "execution_count": 82,
   "metadata": {},
   "outputs": [
    {
     "name": "stderr",
     "output_type": "stream",
     "text": [
      "100%|██████████████████████████████████████████████████████████████████████████████████| 11/11 [00:06<00:00,  1.76it/s]\n"
     ]
    }
   ],
   "source": [
    "# storing the frames from testing videos\n",
    "for i in tqdm(range(test.shape[0])):\n",
    "    count = 0\n",
    "    videoFile = test['video_name'][i]\n",
    "    cap = cv2.VideoCapture(path+'test\\\\'+videoFile)   # capturing the video from the given path\n",
    "    frameRate = cap.get(5) #frame rate\n",
    "    x=1\n",
    "    while(cap.isOpened()):\n",
    "        frameId = cap.get(1) #current frame number\n",
    "        ret, frame = cap.read()\n",
    "        if (ret != True):\n",
    "            break\n",
    "        if (frameId % math.floor(frameRate) == 0):\n",
    "            # storing the frames in a new folder named test_1\n",
    "            filename =path+'test_1/' + videoFile +\"_frame%d.jpg\" % count;count+=1\n",
    "            cv2.imwrite(filename, frame)\n",
    "    cap.release()"
   ]
  },
  {
   "cell_type": "markdown",
   "metadata": {},
   "source": [
    "## 10 fold cross validation"
   ]
  },
  {
   "cell_type": "code",
   "execution_count": 3,
   "metadata": {},
   "outputs": [
    {
     "data": {
      "text/plain": [
       "['Pneu-Atlas-pneumonia2.gif',\n",
       " 'Pneu-Atlas-pneumonia.gif',\n",
       " 'Reg-Atlas-lungcurtain.gif',\n",
       " 'Reg-Butterfly.mp4',\n",
       " 'Cov-Atlas+(45).gif',\n",
       " 'Cov-Butterfly-COVID Skip Lesion.mp4',\n",
       " 'Reg-Youtube.mp4',\n",
       " 'Pneu-grep-pneumonia4.mp4',\n",
       " 'Pneu-grep-pneumonia1.mp4',\n",
       " 'pneu-everyday.gif',\n",
       " 'Cov-MSU-COVID Lung 2-Blines.mp4',\n",
       " 'Pneu-grep-pneumonia2.mp4',\n",
       " 'pneu-gred-6.gif',\n",
       " 'Cov-Atlas+(44).gif',\n",
       " 'Cov-clarius.gif',\n",
       " 'Reg-bcpocus.gif',\n",
       " 'Cov-Atlas-Day+4.gif',\n",
       " 'Reg-Atlas.gif',\n",
       " 'Cov-Butterfly-COVID Lung 2.mp4',\n",
       " 'Reg-NormalLungs.mp4',\n",
       " 'pneu-radiopaeda.mp4',\n",
       " 'Cov-Atlas-Day+2.gif',\n",
       " 'Cov-grepmed-blines-pocus-.mp4',\n",
       " 'Cov-grepmed3.mp4',\n",
       " 'Cov-grepmed2.mp4']"
      ]
     },
     "execution_count": 3,
     "metadata": {},
     "output_type": "execute_result"
    }
   ],
   "source": [
    "import os\n",
    "os.listdir(\"train\")"
   ]
  },
  {
   "cell_type": "code",
   "execution_count": 4,
   "metadata": {},
   "outputs": [
    {
     "data": {
      "text/plain": [
       "['Reg-Grep-Normal.gif',\n",
       " 'Cov-Atlas-+(43).gif',\n",
       " 'Cov-B_ConvexProb_score1.jpg',\n",
       " 'Cov-C_Convex_Prob_score2.jpg',\n",
       " 'Reg-nephropocus.mp4',\n",
       " 'Cov-D_Convex_Prob_score3.jpg',\n",
       " 'pneu-gred-7.gif',\n",
       " 'Pneu-Atlas-pneumonia-AirBronch.gif',\n",
       " 'Pneu-grep-pneumonia3.mp4',\n",
       " 'Reg-Grep-Alines.mp4',\n",
       " 'Cov-MSU-SkipLesions.mp4',\n",
       " 'Cov-C_ConvexProb_score3.jpg',\n",
       " 'Reg-Atlas-alines.gif',\n",
       " 'Cov-Butterfly-COVID Lung 1.mp4',\n",
       " 'Cov-Atlas-Day+1.gif',\n",
       " 'Cov-Atlas-Day+3.gif']"
      ]
     },
     "execution_count": 4,
     "metadata": {},
     "output_type": "execute_result"
    }
   ],
   "source": [
    "os.listdir(\"test\")"
   ]
  },
  {
   "cell_type": "code",
   "execution_count": null,
   "metadata": {},
   "outputs": [],
   "source": []
  }
 ],
 "metadata": {
  "kernelspec": {
   "display_name": "Python 3",
   "language": "python",
   "name": "python3"
  },
  "language_info": {
   "codemirror_mode": {
    "name": "ipython",
    "version": 3
   },
   "file_extension": ".py",
   "mimetype": "text/x-python",
   "name": "python",
   "nbconvert_exporter": "python",
   "pygments_lexer": "ipython3",
   "version": "3.6.10"
  }
 },
 "nbformat": 4,
 "nbformat_minor": 2
}

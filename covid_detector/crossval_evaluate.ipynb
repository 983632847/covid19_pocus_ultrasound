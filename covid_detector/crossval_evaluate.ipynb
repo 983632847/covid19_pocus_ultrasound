{
 "cells": [
  {
   "cell_type": "code",
   "execution_count": 15,
   "metadata": {},
   "outputs": [],
   "source": [
    "import os\n",
    "import numpy as np\n",
    "import cv2\n",
    "from imutils import paths\n",
    "from sklearn.metrics import accuracy_score\n",
    "from sklearn.metrics import classification_report, confusion_matrix\n",
    "import matplotlib.pyplot as plt"
   ]
  },
  {
   "cell_type": "code",
   "execution_count": 2,
   "metadata": {},
   "outputs": [
    {
     "name": "stderr",
     "output_type": "stream",
     "text": [
      "/Users/ninawiedemann/miniconda3/envs/covid_env/lib/python3.6/site-packages/tensorflow/python/framework/dtypes.py:526: FutureWarning: Passing (type, 1) or '1type' as a synonym of type is deprecated; in a future version of numpy, it will be understood as (type, (1,)) / '(1,)type'.\n",
      "  _np_qint8 = np.dtype([(\"qint8\", np.int8, 1)])\n",
      "/Users/ninawiedemann/miniconda3/envs/covid_env/lib/python3.6/site-packages/tensorflow/python/framework/dtypes.py:527: FutureWarning: Passing (type, 1) or '1type' as a synonym of type is deprecated; in a future version of numpy, it will be understood as (type, (1,)) / '(1,)type'.\n",
      "  _np_quint8 = np.dtype([(\"quint8\", np.uint8, 1)])\n",
      "/Users/ninawiedemann/miniconda3/envs/covid_env/lib/python3.6/site-packages/tensorflow/python/framework/dtypes.py:528: FutureWarning: Passing (type, 1) or '1type' as a synonym of type is deprecated; in a future version of numpy, it will be understood as (type, (1,)) / '(1,)type'.\n",
      "  _np_qint16 = np.dtype([(\"qint16\", np.int16, 1)])\n",
      "/Users/ninawiedemann/miniconda3/envs/covid_env/lib/python3.6/site-packages/tensorflow/python/framework/dtypes.py:529: FutureWarning: Passing (type, 1) or '1type' as a synonym of type is deprecated; in a future version of numpy, it will be understood as (type, (1,)) / '(1,)type'.\n",
      "  _np_quint16 = np.dtype([(\"quint16\", np.uint16, 1)])\n",
      "/Users/ninawiedemann/miniconda3/envs/covid_env/lib/python3.6/site-packages/tensorflow/python/framework/dtypes.py:530: FutureWarning: Passing (type, 1) or '1type' as a synonym of type is deprecated; in a future version of numpy, it will be understood as (type, (1,)) / '(1,)type'.\n",
      "  _np_qint32 = np.dtype([(\"qint32\", np.int32, 1)])\n",
      "/Users/ninawiedemann/miniconda3/envs/covid_env/lib/python3.6/site-packages/tensorflow/python/framework/dtypes.py:535: FutureWarning: Passing (type, 1) or '1type' as a synonym of type is deprecated; in a future version of numpy, it will be understood as (type, (1,)) / '(1,)type'.\n",
      "  np_resource = np.dtype([(\"resource\", np.ubyte, 1)])\n"
     ]
    }
   ],
   "source": [
    "from covid_detector.evaluate_covid19 import Evaluator"
   ]
  },
  {
   "cell_type": "markdown",
   "metadata": {},
   "source": [
    "### Functions for prediction of video label"
   ]
  },
  {
   "cell_type": "code",
   "execution_count": 3,
   "metadata": {},
   "outputs": [],
   "source": [
    "def majority_vote(preds, gt, vid_filenames):\n",
    "    \"\"\"\n",
    "    Arguments:\n",
    "    \tpreds: predicted classes (1-d list of class_names or integers)\n",
    "        gt: list of same size with ground truth labels\n",
    "        vid_filenames: list of filenames\n",
    "    \"\"\"\n",
    "    preds = np.asarray(preds)\n",
    "    gt = np.asarray(gt)\n",
    "    vids = np.asarray([vid.split(\".\")[0] for vid in vid_filenames])\n",
    "    vid_preds_out = []\n",
    "    for v in np.unique(vids):\n",
    "        preds_video = preds[vids==v]\n",
    "        gt_check = np.unique(gt[vids==v])\n",
    "        assert len(gt_check)==1, \"gt must have the same label for the whole video\"\n",
    "        labs, pred_counts = np.unique(preds_video, return_counts=True)\n",
    "        # take label that is predicted most often\n",
    "        vid_pred = labs[np.argmax(pred_counts)]\n",
    "        print(\"preds for video:\", preds_video)\n",
    "        # print(v, vid_pred, gt_check[0])\n",
    "        vid_preds_out.append([v, vid_pred, gt_check[0]])\n",
    "    print(\"video accuracy (majority):\", accuracy_score([p[1] for p in vid_preds_out], [p[2] for p in vid_preds_out]))\n",
    "    return vid_preds_out\n",
    "        \n",
    "def average_certainty(preds_logits, gt, vid_filenames):\n",
    "    \"\"\"\n",
    "    Arguments:\n",
    "    \tpreds: predicted classes (1-d list of class_names or integers)\n",
    "        gt: list of same size with ground truth labels\n",
    "        vid_filenames: list of filenames\n",
    "    \"\"\"\n",
    "    preds_logits = np.asarray(preds_logits)\n",
    "    gt = np.asarray(gt)\n",
    "    vid_preds_out = []\n",
    "    vids = np.array([vid.split(\".\")[0] for vid in vid_filenames])\n",
    "    for v in np.unique(vids):\n",
    "        preds_video_logits = preds_logits[vids==v]\n",
    "        preds_video = np.sum(preds_video_logits, axis=0)\n",
    "        print(\"preds for video:\", preds_video)\n",
    "        gt_check = np.unique(gt[vids==v])\n",
    "        assert len(gt_check)==1, \"gt must have the same label for the whole video\"\n",
    "        # take label that is predicted most often\n",
    "        vid_pred = np.argmax(preds_video)\n",
    "        print(v, vid_pred, gt_check[0])\n",
    "        vid_preds_out.append([v, vid_pred, gt_check[0]])\n",
    "    print(\"video accuracy (certainty):\", accuracy_score([p[1] for p in vid_preds_out], [p[2] for p in vid_preds_out]))\n",
    "    return vid_preds_out"
   ]
  },
  {
   "cell_type": "markdown",
   "metadata": {},
   "source": [
    "## Evaluation script for cross validation"
   ]
  },
  {
   "cell_type": "code",
   "execution_count": 4,
   "metadata": {},
   "outputs": [
    {
     "name": "stdout",
     "output_type": "stream",
     "text": [
      "------------- SPLIT  0 -------------------\n",
      "init\n",
      "Loading weights from  ../trained_models/fold_0/variables/variables\n",
      "WARNING:tensorflow:From /Users/ninawiedemann/miniconda3/envs/covid_env/lib/python3.6/site-packages/tensorflow/python/ops/resource_variable_ops.py:435: colocate_with (from tensorflow.python.framework.ops) is deprecated and will be removed in a future version.\n",
      "Instructions for updating:\n",
      "Colocations handled automatically by placer.\n",
      "WARNING:tensorflow:From /Users/ninawiedemann/miniconda3/envs/covid_env/lib/python3.6/site-packages/tensorflow/python/keras/layers/core.py:143: calling dropout (from tensorflow.python.ops.nn_ops) with keep_prob is deprecated and will be removed in a future version.\n",
      "Instructions for updating:\n",
      "Please use `rate` instead of `keep_prob`. Rate should be set to `rate = 1 - keep_prob`.\n",
      "Model restored. Class mappings are ['covid', 'pneunomia', 'regular']\n",
      "              precision    recall  f1-score   support\n",
      "\n",
      "       covid       0.70      0.56      0.62        63\n",
      "   pneunomia       0.71      0.79      0.75        28\n",
      "     regular       0.67      0.81      0.74        48\n",
      "\n",
      "    accuracy                           0.69       139\n",
      "   macro avg       0.69      0.72      0.70       139\n",
      "weighted avg       0.69      0.69      0.69       139\n",
      "\n",
      "preds for video: [0.41692764 5.862566   2.720506  ]\n",
      "Cov-Atlas+(44) 1 0\n",
      "preds for video: [0.2946806 1.1493942 3.5559251]\n",
      "Cov-Atlas+(45) 2 0\n",
      "preds for video: [0.2536777 2.318747  5.4275756]\n",
      "Cov-Atlas-+(43) 2 0\n",
      "preds for video: [1.0876949  0.30086467 5.61144   ]\n",
      "Cov-Atlas-Day+1 2 0\n",
      "preds for video: [11.281307   2.2195392  3.4991531]\n",
      "Cov-Atlas-Day+2 0 0\n",
      "preds for video: [6.9004602  0.37701795 0.72252214]\n",
      "Cov-Atlas-Day+3 0 0\n",
      "preds for video: [7.207155   0.11220858 0.68063533]\n",
      "Cov-Atlas-Day+4 0 0\n",
      "preds for video: [0.9263738  0.06457515 0.0090511 ]\n",
      "Cov-B_ConvexProb_score1 0 0\n",
      "preds for video: [ 3.1745064 23.195557   1.6299381]\n",
      "Pneu-grep-pneumonia2 1 1\n",
      "preds for video: [5.6316576 1.944488  4.4238553]\n",
      "Reg-Atlas 0 2\n",
      "preds for video: [ 0.09701819  1.1377169  10.765265  ]\n",
      "Reg-Atlas-alines 2 2\n",
      "preds for video: [0.48782772 2.7532372  8.758935  ]\n",
      "Reg-Atlas-lungcurtain 2 2\n",
      "preds for video: [1.9299976 2.7541149 7.3158875]\n",
      "Reg-Youtube 2 2\n",
      "video accuracy (certainty): 0.6153846153846154\n",
      "preds for video: [1 1 1 1 1 1 1 1 1]\n",
      "preds for video: [2 2 2 2 2]\n",
      "preds for video: [2 2 2 2 2 2 2 2]\n",
      "preds for video: [2 2 2 0 2 2 2]\n",
      "preds for video: [0 0 0 0 0 0 0 0 0 0 0 0 0 0 0 0 0]\n",
      "preds for video: [0 0 0 0 0 0 0 0]\n",
      "preds for video: [0 0 0 0 0 0 0 0]\n",
      "preds for video: [0]\n",
      "preds for video: [1 1 0 1 1 1 1 1 1 1 0 0 1 1 1 1 1 1 0 1 0 0 1 1 1 1 1 1]\n",
      "preds for video: [0 0 2 2 2 2 0 0 2 0 0 0]\n",
      "preds for video: [2 2 2 2 2 2 2 2 2 2 2 2]\n",
      "preds for video: [2 2 2 2 2 2 2 2 2 2 2 2]\n",
      "preds for video: [2 2 0 2 2 2 2 2 0 2 2 2]\n",
      "video accuracy (majority): 0.6153846153846154\n",
      "------------- SPLIT  1 -------------------\n",
      "init\n",
      "Loading weights from  ../trained_models/fold_1/variables/variables\n",
      "Model restored. Class mappings are ['covid', 'pneunomia', 'regular']\n",
      "              precision    recall  f1-score   support\n",
      "\n",
      "       covid       1.00      0.99      1.00       111\n",
      "   pneunomia       0.96      1.00      0.98        22\n",
      "     regular       1.00      1.00      1.00        49\n",
      "\n",
      "    accuracy                           0.99       182\n",
      "   macro avg       0.99      1.00      0.99       182\n",
      "weighted avg       0.99      0.99      0.99       182\n",
      "\n",
      "preds for video: [49.459686   0.8778944  4.66241  ]\n",
      "Cov-Butterfly-COVID Lung 1 0 0\n",
      "preds for video: [0.01668004 0.88386697 0.09945303]\n",
      "Cov-C_ConvexProb_score3 1 0\n",
      "preds for video: [48.888733   0.8593776  5.251895 ]\n",
      "Cov-MSU-SkipLesions 0 0\n",
      "preds for video: [0.52138484 9.024886   2.4537296 ]\n",
      "Pneu-Atlas-pneumonia 1 1\n",
      "preds for video: [4.1147294e-05 9.9864788e+00 1.3480580e-02]\n",
      "Pneu-grep-pneumonia4 1 1\n",
      "preds for video: [ 4.2803226  1.1730975 43.546577 ]\n",
      "Reg-Butterfly 2 2\n",
      "video accuracy (certainty): 0.8333333333333334\n",
      "preds for video: [0 0 0 0 0 0 0 0 0 0 0 0 0 0 0 0 0 0 0 0 0 0 0 0 0 0 0 0 0 0 0 0 0 0 0 0 0\n",
      " 0 0 0 0 0 0 0 0 0 0 0 0 0 0 0 0 0 0]\n",
      "preds for video: [1]\n",
      "preds for video: [0 0 0 0 0 0 0 0 0 0 0 0 0 0 0 0 0 0 0 0 0 0 0 0 0 0 0 0 0 0 0 0 0 0 0 0 0\n",
      " 0 0 0 0 0 0 0 0 0 0 0 0 0 0 0 0 0 0]\n",
      "preds for video: [1 1 1 1 1 1 1 1 1 1 1 1]\n",
      "preds for video: [1 1 1 1 1 1 1 1 1 1]\n",
      "preds for video: [2 2 2 2 2 2 2 2 2 2 2 2 2 2 2 2 2 2 2 2 2 2 2 2 2 2 2 2 2 2 2 2 2 2 2 2 2\n",
      " 2 2 2 2 2 2 2 2 2 2 2 2]\n",
      "video accuracy (majority): 0.8333333333333334\n",
      "------------- SPLIT  2 -------------------\n",
      "init\n",
      "Loading weights from  ../trained_models/fold_2/variables/variables\n",
      "Model restored. Class mappings are ['covid', 'pneunomia', 'regular']\n",
      "              precision    recall  f1-score   support\n",
      "\n",
      "       covid       1.00      1.00      1.00        94\n",
      "   pneunomia       1.00      1.00      1.00        26\n",
      "     regular       1.00      1.00      1.00        35\n",
      "\n",
      "    accuracy                           1.00       155\n",
      "   macro avg       1.00      1.00      1.00       155\n",
      "weighted avg       1.00      1.00      1.00       155\n",
      "\n",
      "preds for video: [42.184307  1.141545  3.674146]\n",
      "Cov-Butterfly-COVID Lung 2 0 0\n",
      "preds for video: [41.137127   1.415992   4.4468822]\n",
      "Cov-MSU-COVID Lung 2-Blines 0 0\n",
      "preds for video: [4.2988006e-03 6.8543482e+00 1.4135283e-01]\n",
      "Pneu-grep-pneumonia3 1 1\n",
      "preds for video: [0.71609277 0.02679102 7.2571163 ]\n",
      "Reg-Grep-Alines 2 2\n",
      "preds for video: [7.9162093e-03 5.3084320e-01 1.0461242e+01]\n",
      "Reg-NormalLungs 2 2\n",
      "preds for video: [1.0826740e-02 1.2671584e-02 1.5976501e+01]\n",
      "Reg-Youtube-Video_902_Lung_POCUS-left 2 2\n",
      "preds for video: [ 0.09891438 12.18862     0.7124652 ]\n",
      "pneu-everyday 1 1\n",
      "preds for video: [3.0895937e-03 5.9846601e+00 1.2250386e-02]\n",
      "pneu-gred-7 1 1\n",
      "video accuracy (certainty): 1.0\n",
      "preds for video: [0 0 0 0 0 0 0 0 0 0 0 0 0 0 0 0 0 0 0 0 0 0 0 0 0 0 0 0 0 0 0 0 0 0 0 0 0\n",
      " 0 0 0 0 0 0 0 0 0 0]\n",
      "preds for video: [0 0 0 0 0 0 0 0 0 0 0 0 0 0 0 0 0 0 0 0 0 0 0 0 0 0 0 0 0 0 0 0 0 0 0 0 0\n",
      " 0 0 0 0 0 0 0 0 0 0]\n",
      "preds for video: [1 1 1 1 1 1 1]\n",
      "preds for video: [2 2 2 2 2 2 2 2]\n",
      "preds for video: [2 2 2 2 2 2 2 2 2 2 2]\n",
      "preds for video: [2 2 2 2 2 2 2 2 2 2 2 2 2 2 2 2]\n",
      "preds for video: [1 1 1 1 1 1 1 1 1 1 1 1 1]\n",
      "preds for video: [1 1 1 1 1 1]\n",
      "video accuracy (majority): 1.0\n",
      "------------- SPLIT  3 -------------------\n",
      "init\n",
      "Loading weights from  ../trained_models/fold_3/variables/variables\n",
      "Model restored. Class mappings are ['covid', 'pneunomia', 'regular']\n",
      "              precision    recall  f1-score   support\n",
      "\n",
      "       covid       0.96      0.93      0.95        88\n",
      "   pneunomia       0.96      1.00      0.98        25\n",
      "     regular       0.84      0.90      0.87        30\n",
      "\n",
      "    accuracy                           0.94       143\n",
      "   macro avg       0.92      0.94      0.93       143\n",
      "weighted avg       0.94      0.94      0.94       143\n",
      "\n",
      "preds for video: [78.12149    1.816316   7.0622025]\n",
      "Cov-Butterfly-COVID Skip Lesion 0 0\n",
      "preds for video: [0.0496341  0.7562337  0.19413213]\n",
      "Cov-D_Convex_Prob_score3 1 0\n",
      "preds for video: [ 0.10375641 12.85957     0.03667431]\n",
      "Pneu-grep-pneumonia1 1 1\n",
      "preds for video: [6.6977744  0.08658654 9.21564   ]\n",
      "Reg-Youtube-Video_902_Lung_POCUS 2 2\n",
      "preds for video: [3.9696053e-02 2.1802711e-03 6.9581242e+00]\n",
      "Reg-Youtube_Video_29_Lung_POCUS_right 2 2\n",
      "preds for video: [0.44685504 0.17098393 6.3821607 ]\n",
      "Reg-nephropocus 2 2\n",
      "preds for video: [ 0.12750927 11.849777    0.02271395]\n",
      "pneu-gred-6 1 1\n",
      "video accuracy (certainty): 0.8571428571428571\n",
      "preds for video: [0 0 0 0 0 0 0 2 0 0 0 0 0 0 0 0 0 0 0 0 0 0 0 0 0 0 0 0 0 0 0 0 0 0 0 0 0\n",
      " 0 0 0 0 0 0 0 0 0 0 0 0 0 0 0 0 0 0 0 0 0 0 0 0 0 0 0 0 0 0 0 2 2 0 0 0 0\n",
      " 0 0 0 0 2 0 0 0 0 0 0 2 0]\n",
      "preds for video: [1]\n",
      "preds for video: [1 1 1 1 1 1 1 1 1 1 1 1 1]\n",
      "preds for video: [2 2 2 2 2 2 2 2 2 0 0 2 2 0 2 2]\n",
      "preds for video: [2 2 2 2 2 2 2]\n",
      "preds for video: [2 2 2 2 2 2 2]\n",
      "preds for video: [1 1 1 1 1 1 1 1 1 1 1 1]\n",
      "video accuracy (majority): 0.8571428571428571\n",
      "------------- SPLIT  4 -------------------\n",
      "init\n",
      "Loading weights from  ../trained_models/fold_4/variables/variables\n",
      "Model restored. Class mappings are ['covid', 'pneunomia', 'regular']\n",
      "              precision    recall  f1-score   support\n",
      "\n",
      "       covid       0.68      0.62      0.65        80\n",
      "   pneunomia       0.96      0.87      0.92        31\n",
      "     regular       0.22      0.30      0.25        27\n",
      "\n",
      "    accuracy                           0.62       138\n",
      "   macro avg       0.62      0.60      0.61       138\n",
      "weighted avg       0.66      0.62      0.63       138\n",
      "\n",
      "preds for video: [0.17086805 0.60056007 0.22857185]\n",
      "Cov-C_Convex_Prob_score2 1 0\n",
      "preds for video: [11.925936    0.15491189  8.919153  ]\n",
      "Cov-clarius 0 0\n",
      "preds for video: [13.08319     0.50392926  7.412879  ]\n",
      "Cov-grepmed-blines-pocus- 0 0\n",
      "preds for video: [ 6.539376    0.08638698 12.374236  ]\n",
      "Cov-grepmed2 2 0\n",
      "preds for video: [1.7995806e+01 8.8430673e-04 3.3106524e-03]\n",
      "Cov-grepmed3 0 0\n",
      "preds for video: [0.07202855 7.903541   0.02443035]\n",
      "Pneu-Atlas-pneumonia-AirBronch 1 1\n",
      "preds for video: [0.10670329 7.839998   0.05329855]\n",
      "Pneu-Atlas-pneumonia2 1 1\n",
      "preds for video: [6.9926643e+00 4.2320049e-04 6.9122016e-03]\n",
      "Reg-Grep-Normal 0 2\n",
      "preds for video: [0.3453817  0.02589639 6.6287217 ]\n",
      "Reg-Youtube_Video_29_Lung_POCUS_left 2 2\n",
      "preds for video: [7.859549  2.5347235 2.6057272]\n",
      "Reg-bcpocus 0 2\n",
      "preds for video: [ 3.8731365 10.028043   1.0988209]\n",
      "pneu-radiopaeda 1 1\n",
      "video accuracy (certainty): 0.6363636363636364\n",
      "preds for video: [1]\n",
      "preds for video: [0 0 0 2 0 0 0 0 2 2 0 2 0 0 2 0 2 0 2 0 0]\n",
      "preds for video: [0 0 0 0 0 0 0 2 0 2 2 0 0 0 0 0 0 0 0 0 0]\n",
      "preds for video: [2 2 2 2 2 2 2 2 2 2 2 2 2 2 2 2 2 2 2]\n",
      "preds for video: [0 0 0 0 0 0 0 0 0 0 0 0 0 0 0 0 0 0]\n",
      "preds for video: [1 1 1 1 1 1 1 1]\n",
      "preds for video: [1 1 1 1 1 1 1 1]\n",
      "preds for video: [0 0 0 0 0 0 0]\n",
      "preds for video: [2 2 2 2 2 2 2]\n",
      "preds for video: [0 0 0 0 0 0 0 0 0 0 0 0 2]\n",
      "preds for video: [0 1 1 1 1 1 0 0 0 1 1 1 1 1 1]\n",
      "video accuracy (majority): 0.6363636363636364\n"
     ]
    }
   ],
   "source": [
    "saved_logits, saved_gt, saved_files = [], [], []\n",
    "\n",
    "for i in range(5):\n",
    "    print(\"------------- SPLIT \", i, \"-------------------\")\n",
    "    # define data input path\n",
    "    path = \"../data_pocus/cross_validation_data/split\"+str(i)\n",
    "    \n",
    "    train_labels, test_labels, test_files = [], [], []\n",
    "    train_data, test_data = [], []\n",
    "\n",
    "    # loop over the image paths (train and test)\n",
    "    for imagePath in paths.list_images(path):\n",
    "\n",
    "        # extract the class label from the filename\n",
    "        label = imagePath.split(os.path.sep)[-2]\n",
    "\n",
    "        # load the image, swap color channels, and resize it to be a fixed\n",
    "        # 224x224 pixels while ignoring aspect ratio\n",
    "        image = cv2.imread(imagePath)\n",
    "        # image = cv2.cvtColor(image, cv2.COLOR_BGR2RGB)\n",
    "        # image = cv2.resize(image, (224, 224))\n",
    "\n",
    "        # update the data and labels lists, respectively\n",
    "        test_labels.append(label)\n",
    "        test_data.append(image)\n",
    "        test_files.append(imagePath.split(os.path.sep)[-1])\n",
    "\n",
    "    # build ground truth data\n",
    "    classes = [\"covid\", \"pneunomia\", \"regular\"]\n",
    "    gt_class_idx = np.array([classes.index(lab) for lab in test_labels])\n",
    "    \n",
    "    model = Evaluator(split=str(i))\n",
    "    \n",
    "    logits = np.array([model(img) for img in test_data])\n",
    "    \n",
    "    # remember for evaluation:\n",
    "    saved_logits.append(logits)\n",
    "    saved_gt.append(gt_class_idx)\n",
    "    saved_files.append(test_files)\n",
    "    \n",
    "    # output the information\n",
    "    predIdxs = np.argmax(logits, axis=1)\n",
    "    \n",
    "    print(\n",
    "    classification_report(\n",
    "        gt_class_idx, predIdxs, target_names=classes\n",
    "        )\n",
    "    )\n",
    "\n",
    "    vid_preds_certainty = average_certainty(logits, gt_class_idx, np.array(test_files))\n",
    "    vid_preds_majority = majority_vote(predIdxs, gt_class_idx, np.array(test_files))"
   ]
  },
  {
   "cell_type": "markdown",
   "metadata": {},
   "source": [
    "### Save outputs"
   ]
  },
  {
   "cell_type": "code",
   "execution_count": 6,
   "metadata": {},
   "outputs": [],
   "source": [
    "import pickle\n",
    "with open(\"eval.dat\", \"wb\") as outfile:\n",
    "    pickle.dump((saved_logits, saved_gt, saved_files), outfile)"
   ]
  },
  {
   "cell_type": "markdown",
   "metadata": {},
   "source": [
    "## Evaluation plots"
   ]
  },
  {
   "cell_type": "code",
   "execution_count": 18,
   "metadata": {},
   "outputs": [],
   "source": [
    "import seaborn as sn\n",
    "import pandas as pd"
   ]
  },
  {
   "cell_type": "code",
   "execution_count": null,
   "metadata": {},
   "outputs": [],
   "source": [
    "# confusion matrix with avg acc and std\n",
    "# sensitivity, specificity, avg and std\n",
    "# cm = confusion_matrix(testY.argmax(axis=1), predIdxs)"
   ]
  },
  {
   "cell_type": "code",
   "execution_count": 107,
   "metadata": {},
   "outputs": [],
   "source": [
    "all_cms = np.zeros((5,3,3))\n",
    "for s in range(5):\n",
    "    # print(saved_files[s])\n",
    "    gt_s = saved_gt[s]\n",
    "    pred_idx_s = np.argmax(np.array(saved_logits[s]), axis=1)\n",
    "    assert len(gt_s)==len(pred_idx_s)\n",
    "    cm = np.array(confusion_matrix(gt_s, pred_idx_s))\n",
    "    all_cms[s] = cm"
   ]
  },
  {
   "cell_type": "code",
   "execution_count": 99,
   "metadata": {},
   "outputs": [],
   "source": [
    "data_sens = all_cms.copy()\n",
    "for i in range(5):\n",
    "    data_sens[i] = data_sens[i]/np.sum(data_sens[i], axis=1)\n",
    "sens_stds = np.std(data_sens, axis = 0)\n",
    "data_sens = np.mean(data_sens, axis=0)"
   ]
  },
  {
   "cell_type": "code",
   "execution_count": 97,
   "metadata": {},
   "outputs": [
    {
     "data": {
      "text/plain": [
       "array([[0.82067295, 0.08782824, 0.32731481],\n",
       "       [0.02904762, 0.93133641, 0.        ],\n",
       "       [0.08288961, 0.        , 0.80175926]])"
      ]
     },
     "execution_count": 97,
     "metadata": {},
     "output_type": "execute_result"
    }
   ],
   "source": [
    "data_sens"
   ]
  },
  {
   "cell_type": "markdown",
   "metadata": {},
   "source": [
    "#### Function to make labels with std from the data"
   ]
  },
  {
   "cell_type": "code",
   "execution_count": 101,
   "metadata": {},
   "outputs": [
    {
     "data": {
      "text/plain": [
       "array([['0.82\\n±0.19', '0.09\\n±0.12', '0.33\\n±0.40'],\n",
       "       ['0.03\\n±0.04', '0.93\\n±0.09', '0.00\\n±0.00'],\n",
       "       ['0.08\\n±0.09', '0.00\\n±0.00', '0.80\\n±0.26']], dtype='<U10')"
      ]
     },
     "execution_count": 101,
     "metadata": {},
     "output_type": "execute_result"
    }
   ],
   "source": [
    "def data_to_label(data, text):\n",
    "    return (np.asarray([\"{0:.2f}\\n\".format(data)+u\"\\u00B1\"+\"{0:.2f}\".format(text) for data, text in zip(data.flatten(), text.flatten())])).reshape(3,3)"
   ]
  },
  {
   "cell_type": "markdown",
   "metadata": {},
   "source": [
    "## Confusion matrix plots"
   ]
  },
  {
   "cell_type": "code",
   "execution_count": 127,
   "metadata": {},
   "outputs": [
    {
     "data": {
      "text/plain": [
       "<matplotlib.axes._subplots.AxesSubplot at 0x1529f5748>"
      ]
     },
     "execution_count": 127,
     "metadata": {},
     "output_type": "execute_result"
    },
    {
     "data": {
      "image/png": "[encoded data removed]",
      "text/plain": [
       "<Figure size 1440x432 with 6 Axes>"
      ]
     },
     "metadata": {},
     "output_type": "display_data"
    }
   ],
   "source": [
    "plt.figure(figsize = (20,6))\n",
    "plt.subplot(1,3,1)\n",
    "\n",
    "data_abs = np.sum(all_cms, axis=0)\n",
    "df_cm = pd.DataFrame(data_abs, index = [i for i in [\"Covid-19\", \"Pneunomia\", \"Normal\"]],\n",
    "                  columns = [i for i in [\"Covid-19\", \"Pneunomia\", \"Normal\"]])\n",
    "\n",
    "sn.set(font_scale=1.5)\n",
    "plt.title(\"Absolute\")\n",
    "plt.yticks(np.arange(3)+0.5,(\"Covid-19\", \"Pneunomia\", \"Normal\"), rotation=0, fontsize=\"17\", va=\"center\")\n",
    "sn.heatmap(df_cm, annot=True, fmt=\"g\")\n",
    "\n",
    "\n",
    "# PRECISION SUBPLOT\n",
    "plt.subplot(1,3,2)\n",
    "\n",
    "data_prec = all_cms.copy()\n",
    "for i in range(5):\n",
    "    data_prec[i] = data_prec[i]/np.sum(data_prec[i], axis=0)\n",
    "prec_stds = np.std(data_prec, axis = 0)\n",
    "data_prec = np.mean(data_prec, axis=0)\n",
    "labels_prec = data_to_label(data_prec, prec_stds)\n",
    "\n",
    "df_cm = pd.DataFrame(data_prec, index = [i for i in [\"Covid-19\", \"Pneunomia\", \"Normal\"]],\n",
    "                  columns = [i for i in [\"Covid-19\", \"Pneunomia\", \"Normal\"]])\n",
    "sn.set(font_scale=1.5)\n",
    "plt.ylabel(\"ground truth\")\n",
    "plt.xlabel(\"predictions\")\n",
    "plt.title(\"Precision\")\n",
    "plt.yticks(np.arange(3)+0.5,(\"Covid-19\", \"Pneunomia\", \"Normal\"), rotation=0, fontsize=\"17\", va=\"center\")\n",
    "sn.heatmap(df_cm, annot=labels_prec, fmt='')\n",
    "\n",
    "\n",
    "#  SENSITIVITY SUBPLOT\n",
    "plt.subplot(1,3,3)\n",
    "data_sens = all_cms.copy()\n",
    "for i in range(5):\n",
    "    sums_axis = np.sum(data_sens[i], axis=1)\n",
    "    data_sens[i] = np.array([data_sens[i,j,:]/sums_axis[j] for j in range(3)])\n",
    "sens_stds = np.std(data_sens, axis = 0)\n",
    "data_sens = np.mean(data_sens, axis=0)\n",
    "\n",
    "labels_sens = data_to_label(data_sens, sens_stds)\n",
    "df_cm = pd.DataFrame(data_sens, index = [i for i in [\"Covid-19\", \"Pneunomia\", \"Normal\"]],\n",
    "                  columns = [i for i in [\"Covid-19\", \"Pneunomia\", \"Normal\"]])\n",
    "sn.set(font_scale=1.5)\n",
    "plt.title(\"Sensitivity / Recall\")\n",
    "plt.yticks(np.arange(3)+0.5,(\"LALAL-19\", \"Pneunomia\", \"Normal\"), rotation=0, fontsize=\"17\", va=\"center\")\n",
    "plt.xticks(np.arange(3)+0.5,(\"LALAL-19\", \"Pneunomia\", \"Normal\"), rotation=0, fontsize=\"17\", va=\"center\")\n",
    "\n",
    "\n",
    "sn.heatmap(df_cm, annot=labels_sens, fmt='')\n",
    "# plt.savefig(\"confusion_matrix.png\")\n"
   ]
  },
  {
   "cell_type": "markdown",
   "metadata": {},
   "source": [
    "# Tests"
   ]
  },
  {
   "cell_type": "code",
   "execution_count": 30,
   "metadata": {},
   "outputs": [
    {
     "name": "stdout",
     "output_type": "stream",
     "text": [
      "init\n",
      "../trained_models/fold_0/pocus_fold_0.model\n",
      "Model restored. Class mappings are ['covid', 'pneunomia', 'regular']\n"
     ]
    }
   ],
   "source": [
    "model = Evaluator(split=str(i))"
   ]
  },
  {
   "cell_type": "code",
   "execution_count": 31,
   "metadata": {
    "scrolled": true
   },
   "outputs": [
    {
     "name": "stdout",
     "output_type": "stream",
     "text": [
      "              precision    recall  f1-score   support\n",
      "\n",
      "       covid       0.56      0.56      0.56        63\n",
      "   pneunomia       0.44      0.79      0.56        28\n",
      "     regular       0.67      0.38      0.48        48\n",
      "\n",
      "    accuracy                           0.54       139\n",
      "   macro avg       0.56      0.57      0.53       139\n",
      "weighted avg       0.57      0.54      0.53       139\n",
      "\n",
      "Cov-Atlas+(44) 1 0\n",
      "Cov-Atlas+(45) 1 0\n",
      "Cov-Atlas-+(43) 1 0\n",
      "Cov-Atlas-Day+1 2 0\n",
      "Cov-Atlas-Day+2 0 0\n",
      "Cov-Atlas-Day+3 0 0\n",
      "Cov-Atlas-Day+4 0 0\n",
      "Cov-B_ConvexProb_score1 0 0\n",
      "Pneu-grep-pneumonia2 1 1\n",
      "Reg-Atlas 0 2\n",
      "Reg-Atlas-alines 2 2\n",
      "Reg-Atlas-lungcurtain 1 2\n",
      "Reg-Youtube 0 2\n",
      "video accuracy (certainty): 0.46153846153846156\n",
      "video accuracy (majority): 0.46153846153846156\n"
     ]
    }
   ],
   "source": [
    "logits = np.array([model(img) for img in test_data])\n",
    "predIdxs = np.argmax(logits, axis=1)\n",
    "\n",
    "print(\n",
    "classification_report(\n",
    "    gt_class_idx, predIdxs, target_names=classes\n",
    "    )\n",
    ")\n",
    "\n",
    "vid_preds_certainty = average_certainty(logits, gt_class_idx, np.array(test_files))\n",
    "vid_preds_majority = majority_vote(predIdxs, gt_class_idx, np.array(test_files))"
   ]
  },
  {
   "cell_type": "code",
   "execution_count": 49,
   "metadata": {},
   "outputs": [
    {
     "name": "stdout",
     "output_type": "stream",
     "text": [
      "init\n",
      "../trained_models/fold_0/variables/variables\n",
      "Model restored. Class mappings are ['covid', 'pneunomia', 'regular']\n"
     ]
    }
   ],
   "source": [
    "model2 = Evaluator(split=str(i))"
   ]
  },
  {
   "cell_type": "code",
   "execution_count": null,
   "metadata": {},
   "outputs": [],
   "source": []
  }
 ],
 "metadata": {
  "kernelspec": {
   "display_name": "Python 3",
   "language": "python",
   "name": "python3"
  },
  "language_info": {
   "codemirror_mode": {
    "name": "ipython",
    "version": 3
   },
   "file_extension": ".py",
   "mimetype": "text/x-python",
   "name": "python",
   "nbconvert_exporter": "python",
   "pygments_lexer": "ipython3",
   "version": "3.6.10"
  }
 },
 "nbformat": 4,
 "nbformat_minor": 4
}

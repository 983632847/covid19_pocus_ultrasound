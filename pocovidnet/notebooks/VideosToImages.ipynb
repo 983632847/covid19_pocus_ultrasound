{
 "cells": [
  {
   "cell_type": "code",
   "execution_count": 2,
   "metadata": {},
   "outputs": [],
   "source": [
    "import pandas as ps\n",
    "import numpy as np\n",
    "import cv2     # for capturing videos\n",
    "import math   \n",
    "import matplotlib.pyplot as plt\n",
    "%matplotlib inline\n",
    "import pandas as pd\n",
    "import os"
   ]
  },
  {
   "cell_type": "markdown",
   "metadata": {},
   "source": [
    "# New version for video processing"
   ]
  },
  {
   "cell_type": "code",
   "execution_count": 56,
   "metadata": {},
   "outputs": [],
   "source": [
    "video_dir = \"cleaned_data_videos/cropped_data_auto\"\n",
    "out_image_dir = \"cleaned_data_images\"\n",
    "CROSS_VAL_DIR = \"cross_validation_data\""
   ]
  },
  {
   "cell_type": "code",
   "execution_count": 50,
   "metadata": {},
   "outputs": [
    {
     "name": "stdout",
     "output_type": "stream",
     "text": [
      "(array(['Cov', 'Pne', 'Reg', 'pne'], dtype='<U3'), array([39, 10, 11,  4]))\n"
     ]
    }
   ],
   "source": [
    "files = os.listdir(video_dir)\n",
    "labs = [f[:3] for f in files]\n",
    "print(np.unique(labs, return_counts=True))"
   ]
  },
  {
   "cell_type": "markdown",
   "metadata": {},
   "source": [
    "### Make directories"
   ]
  },
  {
   "cell_type": "code",
   "execution_count": 49,
   "metadata": {},
   "outputs": [],
   "source": [
    "# make directories:\n",
    "if not os.path.exists(out_image_dir):\n",
    "    os.makedirs(out_image_dir)\n",
    "if not os.path.exists(CROSS_VAL_DIR):\n",
    "    os.makedirs(CROSS_VAL_DIR)   \n",
    "for mod in [\"covid\", \"pneumonia\", \"regular\"]:\n",
    "    if not os.path.exists(os.path.join(out_image_dir, mod)):\n",
    "        os.makedirs(os.path.join(out_image_dir, mod))"
   ]
  },
  {
   "cell_type": "markdown",
   "metadata": {},
   "source": [
    "## Videos to images - automatically select every x frame\n",
    "\n",
    "Takes all videos from video_dir and writes the frames to out_image_dir"
   ]
  },
  {
   "cell_type": "code",
   "execution_count": 54,
   "metadata": {},
   "outputs": [],
   "source": [
    "# SET FRAMERATE\n",
    "FRAMERATE = 3 # saves automatically 2 frames per second\n",
    "MAX_FRAMES = 30"
   ]
  },
  {
   "cell_type": "code",
   "execution_count": 58,
   "metadata": {
    "scrolled": true
   },
   "outputs": [
    {
     "name": "stdout",
     "output_type": "stream",
     "text": [
      "Reg-Butterfly.mpeg framerate 25.0 width 490.0 height 536.0 number frames: 11.0\n",
      "--> taking every  8 th image\n",
      "cleaned_data_images/regular/Reg-Butterfly.mpeg_frame0.jpg\n",
      "cleaned_data_images/regular/Reg-Butterfly.mpeg_frame1.jpg\n",
      "cleaned_data_images/regular/Reg-Butterfly.mpeg_frame2.jpg\n",
      "cleaned_data_images/regular/Reg-Butterfly.mpeg_frame3.jpg\n",
      "cleaned_data_images/regular/Reg-Butterfly.mpeg_frame4.jpg\n",
      "cleaned_data_images/regular/Reg-Butterfly.mpeg_frame5.jpg\n",
      "cleaned_data_images/regular/Reg-Butterfly.mpeg_frame6.jpg\n",
      "cleaned_data_images/regular/Reg-Butterfly.mpeg_frame7.jpg\n",
      "cleaned_data_images/regular/Reg-Butterfly.mpeg_frame8.jpg\n",
      "cleaned_data_images/regular/Reg-Butterfly.mpeg_frame9.jpg\n",
      "cleaned_data_images/regular/Reg-Butterfly.mpeg_frame10.jpg\n"
     ]
    }
   ],
   "source": [
    "vid_files = os.listdir(video_dir)\n",
    "for i in range(len(vid_files)):\n",
    "    \n",
    "    # skip unnecessary files\n",
    "    if vid_files[i][0]==\".\":\n",
    "        # DStore etc\n",
    "        continue\n",
    "    \n",
    "    # define video path\n",
    "    # print(\"video\", vid_files[i], \"number \",i, \"out of \", len(vid_files))\n",
    "    video_path = os.path.join(video_dir, vid_files[i])\n",
    "    \n",
    "    # determine label\n",
    "    if vid_files[i][:3]==\"Cov\":\n",
    "        label = \"covid\"\n",
    "    elif vid_files[i][:3]==\"Pne\" or vid_files[i][:3]==\"pne\":\n",
    "        label = \"pneumonia\"\n",
    "    elif vid_files[i][:3]==\"Reg\":\n",
    "        label = \"regular\"\n",
    "    else:\n",
    "        raise ValueError(\"Wrong label! \"+ vid_files[i])\n",
    "    out_path = os.path.join(out_image_dir, label)\n",
    "    \n",
    "    # copy if image\n",
    "    if vid_files[i][-3:]==\"jpg\" or vid_files[i][-3:]==\"png\":\n",
    "        shutil.copy(video_path, out_path)\n",
    "        continue\n",
    "    \n",
    "    # read and write if video\n",
    "    cap = cv2.VideoCapture(video_path)   # capturing the video from the given path\n",
    "    frameRate = cap.get(5) #frame rate\n",
    "    # num_frames = cap.get(7)\n",
    "    every_x_image = int(frameRate/FRAMERATE)\n",
    "    print(vid_files[i], \"framerate\", cap.get(5),\"width\", cap.get(3), \"height\", cap.get(4), \"number frames:\", cap.get(7))\n",
    "    print(\"--> taking every \", every_x_image, \"th image\")\n",
    "    x=1\n",
    "    nr_selected = 0\n",
    "    while cap.isOpened() and nr_selected<MAX_FRAMES:\n",
    "        frameId = cap.get(1) #current frame number\n",
    "        ret, frame = cap.read()\n",
    "        if (ret != True):\n",
    "            break\n",
    "        if (frameId % every_x_image == 0):\n",
    "            # storing the frames in a new folder named test_1\n",
    "            filename = os.path.join(out_path, vid_files[i] +\"_frame%d.jpg\" % frameId)\n",
    "            cv2.imwrite(filename, frame)\n",
    "            nr_selected += 1\n",
    "            print(filename)\n",
    "    cap.release()"
   ]
  },
  {
   "cell_type": "markdown",
   "metadata": {},
   "source": [
    "# Script to select frames manually from one video"
   ]
  },
  {
   "cell_type": "code",
   "execution_count": 1,
   "metadata": {},
   "outputs": [],
   "source": [
    "# define video path (ONE VIDEO)\n",
    "video_path = \"cleaned_data_videos/cropped_data_manual/Reg-Butterfly.mp4\"\n",
    "# define where to save outputs\n",
    "out_image_dir = \"cleaned_data_images\"\n",
    "# how many frames do you want to check?\n",
    "check_every = 2 # displays every second frame\n",
    "out_name = \"Reg-Butterfly.mp4\""
   ]
  },
  {
   "cell_type": "code",
   "execution_count": null,
   "metadata": {
    "scrolled": false
   },
   "outputs": [],
   "source": [
    "# make subdirectories if they don't exist\n",
    "for mod in [\"covid\", \"pneunomia\", \"regular\"]:\n",
    "    if not os.path.exists(os.path.join(out_image_dir, mod)):\n",
    "        os.makedirs(os.path.join(out_image_dir, mod))\n",
    "\n",
    "# out_name = \"Cov-MSU-COVID Lung 2-Blines.mp4\"\n",
    "\n",
    "# determine label\n",
    "if out_name[:3]==\"Cov\":\n",
    "    label = \"covid\"\n",
    "elif out_name[:3]==\"Pne\" or vid_files[i][:3]==\"pne\":\n",
    "    label = \"pneunomia\"\n",
    "elif out_name[:3]==\"Reg\":\n",
    "    label = \"regular\"\n",
    "else:\n",
    "    raise ValueError(\"Wrong label! \"+ vid_files[i])\n",
    "# Final outpath: out directory plus the label\n",
    "out_path = os.path.join(out_image_dir, label)\n",
    "\n",
    "# read and write if frame is selected\n",
    "cap = cv2.VideoCapture(video_path)   # capturing the video from the given path\n",
    "decision=0\n",
    "n_frames = cap.get(7)\n",
    "selected_frames = []\n",
    "while cap.isOpened() and decision!=2:\n",
    "    frameId = cap.get(1) #current frame number\n",
    "    ret, frame = cap.read()\n",
    "    if (ret != True):\n",
    "        break\n",
    "    # only display every x frames (more diverse, not as much work)\n",
    "    if frameId>46 and frameId%check_every==0:\n",
    "        print(\"already selected \", len(selected_frames), \"frames\")\n",
    "        if len(selected_frames)>0:\n",
    "             print(\"last selected was frame\", selected_frames[-1])\n",
    "        # display image\n",
    "        plt.imshow(frame)\n",
    "        plt.title(\"Frame \"+str(frameId)+\" out of \"+str(n_frames))\n",
    "        plt.show()\n",
    "        decision = int(input(\"Take image? (No:0, Yes:1, Stop:2)  \"))\n",
    "        if decision==1:\n",
    "            # storing the frames in a new folder named test_1\n",
    "            filename = os.path.join(out_path, out_name +\"_frame%d.jpg\" % frameId)\n",
    "            cv2.imwrite(filename, frame)\n",
    "            selected_frames.append(frameId)\n",
    "cap.release()"
   ]
  },
  {
   "cell_type": "code",
   "execution_count": null,
   "metadata": {},
   "outputs": [],
   "source": [
    "fp = \"/Users/ninawiedemann/Desktop/Projects/covid19_pocus_ultrasound.nosync/data/pocus/cleaned_data_images_backup/covid/test\"\n",
    "img = cv."
   ]
  },
  {
   "cell_type": "markdown",
   "metadata": {},
   "source": [
    "# Images to video"
   ]
  },
  {
   "cell_type": "code",
   "execution_count": 5,
   "metadata": {},
   "outputs": [],
   "source": [
    "from skvideo import io"
   ]
  },
  {
   "cell_type": "code",
   "execution_count": 34,
   "metadata": {},
   "outputs": [],
   "source": [
    "path = \"cleaned_data_videos/new_Marion/covid\"\n",
    "fn = \"Cov-Butterfly-Irregular Pleura with Multip.mp4\" # _frame0.jpg\"\n",
    "out_path = \"cleaned_data_videos/cropped_data_manual_cleaned\"\n"
   ]
  },
  {
   "cell_type": "code",
   "execution_count": 35,
   "metadata": {},
   "outputs": [],
   "source": [
    "file_list = []\n",
    "for frame in os.listdir(path):\n",
    "    if frame.startswith(fn):\n",
    "        file_list.append(os.path.join(path, frame))"
   ]
  },
  {
   "cell_type": "code",
   "execution_count": 36,
   "metadata": {},
   "outputs": [
    {
     "data": {
      "text/plain": [
       "(29, 1080, 1080, 3)"
      ]
     },
     "execution_count": 36,
     "metadata": {},
     "output_type": "execute_result"
    }
   ],
   "source": [
    "# Define the codec and create VideoWriter object\n",
    "\n",
    "arr = []\n",
    "for frame in file_list:\n",
    "    # ret, frame = cap.read()\n",
    "    arr.append(cv2.imread(frame))\n",
    "arr = np.array(arr)\n",
    "# Release everything if job is finished\n",
    "# cv2.destroyAllWindows()\n",
    "arr.shape"
   ]
  },
  {
   "cell_type": "code",
   "execution_count": 37,
   "metadata": {},
   "outputs": [],
   "source": [
    "io.vwrite(os.path.join(out_path, fn[:-4]+\".mpeg\"), arr, outputdict={\"-vcodec\":\"mpeg2video\"})"
   ]
  },
  {
   "cell_type": "markdown",
   "metadata": {},
   "source": [
    "# Video dataset - Previous version"
   ]
  },
  {
   "cell_type": "code",
   "execution_count": null,
   "metadata": {},
   "outputs": [],
   "source": [
    "from tqdm import tqdm"
   ]
  },
  {
   "cell_type": "code",
   "execution_count": 5,
   "metadata": {},
   "outputs": [],
   "source": [
    "import os\n",
    "path='enter your path\\'\n",
    "\n",
    "#Train\n",
    "videos_train=os.listdir(path+'train\\\\')\n",
    "train = pd.DataFrame()\n",
    "train['video_name'] = videos_train\n",
    "train = train[:-1]\n",
    "\n",
    "#Test\n",
    "videos_test=os.listdir(path+'test\\\\')\n",
    "test = pd.DataFrame()\n",
    "test['video_name'] = videos_test\n",
    "test = test[:-1]\n"
   ]
  },
  {
   "cell_type": "code",
   "execution_count": 4,
   "metadata": {},
   "outputs": [
    {
     "name": "stdout",
     "output_type": "stream",
     "text": [
      "25.0 295.0\n"
     ]
    }
   ],
   "source": [
    "# storing the frames from training videos\n",
    "fn = \"cleaned_data_videos/cropped_data_auto/Cov-clarius3.mp4\"\n",
    "count = 0\n",
    "cap = cv2.VideoCapture(fn)   # capturing the video from the given path\n",
    "frameRate = cap.get(5) #frame rate\n",
    "num = cap.get(7)\n",
    "x=1\n",
    "print(frameRate, num)\n",
    "\n",
    "cap.release()\n",
    "    \n"
   ]
  },
  {
   "cell_type": "code",
   "execution_count": 5,
   "metadata": {},
   "outputs": [
    {
     "data": {
      "text/plain": [
       "300"
      ]
     },
     "execution_count": 5,
     "metadata": {},
     "output_type": "execute_result"
    }
   ],
   "source": [
    "25 * 12"
   ]
  },
  {
   "cell_type": "code",
   "execution_count": 82,
   "metadata": {},
   "outputs": [
    {
     "name": "stderr",
     "output_type": "stream",
     "text": [
      "100%|██████████████████████████████████████████████████████████████████████████████████| 11/11 [00:06<00:00,  1.76it/s]\n"
     ]
    }
   ],
   "source": [
    "# storing the frames from testing videos\n",
    "for i in tqdm(range(test.shape[0])):\n",
    "    count = 0\n",
    "    videoFile = test['video_name'][i]\n",
    "    cap = cv2.VideoCapture(path+'test\\\\'+videoFile)   # capturing the video from the given path\n",
    "    frameRate = cap.get(5) #frame rate\n",
    "    x=1\n",
    "    while(cap.isOpened()):\n",
    "        frameId = cap.get(1) #current frame number\n",
    "        ret, frame = cap.read()\n",
    "        if (ret != True):\n",
    "            break\n",
    "        if (frameId % math.floor(frameRate) == 0):\n",
    "            # storing the frames in a new folder named test_1\n",
    "            filename =path+'test_1/' + videoFile +\"_frame%d.jpg\" % count;count+=1\n",
    "            cv2.imwrite(filename, frame)\n",
    "    cap.release()"
   ]
  },
  {
   "cell_type": "markdown",
   "metadata": {},
   "source": [
    "## 10 fold cross validation"
   ]
  },
  {
   "cell_type": "code",
   "execution_count": 3,
   "metadata": {},
   "outputs": [
    {
     "data": {
      "text/plain": [
       "['Pneu-Atlas-pneumonia2.gif',\n",
       " 'Pneu-Atlas-pneumonia.gif',\n",
       " 'Reg-Atlas-lungcurtain.gif',\n",
       " 'Reg-Butterfly.mp4',\n",
       " 'Cov-Atlas+(45).gif',\n",
       " 'Cov-Butterfly-COVID Skip Lesion.mp4',\n",
       " 'Reg-Youtube.mp4',\n",
       " 'Pneu-grep-pneumonia4.mp4',\n",
       " 'Pneu-grep-pneumonia1.mp4',\n",
       " 'pneu-everyday.gif',\n",
       " 'Cov-MSU-COVID Lung 2-Blines.mp4',\n",
       " 'Pneu-grep-pneumonia2.mp4',\n",
       " 'pneu-gred-6.gif',\n",
       " 'Cov-Atlas+(44).gif',\n",
       " 'Cov-clarius.gif',\n",
       " 'Reg-bcpocus.gif',\n",
       " 'Cov-Atlas-Day+4.gif',\n",
       " 'Reg-Atlas.gif',\n",
       " 'Cov-Butterfly-COVID Lung 2.mp4',\n",
       " 'Reg-NormalLungs.mp4',\n",
       " 'pneu-radiopaeda.mp4',\n",
       " 'Cov-Atlas-Day+2.gif',\n",
       " 'Cov-grepmed-blines-pocus-.mp4',\n",
       " 'Cov-grepmed3.mp4',\n",
       " 'Cov-grepmed2.mp4']"
      ]
     },
     "execution_count": 3,
     "metadata": {},
     "output_type": "execute_result"
    }
   ],
   "source": [
    "import os\n",
    "os.listdir(\"train\")"
   ]
  },
  {
   "cell_type": "code",
   "execution_count": 4,
   "metadata": {},
   "outputs": [
    {
     "data": {
      "text/plain": [
       "['Reg-Grep-Normal.gif',\n",
       " 'Cov-Atlas-+(43).gif',\n",
       " 'Cov-B_ConvexProb_score1.jpg',\n",
       " 'Cov-C_Convex_Prob_score2.jpg',\n",
       " 'Reg-nephropocus.mp4',\n",
       " 'Cov-D_Convex_Prob_score3.jpg',\n",
       " 'pneu-gred-7.gif',\n",
       " 'Pneu-Atlas-pneumonia-AirBronch.gif',\n",
       " 'Pneu-grep-pneumonia3.mp4',\n",
       " 'Reg-Grep-Alines.mp4',\n",
       " 'Cov-MSU-SkipLesions.mp4',\n",
       " 'Cov-C_ConvexProb_score3.jpg',\n",
       " 'Reg-Atlas-alines.gif',\n",
       " 'Cov-Butterfly-COVID Lung 1.mp4',\n",
       " 'Cov-Atlas-Day+1.gif',\n",
       " 'Cov-Atlas-Day+3.gif']"
      ]
     },
     "execution_count": 4,
     "metadata": {},
     "output_type": "execute_result"
    }
   ],
   "source": [
    "os.listdir(\"test\")"
   ]
  },
  {
   "cell_type": "code",
   "execution_count": null,
   "metadata": {},
   "outputs": [],
   "source": []
  }
 ],
 "metadata": {
  "kernelspec": {
   "display_name": "Python 3",
   "language": "python",
   "name": "python3"
  },
  "language_info": {
   "codemirror_mode": {
    "name": "ipython",
    "version": 3
   },
   "file_extension": ".py",
   "mimetype": "text/x-python",
   "name": "python",
   "nbconvert_exporter": "python",
   "pygments_lexer": "ipython3",
   "version": "3.6.10"
  }
 },
 "nbformat": 4,
 "nbformat_minor": 2
}

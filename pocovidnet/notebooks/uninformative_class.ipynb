{
 "cells": [
  {
   "cell_type": "code",
   "execution_count": 4,
   "metadata": {},
   "outputs": [],
   "source": [
    "import shutil\n",
    "import numpy as np\n",
    "import os"
   ]
  },
  {
   "cell_type": "code",
   "execution_count": 27,
   "metadata": {},
   "outputs": [],
   "source": [
    "imagenet_dir = \"/Users/ninawiedemann/Desktop/Projects/data_pocovid/tiny-imagenet-200/train\"\n",
    "nerve_segment_dir = \"/Users/ninawiedemann/Desktop/Projects/data_pocovid/test\"\n",
    "out_dir = \"/Users/ninawiedemann/Desktop/Projects/data_pocovid/uniform_class_imagenet\"\n",
    "out_dir_nerves = \"/Users/ninawiedemann/Desktop/Projects/data_pocovid/uniform_class_nerves\""
   ]
  },
  {
   "cell_type": "markdown",
   "metadata": {},
   "source": [
    "### Copy data from imagenet"
   ]
  },
  {
   "cell_type": "code",
   "execution_count": 21,
   "metadata": {},
   "outputs": [],
   "source": [
    "n_per_class = 3\n",
    "for img_class in os.listdir(imagenet_dir):\n",
    "    if img_class[0]==\".\":\n",
    "        continue\n",
    "    class_path = os.path.join(imagenet_dir, img_class, \"images\")\n",
    "    # print(class_path)\n",
    "    class_files = np.array(os.listdir(class_path))\n",
    "    inds = np.random.permutation(len(class_files))[:n_per_class]\n",
    "    for chosen_file in class_files[inds]:\n",
    "        # print(os.path.join(class_path, chosen_file))\n",
    "        shutil.copy(os.path.join(class_path, chosen_file), out_dir)"
   ]
  },
  {
   "cell_type": "markdown",
   "metadata": {},
   "source": [
    "### copy data from nerve segmentation"
   ]
  },
  {
   "cell_type": "code",
   "execution_count": 11,
   "metadata": {},
   "outputs": [],
   "source": [
    "from PIL import Image"
   ]
  },
  {
   "cell_type": "code",
   "execution_count": 22,
   "metadata": {},
   "outputs": [],
   "source": [
    "n_nerves = 400\n",
    "all_tifs = np.array(os.listdir(nerve_segment_dir))\n",
    "inds = np.random.permutation(len(all_tifs))[:n_nerves]\n",
    "chosen_files = all_tifs[inds]"
   ]
  },
  {
   "cell_type": "code",
   "execution_count": 23,
   "metadata": {},
   "outputs": [],
   "source": [
    "for fn in chosen_files:\n",
    "    infile = os.path.join(nerve_segment_dir, fn)\n",
    "    if fn[-3:] == \"tif\":\n",
    "        outfile = os.path.join(out_dir, fn[:-3] + \"jpeg\")\n",
    "        im = Image.open(infile)\n",
    "        out = im.convert(\"RGB\")\n",
    "        out.save(outfile, \"JPEG\", quality=90)"
   ]
  },
  {
   "cell_type": "markdown",
   "metadata": {},
   "source": [
    "### Add data to cross validation split"
   ]
  },
  {
   "cell_type": "code",
   "execution_count": 31,
   "metadata": {},
   "outputs": [],
   "source": [
    "SPLIT = 5"
   ]
  },
  {
   "cell_type": "code",
   "execution_count": 28,
   "metadata": {},
   "outputs": [],
   "source": [
    "files_imagenet = os.listdir(out_dir)\n",
    "files_nerves = os.listdir(out_dir_nerves)"
   ]
  },
  {
   "cell_type": "code",
   "execution_count": 33,
   "metadata": {},
   "outputs": [],
   "source": [
    "crossval_dir = \"/Users/ninawiedemann/Desktop/Projects/data_pocovid/cross_validation\""
   ]
  },
  {
   "cell_type": "code",
   "execution_count": 40,
   "metadata": {},
   "outputs": [],
   "source": [
    "nr_each = len(files_nerves)//SPLIT\n",
    "for i in range(SPLIT):\n",
    "    fold_dir = os.path.join(crossval_dir, \"split\"+str(i), \"uninformative\")\n",
    "    if not os.path.exists(fold_dir):\n",
    "        os.makedirs(fold_dir)\n",
    "    copy_files_imagenet = files_imagenet[i*nr_each:(i+1)*nr_each]\n",
    "    copy_files_nerves = files_nerves[i*nr_each:(i+1)*nr_each]\n",
    "    #print(len(copy_files))\n",
    "    for c in copy_files_imagenet:\n",
    "        shutil.copy(os.path.join(out_dir, c), fold_dir)\n",
    "    for c in copy_files_nerves:\n",
    "        shutil.copy(os.path.join(out_dir_nerves, c), fold_dir)"
   ]
  },
  {
   "cell_type": "code",
   "execution_count": null,
   "metadata": {},
   "outputs": [],
   "source": []
  }
 ],
 "metadata": {
  "kernelspec": {
   "display_name": "Python 3",
   "language": "python",
   "name": "python3"
  },
  "language_info": {
   "codemirror_mode": {
    "name": "ipython",
    "version": 3
   },
   "file_extension": ".py",
   "mimetype": "text/x-python",
   "name": "python",
   "nbconvert_exporter": "python",
   "pygments_lexer": "ipython3",
   "version": "3.8.2"
  }
 },
 "nbformat": 4,
 "nbformat_minor": 4
}

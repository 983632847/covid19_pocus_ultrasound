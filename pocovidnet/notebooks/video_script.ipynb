{
 "cells": [
  {
   "cell_type": "code",
   "execution_count": 1,
   "metadata": {},
   "outputs": [],
   "source": [
    "import cv2\n",
    "import numpy as np\n",
    "import matplotlib.pyplot as plt\n",
    "import json\n",
    "import os\n",
    "import pandas as pd"
   ]
  },
  {
   "cell_type": "code",
   "execution_count": 2,
   "metadata": {},
   "outputs": [],
   "source": [
    "data_table_path = \"../../data/pocovid_data.csv\"\n",
    "data_path = \"/Users/ninawiedemann/Desktop/COVID Clinical Gallery Butterfly Network/\" # os.path.join(\"\", ) # TODO: download into data directory\n",
    "FRAMERATE = 3 # saves automatically 3 frames per second\n",
    "MAX_FRAMES = 30\n",
    "OUT_DIR = \"../../data/butterfly/images\"\n",
    "del_upper = 100"
   ]
  },
  {
   "cell_type": "code",
   "execution_count": null,
   "metadata": {},
   "outputs": [],
   "source": [
    "import argparse\n",
    "parser = argparse.ArgumentParser()\n",
    "parser.add_argument('-data', type=str, default=\"butterfly\")\n",
    "parser.add_argument('-out', type=str, default=\"out_images\") # TODO\n",
    "parser.add_argument('-fr', help=\"framerate - at how much Hz to sample\", type=int, default=3)\n",
    "parser.add_argument('-max', help=\"maximum of frames to sample from one video\", type=int, default=30)\n",
    "args = parser.parse_args()"
   ]
  },
  {
   "cell_type": "code",
   "execution_count": 3,
   "metadata": {},
   "outputs": [],
   "source": [
    "def get_paths(data_table_path):\n",
    "    data_table = pd.read_csv(data_table_path)\n",
    "    butterfly = data_table[\"Filename\"].values\n",
    "    butterfly = [b for b in butterfly if \"utterfly\" in b]\n",
    "    actual_names = [b.split(\"Butterfly-\")[-1] for b in butterfly]\n",
    "    labels = [b[:3] for b in butterfly]\n",
    "    return actual_names, labels"
   ]
  },
  {
   "cell_type": "code",
   "execution_count": 5,
   "metadata": {},
   "outputs": [],
   "source": [
    "def get_processing_info(data_path,  actual_names, labels):\n",
    "    \"\"\"\n",
    "    Iterates over the downloaded data and checks which one is in our database\n",
    "    Returns:\n",
    "        files_to_process: List of file paths to videos\n",
    "        labs_to_process: list of same length with corresponding labels\n",
    "    \"\"\"\n",
    "    files_to_process = []\n",
    "    labs_to_process = []\n",
    "    for img_type in os.listdir(data_path):\n",
    "        if img_type[0]==\".\":\n",
    "            continue\n",
    "        # img_type is B-lines, cardiac etc\n",
    "        for vid in os.listdir(os.path.join(data_path, img_type)):\n",
    "            # print(vid)\n",
    "            if vid in actual_names:\n",
    "                full_path = os.path.join(data_path, img_type, vid)\n",
    "                files_to_process.append(full_path)\n",
    "                ind = actual_names.index(vid)\n",
    "                labs_to_process.append(labels[ind])\n",
    "    return files_to_process, labs_to_process\n",
    "\n",
    "def makedirs(out_dir):\n",
    "    for mod in [\"covid\", \"pneumonia\", \"regular\"]:\n",
    "        if not os.path.exists(os.path.join(out_dir, mod)):\n",
    "            os.makedirs(os.path.join(out_dir, mod))\n",
    "        \n",
    "def label_to_dir(lab):\n",
    "    if lab==\"Cov\":\n",
    "        label = \"covid\"\n",
    "    elif lab==\"Pne\" or lab==\"pne\":\n",
    "        label = \"pneumonia\"\n",
    "    elif lab==\"Reg\":\n",
    "        label = \"regular\"\n",
    "    else:\n",
    "        raise ValueError(\"Wrong label! \"+ vid_files[i])\n",
    "    return label"
   ]
  },
  {
   "cell_type": "markdown",
   "metadata": {},
   "source": [
    "## Run"
   ]
  },
  {
   "cell_type": "code",
   "execution_count": 7,
   "metadata": {},
   "outputs": [],
   "source": [
    "actual_names, labels = get_paths(data_table_path)\n",
    "# manually add the ones which I know are in the data\n",
    "actual_names.extend([\"Confluent B lines.mp4\", \"Skip Lesion.mp4\"])\n",
    "labels.extend([\"Cov\", \"Cov\"])\n",
    "files_to_process, labs_to_process = get_processing_info(data_path,  actual_names, labels)\n",
    "makedirs(OUT_DIR)"
   ]
  },
  {
   "cell_type": "code",
   "execution_count": 13,
   "metadata": {
    "scrolled": true
   },
   "outputs": [
    {
     "name": "stdout",
     "output_type": "stream",
     "text": [
      "PROCESS Patchy B lines with Sparing.mp4 Cov framerate 21 width 880.0 height 1080.0 number frames: 109.0\n",
      "Selected 16 frames\n",
      "PROCESS Confluent B lines_Example 2.mp4 Cov framerate 19 width 1928.0 height 1080.0 number frames: 91.0\n",
      "Selected 15 frames\n",
      "PROCESS Confluent B lines.mp4 Cov framerate 30 width 720.0 height 1236.0 number frames: 818.0\n",
      "Selected 16 frames\n",
      "PROCESS Coalescing B lines.mp4 Cov framerate 19 width 880.0 height 1080.0 number frames: 65.0\n",
      "Selected 11 frames\n",
      "PROCESS Skip Lesion.mp4 Cov framerate 30 width 720.0 height 1236.0 number frames: 1306.0\n",
      "Selected 30 frames\n",
      "PROCESS Consolidation_Example 5.mp4 Cov framerate 20 width 624.0 height 1080.0 number frames: 114.0\n",
      "Selected 19 frames\n",
      "PROCESS Consolidation_Example 3.mp4 Cov framerate 19 width 1928.0 height 1080.0 number frames: 80.0\n",
      "Selected 14 frames\n",
      "PROCESS Consolidation_Example 2.mp4 Cov framerate 21 width 880.0 height 1080.0 number frames: 109.0\n",
      "Selected 16 frames\n",
      "PROCESS Consolidation.mp4 Cov framerate 19 width 880.0 height 1080.0 number frames: 126.0\n",
      "Selected 21 frames\n",
      "PROCESS Subpleural Basal Consolidation_Example 2.mp4 Cov framerate 22 width 880.0 height 1080.0 number frames: 92.0\n",
      "Selected 13 frames\n",
      "PROCESS Subpleural Basal Consolidation.mp4 Cov framerate 21 width 880.0 height 1080.0 number frames: 111.0\n",
      "Selected 16 frames\n",
      "PROCESS Consolidation with Air Bronchograms.mp4 Cov framerate 30 width 720.0 height 1236.0 number frames: 641.0\n",
      "Selected 18 frames\n",
      "PROCESS Irregular Pleural Line_Example 2.mp4 Cov framerate 20 width 880.0 height 1080.0 number frames: 81.0\n",
      "Selected 14 frames\n",
      "PROCESS Irregular Pleura and Coalescent B-lines.mp4 Cov framerate 19 width 880.0 height 1080.0 number frames: 104.0\n",
      "Selected 18 frames\n",
      "PROCESS Irregular Pleural Line.mp4 Cov framerate 21 width 880.0 height 1080.0 number frames: 102.0\n",
      "Selected 15 frames\n",
      "PROCESS Irregular Pleura with Confluent B-lines.mp4 Cov framerate 19 width 1928.0 height 1080.0 number frames: 88.0\n",
      "Selected 0 frames\n",
      "PROCESS Irregular Pleura with Trace Effusion.mp4 Cov framerate 19 width 1928.0 height 1080.0 number frames: 77.0\n",
      "Selected 13 frames\n",
      "PROCESS Irregular Pleura with Multiple B lines.mp4 Cov framerate 30 width 720.0 height 1236.0 number frames: 700.0\n",
      "Selected 26 frames\n"
     ]
    }
   ],
   "source": [
    "# read and write if frame is selected\n",
    "for i in range(len(files_to_process)): # 1,2): # \n",
    "    fp = files_to_process[i]\n",
    "    fn = fp.split(os.sep)[-1]\n",
    "    cap = cv2.VideoCapture(fp)   # capturing the video from the given path\n",
    "    # frame rate\n",
    "    n_frames = cap.get(7)\n",
    "    frameRate = cap.get(5)\n",
    "    every_x_image = int(frameRate/FRAMERATE)\n",
    "    out_path = os.path.join(OUT_DIR, label_to_dir(labs_to_process[i]))\n",
    "    print(\"PROCESS\", fn, labs_to_process[i], \"framerate\", int(cap.get(5)),\"width\", cap.get(3), \"height\", cap.get(4), \"number frames:\", cap.get(7))\n",
    "    \n",
    "    nr_selected = 0\n",
    "    while cap.isOpened() and nr_selected<MAX_FRAMES:\n",
    "        frameId = cap.get(1) # current frame number\n",
    "        ret, frame = cap.read()\n",
    "        if (ret != True):\n",
    "            break        \n",
    "        \n",
    "        frame = np.asarray(frame).astype(int)\n",
    "        # width_box = np.min(frame.shape[:2])\n",
    "        # crop\n",
    "        width_border =  int(cap.get(3) * 0.15)\n",
    "        width_box =  int(cap.get(3)) - 2*width_border\n",
    "        frame = frame[del_upper:width_box+del_upper, width_border:width_box+width_border]\n",
    "        # frame = frame[width_border:width_box+width_border]\n",
    "        # detect green point\n",
    "        green_point = frame[:,:,1] - frame[:,:,0]\n",
    "        # delete blue symbol\n",
    "        blue_symbol = np.where(green_point<-50)\n",
    "        frame[blue_symbol] = frame[0,0]\n",
    "        # delete green symbol\n",
    "        if np.any(green_point>235):\n",
    "            green_symbol = np.where(green_point>50)\n",
    "            frame[green_symbol] = frame[0,0]\n",
    "        # leave out moving green points\n",
    "        elif np.any(green_point>100):\n",
    "            continue\n",
    "        \n",
    "        # SAVE\n",
    "        if (frameId % every_x_image == 0):\n",
    "            # storing the frames in a new folder named test_1\n",
    "            filename = os.path.join(out_path, fn +\"_frame%d.jpg\" % frameId)\n",
    "            cv2.imwrite(filename, frame)\n",
    "            nr_selected += 1\n",
    "    print(\"Selected\", nr_selected, \"frames\")\n",
    "    cap.release()"
   ]
  },
  {
   "cell_type": "code",
   "execution_count": 42,
   "metadata": {},
   "outputs": [
    {
     "data": {
      "image/png": "[encoded data removed]",
      "text/plain": [
       "<Figure size 432x288 with 1 Axes>"
      ]
     },
     "metadata": {
      "needs_background": "light"
     },
     "output_type": "display_data"
    }
   ],
   "source": [
    "red_col = frame[:,:,0] - 0.5*(frame[:,:,1] - frame[:,:,2]) # get only the point in the corner\n",
    "green_point = frame[:,:,1] - 0.5*(frame[:,:,0] - frame[:,:,2])\n",
    "plt.imshow(green_point)\n",
    "plt.show()"
   ]
  },
  {
   "cell_type": "markdown",
   "metadata": {},
   "source": [
    "# NOTES\n",
    "\n",
    "COVID Lung 1 = Confluent B lines in folder\n",
    "\n",
    "In our data but not in the zip:\n",
    "'COVID Skip Lesion.mp4',\n",
    " 'COVID Lung 1.mp4',\n",
    " 'COVID Lung 2.mp4',\n",
    " 'Butterfly.mp4',\n",
    " '2.mp4',"
   ]
  },
  {
   "cell_type": "code",
   "execution_count": 65,
   "metadata": {},
   "outputs": [
    {
     "data": {
      "text/plain": [
       "['Cov-Butterfly-COVID Skip Lesion.mp4',\n",
       " 'Cov-Butterfly-COVID Lung 1.mp4',\n",
       " 'Cov-Butterfly-COVID Lung 2.mp4',\n",
       " 'Reg-Butterfly.mp4',\n",
       " 'Reg-Butterfly-2.mp4',\n",
       " 'Cov-Butterfly-Coalescing B lines.mp4',\n",
       " 'Cov-Butterfly-Confluent B lines_Example 2.mp4',\n",
       " 'Cov-Butterfly-Consolidation with Air Bronchograms.mp4',\n",
       " 'Cov-Butterfly-Consolidation.mp4',\n",
       " 'Cov-Butterfly-Consolidation_Example 2.mp4',\n",
       " 'Cov-Butterfly-Consolidation_Example 3.mp4',\n",
       " 'Cov-Butterfly-Consolidation_Example 5.mp4',\n",
       " 'Cov-Butterfly-Irregular Pleura and Coalescent B-lines.mp4',\n",
       " 'Cov-Butterfly-Irregular Pleura with Confluent B-lines.mp4',\n",
       " 'Cov-Butterfly-Irregular Pleura with Multiple B lines.mp4',\n",
       " 'Cov-Butterfly-Irregular Pleura with Trace Effusion.mp4',\n",
       " 'Cov-Butterfly-Irregular Pleural Line.mp4',\n",
       " 'Cov-Butterfly-Irregular Pleural Line_Example 2.mp4',\n",
       " 'Cov-Butterfly-Patchy B lines with Sparing.mp4',\n",
       " 'Cov-Butterfly-Subpleural Basal Consolidation.mp4',\n",
       " 'Cov-Butterfly-Subpleural Basal Consolidation_Example 2.mp4']"
      ]
     },
     "execution_count": 65,
     "metadata": {},
     "output_type": "execute_result"
    }
   ],
   "source": [
    "butterfly"
   ]
  },
  {
   "cell_type": "code",
   "execution_count": null,
   "metadata": {},
   "outputs": [],
   "source": []
  }
 ],
 "metadata": {
  "kernelspec": {
   "display_name": "Python 3",
   "language": "python",
   "name": "python3"
  },
  "language_info": {
   "codemirror_mode": {
    "name": "ipython",
    "version": 3
   },
   "file_extension": ".py",
   "mimetype": "text/x-python",
   "name": "python",
   "nbconvert_exporter": "python",
   "pygments_lexer": "ipython3",
   "version": "3.6.10"
  }
 },
 "nbformat": 4,
 "nbformat_minor": 4
}

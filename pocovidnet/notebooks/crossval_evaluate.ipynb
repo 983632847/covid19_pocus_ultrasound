{
 "cells": [
  {
   "cell_type": "code",
   "execution_count": 17,
   "metadata": {},
   "outputs": [],
   "source": [
    "import os\n",
    "import numpy as np\n",
    "import cv2\n",
    "from imutils import paths\n",
    "from sklearn.metrics import accuracy_score\n",
    "from sklearn.metrics import classification_report, confusion_matrix\n",
    "import matplotlib.pyplot as plt\n",
    "from scipy import stats\n",
    "import pickle\n",
    "import pandas as pd\n",
    "import seaborn as sn\n",
    "\n",
    "from sklearn.metrics import accuracy_score, balanced_accuracy_score, precision_score, recall_score"
   ]
  },
  {
   "cell_type": "code",
   "execution_count": 2,
   "metadata": {
    "scrolled": true
   },
   "outputs": [],
   "source": [
    "from pocovidnet.evaluate_covid19 import Evaluator"
   ]
  },
  {
   "cell_type": "markdown",
   "metadata": {},
   "source": [
    "### Functions for prediction of video label"
   ]
  },
  {
   "cell_type": "code",
   "execution_count": 33,
   "metadata": {},
   "outputs": [],
   "source": [
    "def majority_vote(preds, gt, vid_filenames):\n",
    "    \"\"\"\n",
    "    Arguments:\n",
    "    \tpreds: predicted classes (1-d list of class_names or integers)\n",
    "        gt: list of same size with ground truth labels\n",
    "        vid_filenames: list of filenames\n",
    "    \"\"\"\n",
    "    preds = np.asarray(preds)\n",
    "    gt = np.asarray(gt)\n",
    "    vids = np.asarray([vid.split(\".\")[0] for vid in vid_filenames])\n",
    "    vid_preds_out = []\n",
    "    for v in np.unique(vids):\n",
    "        preds_video = preds[vids==v]\n",
    "        gt_check = np.unique(gt[vids==v])\n",
    "        assert len(gt_check)==1, \"gt must have the same label for the whole video\"\n",
    "        labs, pred_counts = np.unique(preds_video, return_counts=True)\n",
    "        # take label that is predicted most often\n",
    "        vid_pred = labs[np.argmax(pred_counts)]\n",
    "        # print(\"preds for video:\", preds_video)\n",
    "        # print(v, vid_pred, gt_check[0])\n",
    "        vid_preds_out.append([v, vid_pred, gt_check[0]])\n",
    "    # print(\"video accuracy (majority):\", accuracy_score([p[1] for p in vid_preds_out], [p[2] for p in vid_preds_out]))\n",
    "    return vid_preds_out\n",
    "        \n",
    "def average_certainty(preds_logits, gt, vid_filenames):\n",
    "    \"\"\"\n",
    "    Arguments:\n",
    "    \tpreds: predicted classes (1-d list of class_names or integers)\n",
    "        gt: list of same size with ground truth labels\n",
    "        vid_filenames: list of filenames\n",
    "    \"\"\"\n",
    "    preds_logits = np.asarray(preds_logits)\n",
    "    gt = np.asarray(gt)\n",
    "    vid_preds_out = []\n",
    "    vids = np.array([vid.split(\".\")[0] for vid in vid_filenames])\n",
    "    for v in np.unique(vids):\n",
    "        preds_video_logits = preds_logits[vids==v]\n",
    "        preds_video = np.sum(preds_video_logits, axis=0)\n",
    "        # print(\"preds for video:\", preds_video)\n",
    "        gt_check = np.unique(gt[vids==v])\n",
    "        assert len(gt_check)==1, \"gt must have the same label for the whole video\"\n",
    "        # take label that is predicted most often\n",
    "        vid_pred = np.argmax(preds_video)\n",
    "        # print(v, vid_pred, gt_check[0])\n",
    "        vid_preds_out.append([v, vid_pred, gt_check[0]])\n",
    "    # print(\"video accuracy (certainty):\", accuracy_score([p[1] for p in vid_preds_out], [p[2] for p in vid_preds_out]))\n",
    "    return vid_preds_out"
   ]
  },
  {
   "cell_type": "markdown",
   "metadata": {},
   "source": [
    "## Evaluation script for cross validation"
   ]
  },
  {
   "cell_type": "code",
   "execution_count": 6,
   "metadata": {},
   "outputs": [
    {
     "name": "stdout",
     "output_type": "stream",
     "text": [
      "------------- SPLIT  0 -------------------\n",
      "Model restored. Class mappings are ['covid', 'pneunomia', 'regular']\n",
      "[<tensorflow.python.keras.engine.training.Model object at 0x184f1e910>]\n",
      "              precision    recall  f1-score   support\n",
      "\n",
      "       covid       0.99      0.93      0.96       120\n",
      "   pneumonia       0.94      1.00      0.97        58\n",
      "     regular       0.89      0.97      0.93        40\n",
      "\n",
      "    accuracy                           0.95       218\n",
      "   macro avg       0.94      0.97      0.95       218\n",
      "weighted avg       0.96      0.95      0.95       218\n",
      "\n",
      "video accuracies: [['Cov-Butterfly-COVID Lung 2', 0, 0], ['Cov-Butterfly-Confluent B lines_Example 2', 0, 0], ['Cov-clarius', 0, 0], ['Cov-clarius3', 0, 0], ['Cov-grep-7453', 0, 0], ['Pneu-Atlas-pneumonia-AirBronch', 1, 1], ['Pneu-Atlas-pneumonia2', 1, 1], ['Pneu-grep-bacterial-hepatization-clinical', 1, 1], ['Reg-Atlas-alines', 2, 2], ['Reg-Atlas-lungcurtain', 2, 2]] [['Cov-Butterfly-COVID Lung 2', 0, 0], ['Cov-Butterfly-Confluent B lines_Example 2', 0, 0], ['Cov-clarius', 0, 0], ['Cov-clarius3', 0, 0], ['Cov-grep-7453', 0, 0], ['Pneu-Atlas-pneumonia-AirBronch', 1, 1], ['Pneu-Atlas-pneumonia2', 1, 1], ['Pneu-grep-bacterial-hepatization-clinical', 1, 1], ['Reg-Atlas-alines', 2, 2], ['Reg-Atlas-lungcurtain', 2, 2]]\n",
      "------------- SPLIT  1 -------------------\n",
      "Model restored. Class mappings are ['covid', 'pneunomia', 'regular']\n",
      "[<tensorflow.python.keras.engine.training.Model object at 0x165febf10>]\n",
      "              precision    recall  f1-score   support\n",
      "\n",
      "       covid       0.85      0.98      0.91       113\n",
      "   pneumonia       0.96      0.92      0.94        60\n",
      "     regular       1.00      0.52      0.68        31\n",
      "\n",
      "    accuracy                           0.89       204\n",
      "   macro avg       0.94      0.81      0.84       204\n",
      "weighted avg       0.91      0.89      0.88       204\n",
      "\n",
      "video accuracies: [['Cov-Atlas+(45)', 0, 0], ['Cov-Atlas-Day+3', 0, 0], ['Cov-Butterfly-Consolidation with Air Bronc', 0, 0], ['Cov-Butterfly-Irregular Pleura with Confluent B-lines', 0, 0], ['Cov-Butterfly-Irregular Pleura with Multip', 0, 0], ['Cov-Butterfly-Irregular Pleural Line', 0, 0], ['Cov-grep-7510', 0, 0], ['Cov-grep-7511', 0, 0], ['Pneu-grep-pneumonia2_1', 1, 1], ['Pneu-grep-shredsign-consolidation', 1, 1], ['Reg-Butterfly-2', 0, 2], ['Reg-NormalLungs', 2, 2]] [['Cov-Atlas+(45)', 0, 0], ['Cov-Atlas-Day+3', 0, 0], ['Cov-Butterfly-Consolidation with Air Bronc', 0, 0], ['Cov-Butterfly-Irregular Pleura with Confluent B-lines', 0, 0], ['Cov-Butterfly-Irregular Pleura with Multip', 0, 0], ['Cov-Butterfly-Irregular Pleural Line', 0, 0], ['Cov-grep-7510', 0, 0], ['Cov-grep-7511', 0, 0], ['Pneu-grep-pneumonia2_1', 1, 1], ['Pneu-grep-shredsign-consolidation', 1, 1], ['Reg-Butterfly-2', 0, 2], ['Reg-NormalLungs', 2, 2]]\n",
      "------------- SPLIT  2 -------------------\n",
      "Model restored. Class mappings are ['covid', 'pneunomia', 'regular']\n",
      "[<tensorflow.python.keras.engine.training.Model object at 0x172fde090>]\n",
      "              precision    recall  f1-score   support\n",
      "\n",
      "       covid       0.95      0.94      0.94       183\n",
      "   pneumonia       0.92      1.00      0.96        71\n",
      "     regular       0.71      0.55      0.62        22\n",
      "\n",
      "    accuracy                           0.92       276\n",
      "   macro avg       0.86      0.83      0.84       276\n",
      "weighted avg       0.92      0.92      0.92       276\n",
      "\n",
      "video accuracies: [['Cov-Atlas-+(43)', 0, 0], ['Cov-Atlas-Day+1', 0, 0], ['Cov-Atlas-suspectedCovid', 0, 0], ['Cov-Butterfly-COVID Lung 1', 0, 0], ['Cov-Butterfly-COVID Skip Lesion', 0, 0], ['Cov-Butterfly-Coalescing B lines', 0, 0], ['Cov-Butterfly-Consolidation', 0, 0], ['Cov-Butterfly-Consolidation_Example 3', 0, 0], ['Cov-Butterfly-Irregular Pleura with Trace Effusion', 0, 0], ['Cov-Butterfly-Irregular Pleural Line_Example 2', 0, 0], ['Cov-Butterfly-Subpleural Basal Consolidation_Example 2', 0, 0], ['Cov-grep-7505', 0, 0], ['Cov-grep-7525', 0, 0], ['Cov-grep-7543', 0, 0], ['Pneu-Atlas-pneumonia', 1, 1], ['Pneu-grep-pneumonia1', 1, 1], ['Pneu-grep-pneumonia4', 1, 1], ['Pneu-grep-pulmonary-pneumonia', 1, 1], ['Reg-Grep-Alines', 2, 2], ['Reg-Grep-Normal', 0, 2]] [['Cov-Atlas-+(43)', 0, 0], ['Cov-Atlas-Day+1', 0, 0], ['Cov-Atlas-suspectedCovid', 0, 0], ['Cov-Butterfly-COVID Lung 1', 0, 0], ['Cov-Butterfly-COVID Skip Lesion', 0, 0], ['Cov-Butterfly-Coalescing B lines', 0, 0], ['Cov-Butterfly-Consolidation', 0, 0], ['Cov-Butterfly-Consolidation_Example 3', 0, 0], ['Cov-Butterfly-Irregular Pleura with Trace Effusion', 0, 0], ['Cov-Butterfly-Irregular Pleural Line_Example 2', 0, 0], ['Cov-Butterfly-Subpleural Basal Consolidation_Example 2', 0, 0], ['Cov-grep-7505', 0, 0], ['Cov-grep-7525', 0, 0], ['Cov-grep-7543', 0, 0], ['Pneu-Atlas-pneumonia', 1, 1], ['Pneu-grep-pneumonia1', 1, 1], ['Pneu-grep-pneumonia4', 1, 1], ['Pneu-grep-pulmonary-pneumonia', 1, 1], ['Reg-Grep-Alines', 2, 2], ['Reg-Grep-Normal', 0, 2]]\n",
      "------------- SPLIT  3 -------------------\n",
      "Model restored. Class mappings are ['covid', 'pneunomia', 'regular']\n",
      "[<tensorflow.python.keras.engine.training.Model object at 0x185d7eb10>]\n"
     ]
    },
    {
     "name": "stderr",
     "output_type": "stream",
     "text": [
      "/Users/jab/miniconda3/envs/codevscovid/lib/python3.7/site-packages/sklearn/metrics/_classification.py:1272: UndefinedMetricWarning: Precision and F-score are ill-defined and being set to 0.0 in labels with no predicted samples. Use `zero_division` parameter to control this behavior.\n",
      "  _warn_prf(average, modifier, msg_start, len(result))\n"
     ]
    },
    {
     "name": "stdout",
     "output_type": "stream",
     "text": [
      "              precision    recall  f1-score   support\n",
      "\n",
      "       covid       0.76      0.99      0.86       128\n",
      "   pneumonia       0.97      0.90      0.94        42\n",
      "     regular       0.00      0.00      0.00        37\n",
      "\n",
      "    accuracy                           0.80       207\n",
      "   macro avg       0.58      0.63      0.60       207\n",
      "weighted avg       0.67      0.80      0.72       207\n",
      "\n",
      "video accuracies: [['Cov-Butterfly-Consolidation_Example 2', 0, 0], ['Cov-Butterfly-Consolidation_Example 5', 0, 0], ['Cov-Butterfly-Irregular Pleura and Coalescent B-lines', 0, 0], ['Cov-Butterfly-Patchy B lines with Sparing', 0, 0], ['Cov-Butterfly-Subpleural Basal Consolidation', 0, 0], ['Cov-grep-7507', 0, 0], ['Cov-grepmed-blines-pocus-', 0, 0], ['Pneu-grep-pneumonia3', 1, 1], ['Reg-Atlas', 0, 2], ['Reg-Youtube', 0, 2], ['pneu-everyday', 1, 1], ['pneu-gred-7', 1, 1]] [['Cov-Butterfly-Consolidation_Example 2', 0, 0], ['Cov-Butterfly-Consolidation_Example 5', 0, 0], ['Cov-Butterfly-Irregular Pleura and Coalescent B-lines', 0, 0], ['Cov-Butterfly-Patchy B lines with Sparing', 0, 0], ['Cov-Butterfly-Subpleural Basal Consolidation', 0, 0], ['Cov-grep-7507', 0, 0], ['Cov-grepmed-blines-pocus-', 0, 0], ['Pneu-grep-pneumonia3', 1, 1], ['Reg-Atlas', 0, 2], ['Reg-Youtube', 0, 2], ['pneu-everyday', 1, 1], ['pneu-gred-7', 1, 1]]\n",
      "------------- SPLIT  4 -------------------\n",
      "Model restored. Class mappings are ['covid', 'pneunomia', 'regular']\n",
      "[<tensorflow.python.keras.engine.training.Model object at 0x176d2ee10>]\n",
      "              precision    recall  f1-score   support\n",
      "\n",
      "       covid       0.85      0.99      0.92       110\n",
      "   pneumonia       1.00      0.89      0.94        46\n",
      "     regular       0.97      0.67      0.79        42\n",
      "\n",
      "    accuracy                           0.90       198\n",
      "   macro avg       0.94      0.85      0.88       198\n",
      "weighted avg       0.91      0.90      0.90       198\n",
      "\n",
      "video accuracies: [['Cov-Atlas+(44)', 0, 0], ['Cov-Atlas-Day+2', 0, 0], ['Cov-Atlas-Day+4', 0, 0], ['Cov-grepmed2', 0, 0], ['Cov-grepmed3', 0, 0], ['Reg-Butterfly', 2, 2], ['Reg-bcpocus', 0, 2], ['Reg-nephropocus', 2, 2], ['pneu-gred-6', 1, 1], ['pneu-radiopaeda', 1, 1]] [['Cov-Atlas+(44)', 0, 0], ['Cov-Atlas-Day+2', 0, 0], ['Cov-Atlas-Day+4', 0, 0], ['Cov-grepmed2', 0, 0], ['Cov-grepmed3', 0, 0], ['Reg-Butterfly', 2, 2], ['Reg-bcpocus', 0, 2], ['Reg-nephropocus', 2, 2], ['pneu-gred-6', 1, 1], ['pneu-radiopaeda', 1, 1]]\n"
     ]
    }
   ],
   "source": [
    "saved_logits, saved_gt, saved_files = [], [], []\n",
    "\n",
    "for i in range(5):\n",
    "    print(\"------------- SPLIT \", i, \"-------------------\")\n",
    "    # define data input path\n",
    "    path = \"../../data/pocus/cross_validation/split\"+str(i)\n",
    "    \n",
    "    train_labels, test_labels, test_files = [], [], []\n",
    "    train_data, test_data = [], []\n",
    "\n",
    "    # loop over the image paths (train and test)\n",
    "    for imagePath in paths.list_images(path):\n",
    "\n",
    "        # extract the class label from the filename\n",
    "        label = imagePath.split(os.path.sep)[-2]\n",
    "\n",
    "        # load the image, swap color channels, and resize it to be a fixed\n",
    "        # 224x224 pixels while ignoring aspect ratio\n",
    "        image = cv2.imread(imagePath)\n",
    "        # image = cv2.cvtColor(image, cv2.COLOR_BGR2RGB)\n",
    "        # image = cv2.resize(image, (224, 224))\n",
    "\n",
    "        # update the data and labels lists, respectively\n",
    "        test_labels.append(label)\n",
    "        test_data.append(image)\n",
    "        test_files.append(imagePath.split(os.path.sep)[-1])\n",
    "\n",
    "    # build ground truth data\n",
    "    classes = [\"covid\", \"pneumonia\", \"regular\"]\n",
    "    gt_class_idx = np.array([classes.index(lab) for lab in test_labels])\n",
    "    \n",
    "    # load model\n",
    "    model = Evaluator(ensemble=False, split=str(i))\n",
    "    print(model.models)\n",
    "    \n",
    "    # MAIN STEP: feed through model and compute logits\n",
    "    logits = np.array([model(img) for img in test_data])\n",
    "    \n",
    "    # remember for evaluation:\n",
    "    saved_logits.append(logits)\n",
    "    saved_gt.append(gt_class_idx)\n",
    "    saved_files.append(test_files)\n",
    "    \n",
    "    # output the information\n",
    "    predIdxs = np.argmax(logits, axis=1)\n",
    "    \n",
    "    print(\n",
    "    classification_report(\n",
    "        gt_class_idx, predIdxs, target_names=classes\n",
    "        )\n",
    "    )\n",
    "\n",
    "    vid_preds_certainty = average_certainty(logits, gt_class_idx, np.array(test_files))\n",
    "    vid_preds_majority = majority_vote(predIdxs, gt_class_idx, np.array(test_files))\n",
    "    print(\"video accuracies:\", vid_preds_certainty, vid_preds_majority)"
   ]
  },
  {
   "cell_type": "code",
   "execution_count": 49,
   "metadata": {
    "scrolled": true
   },
   "outputs": [
    {
     "name": "stdout",
     "output_type": "stream",
     "text": [
      "WARNING:tensorflow:Layer block1_conv1 is casting an input tensor from dtype float64 to the layer's dtype of float32, which is new behavior in TensorFlow 2.  The layer has dtype float32 because it's dtype defaults to floatx.\n",
      "\n",
      "If you intended to run this layer in float32, you can safely ignore this warning. If in doubt, this warning is likely only an issue if you are porting a TensorFlow 1.X model to TensorFlow 2.\n",
      "\n",
      "To change all layers to have dtype float64 by default, call `tf.keras.backend.set_floatx('float64')`. To change just this layer, pass dtype='float64' to the layer constructor. If you are the author of this layer, you can disable autocasting by passing autocast=False to the base Layer constructor.\n",
      "\n",
      "              precision    recall  f1-score   support\n",
      "\n",
      "       covid       0.75      0.88      0.81       128\n",
      "   pneumonia       0.72      0.98      0.83        42\n",
      "     regular       0.00      0.00      0.00        37\n",
      "\n",
      "    accuracy                           0.74       207\n",
      "   macro avg       0.49      0.62      0.54       207\n",
      "weighted avg       0.61      0.74      0.67       207\n",
      "\n"
     ]
    }
   ],
   "source": [
    "# Evaluate a checkpoint\n",
    "from pocovidnet.model import get_model\n",
    "import cv2\n",
    "import os\n",
    "p = '/Users/jab/codevscovid/covid_detector/covid19_pocus_ultrasound/pocovidnet/'\n",
    "fold = 3\n",
    "epoch = '02'\n",
    "\n",
    "\n",
    "weight_path = os.path.join(p, f'fold_{fold}_epoch_{epoch}', 'variables', 'variables')\n",
    "model = get_model()\n",
    "model.load_weights(weight_path)\n",
    "\n",
    "def preprocess(image):\n",
    "        \"\"\"Apply image preprocessing pipeline\n",
    "\n",
    "        Arguments:\n",
    "            image {np.array} -- Arbitrary shape, quadratic preferred\n",
    "\n",
    "        Returns:\n",
    "            np.array -- Shape 224,224. Normalized to [0, 1].\n",
    "        \"\"\"\n",
    "\n",
    "        image = cv2.cvtColor(image, cv2.COLOR_BGR2RGB)\n",
    "        image = cv2.resize(image, (224, 224))\n",
    "        image = np.expand_dims(np.array(image), 0) / 255.0\n",
    "        return image\n",
    "\n",
    "\n",
    "\n",
    "path = \"../../data/pocus/cross_validation/split\"+str(fold)\n",
    "    \n",
    "train_labels, test_labels, test_files = [], [], []\n",
    "train_data, test_data = [], []\n",
    "\n",
    "# loop over the image paths (train and test)\n",
    "for imagePath in paths.list_images(path):\n",
    "\n",
    "    # extract the class label from the filename\n",
    "    label = imagePath.split(os.path.sep)[-2]\n",
    "\n",
    "    # load the image, swap color channels, and resize it to be a fixed\n",
    "    # 224x224 pixels while ignoring aspect ratio\n",
    "    image = cv2.imread(imagePath)\n",
    "    # image = cv2.cvtColor(image, cv2.COLOR_BGR2RGB)\n",
    "    # image = cv2.resize(image, (224, 224))\n",
    "\n",
    "    # update the data and labels lists, respectively\n",
    "    test_labels.append(label)\n",
    "    test_data.append(image)\n",
    "    test_files.append(imagePath.split(os.path.sep)[-1])\n",
    "\n",
    "# build ground truth data\n",
    "classes = [\"covid\", \"pneumonia\", \"regular\"]\n",
    "gt_class_idx = np.array([classes.index(lab) for lab in test_labels])\n",
    "\n",
    "\n",
    "\n",
    "# MAIN STEP: feed through model and compute logits\n",
    "logits = np.array([model(preprocess(img)) for img in test_data])\n",
    "\n",
    "\n",
    "\n",
    "# output the information\n",
    "predIdxs = np.squeeze(np.argmax(logits, axis=-1))\n",
    "\n",
    "print(\n",
    "classification_report(\n",
    "    gt_class_idx, predIdxs, target_names=classes\n",
    "    )\n",
    ")\n",
    "\n",
    "\n",
    "\n"
   ]
  },
  {
   "cell_type": "code",
   "execution_count": null,
   "metadata": {},
   "outputs": [],
   "source": []
  },
  {
   "cell_type": "code",
   "execution_count": null,
   "metadata": {},
   "outputs": [],
   "source": []
  },
  {
   "cell_type": "markdown",
   "metadata": {},
   "source": [
    "### Save outputs"
   ]
  },
  {
   "cell_type": "code",
   "execution_count": 7,
   "metadata": {},
   "outputs": [],
   "source": [
    "import pickle\n",
    "with open(\"cross_validation_results.dat\", \"wb\") as outfile:\n",
    "    pickle.dump((saved_logits, saved_gt, saved_files), outfile)"
   ]
  },
  {
   "cell_type": "markdown",
   "metadata": {},
   "source": [
    "### Load outputs"
   ]
  },
  {
   "cell_type": "code",
   "execution_count": 7,
   "metadata": {},
   "outputs": [],
   "source": [
    "import pickle\n",
    "with open(\"cross_validation_results.dat\", \"rb\") as outfile:\n",
    "    (saved_logits, saved_gt, saved_files) = pickle.load(outfile)"
   ]
  },
  {
   "cell_type": "markdown",
   "metadata": {},
   "source": [
    "## Compute scores of our model"
   ]
  },
  {
   "cell_type": "markdown",
   "metadata": {},
   "source": [
    "### Sum up confusion matrices"
   ]
  },
  {
   "cell_type": "code",
   "execution_count": 8,
   "metadata": {},
   "outputs": [],
   "source": [
    "all_cms = np.zeros((5,3,3))\n",
    "for s in range(5):\n",
    "    # print(saved_files[s])\n",
    "    gt_s = saved_gt[s]\n",
    "    pred_idx_s = np.argmax(np.array(saved_logits[s]), axis=1)\n",
    "    assert len(gt_s)==len(pred_idx_s)\n",
    "    cm = np.array(confusion_matrix(gt_s, pred_idx_s))\n",
    "    all_cms[s] = cm"
   ]
  },
  {
   "cell_type": "markdown",
   "metadata": {},
   "source": [
    "### Compute the reports and accuracies"
   ]
  },
  {
   "cell_type": "code",
   "execution_count": 9,
   "metadata": {},
   "outputs": [],
   "source": [
    "classes = [\"covid\", \"pneunomia\", \"regular\"]\n",
    "\n",
    "all_reports = []\n",
    "accs = []\n",
    "bal_accs = []\n",
    "for s in range(5):\n",
    "    gt_s = saved_gt[s]\n",
    "    pred_idx_s = np.argmax(np.array(saved_logits[s]), axis=1)\n",
    "    report = classification_report(\n",
    "        gt_s, pred_idx_s, target_names=classes, output_dict=True\n",
    "        )\n",
    "    df = pd.DataFrame(report).transpose()\n",
    "    #print(report[\"accuracy\"])\n",
    "    # print(np.array(df)[:3,:])\n",
    "    accs.append(report[\"accuracy\"])\n",
    "    bal_accs.append(balanced_accuracy_score(gt_s, pred_idx_s))\n",
    "    # df = np.array(report)\n",
    "    all_reports.append(np.array(df)[:3])"
   ]
  },
  {
   "cell_type": "markdown",
   "metadata": {
    "scrolled": true
   },
   "source": [
    "### Output accuracy"
   ]
  },
  {
   "cell_type": "code",
   "execution_count": 10,
   "metadata": {},
   "outputs": [
    {
     "name": "stdout",
     "output_type": "stream",
     "text": [
      "The accuracy and balanced accuracy of our model are:\n",
      "[0.95 0.89 0.92 0.8  0.9 ] [0.97 0.81 0.83 0.63 0.85]\n",
      "MEAN ACC: 0.89 MEAN BAL ACC: 0.82\n"
     ]
    }
   ],
   "source": [
    "print(\"The accuracy and balanced accuracy of our model are:\")\n",
    "print(np.around(accs,2),np.around(bal_accs,2))\n",
    "print(\"MEAN ACC:\", round(np.mean(accs), 2), \"MEAN BAL ACC:\", round(np.mean(bal_accs),2))"
   ]
  },
  {
   "cell_type": "markdown",
   "metadata": {},
   "source": [
    "## Make table of results distinguished by classes"
   ]
  },
  {
   "cell_type": "markdown",
   "metadata": {},
   "source": [
    "#### Helper functions"
   ]
  },
  {
   "cell_type": "code",
   "execution_count": 11,
   "metadata": {},
   "outputs": [],
   "source": [
    "def comp_nr_videos(saved_files):\n",
    "    file_list = []\n",
    "    for sav in saved_files:\n",
    "        file_list.extend(sav)\n",
    "    assert len(np.unique(file_list)) == len(file_list)\n",
    "    cutted_files = [f.split(\".\")[0] for f in file_list]\n",
    "    print(\"number of videos\", len(np.unique(cutted_files)))\n",
    "    vid_file_labels = [v[:3].lower() for v in np.unique(cutted_files)]\n",
    "    print(len(vid_file_labels))\n",
    "    print(np.unique(vid_file_labels, return_counts=True))\n",
    "    lab, counts = np.unique(vid_file_labels, return_counts=True)\n",
    "    return counts.tolist()\n",
    "\n",
    "def compute_specificity(all_cms):\n",
    "    \"\"\"\n",
    "    Function to compute the specificity from confusion matrices\n",
    "    all_cms: array of size 5 x 3 x 3 --> confusion matrix for each fold\n",
    "    \"\"\"\n",
    "    specificities_fold = []\n",
    "    for k in range(len(all_cms)):\n",
    "        arr = all_cms[k]\n",
    "        overall = np.sum(arr)\n",
    "        specificity = []\n",
    "        for i in range(len(arr)):\n",
    "            tn_fp = overall - np.sum(arr[i])\n",
    "            # print(bottom_six)\n",
    "            fp = 0\n",
    "            for j in range(len(arr)):\n",
    "                if i!=j:\n",
    "                    fp += arr[j, i]\n",
    "            spec = (tn_fp-fp)/tn_fp\n",
    "            # print(\"tn\", tn_fp-fp, \"tn and fp:\", tn_fp)\n",
    "            # print(spec)\n",
    "            specificity.append(spec)\n",
    "        specificities_fold.append(specificity)\n",
    "    out_spec = np.mean(np.asarray(specificities_fold), axis=0)\n",
    "    return np.around(out_spec, 2)"
   ]
  },
  {
   "cell_type": "code",
   "execution_count": 12,
   "metadata": {},
   "outputs": [],
   "source": [
    "df_arr = np.around(np.mean(all_reports, axis=0), 2)"
   ]
  },
  {
   "cell_type": "code",
   "execution_count": 13,
   "metadata": {},
   "outputs": [],
   "source": [
    "df_classes = pd.DataFrame(df_arr, columns=[\"Precision\", \"Recall\", \"F1-score\", \"Support\"], index=[\"covid\",\"pneunomia\", \"regular\"])\n"
   ]
  },
  {
   "cell_type": "markdown",
   "metadata": {},
   "source": [
    "#### Add specificit, number of frames etc"
   ]
  },
  {
   "cell_type": "code",
   "execution_count": 14,
   "metadata": {},
   "outputs": [
    {
     "name": "stdout",
     "output_type": "stream",
     "text": [
      "number of videos 64\n",
      "64\n",
      "(array(['cov', 'pne', 'reg'], dtype='<U3'), array([39, 14, 11]))\n"
     ]
    }
   ],
   "source": [
    "df_classes[\"Specificity\"] = np.around(compute_specificity(all_cms),2)\n",
    "df_classes[\"Frames\"] = np.diag(np.sum(all_cms, axis=0)).astype(int).tolist()\n",
    "df_classes[\"Videos/Images\"] = comp_nr_videos(saved_files)\n",
    "df_classes = df_classes.drop(columns=[\"Support\"])"
   ]
  },
  {
   "cell_type": "code",
   "execution_count": 15,
   "metadata": {},
   "outputs": [
    {
     "data": {
      "text/html": [
       "<div>\n",
       "<style scoped>\n",
       "    .dataframe tbody tr th:only-of-type {\n",
       "        vertical-align: middle;\n",
       "    }\n",
       "\n",
       "    .dataframe tbody tr th {\n",
       "        vertical-align: top;\n",
       "    }\n",
       "\n",
       "    .dataframe thead th {\n",
       "        text-align: right;\n",
       "    }\n",
       "</style>\n",
       "<table border=\"1\" class=\"dataframe\">\n",
       "  <thead>\n",
       "    <tr style=\"text-align: right;\">\n",
       "      <th></th>\n",
       "      <th>Precision</th>\n",
       "      <th>Recall</th>\n",
       "      <th>F1-score</th>\n",
       "      <th>Specificity</th>\n",
       "      <th>Frames</th>\n",
       "      <th>Videos/Images</th>\n",
       "    </tr>\n",
       "  </thead>\n",
       "  <tbody>\n",
       "    <tr>\n",
       "      <th>covid</th>\n",
       "      <td>0.88</td>\n",
       "      <td>0.97</td>\n",
       "      <td>0.92</td>\n",
       "      <td>0.79</td>\n",
       "      <td>630</td>\n",
       "      <td>39</td>\n",
       "    </tr>\n",
       "    <tr>\n",
       "      <th>pneunomia</th>\n",
       "      <td>0.96</td>\n",
       "      <td>0.94</td>\n",
       "      <td>0.95</td>\n",
       "      <td>0.99</td>\n",
       "      <td>263</td>\n",
       "      <td>14</td>\n",
       "    </tr>\n",
       "    <tr>\n",
       "      <th>regular</th>\n",
       "      <td>0.71</td>\n",
       "      <td>0.54</td>\n",
       "      <td>0.60</td>\n",
       "      <td>0.99</td>\n",
       "      <td>95</td>\n",
       "      <td>11</td>\n",
       "    </tr>\n",
       "  </tbody>\n",
       "</table>\n",
       "</div>"
      ],
      "text/plain": [
       "           Precision  Recall  F1-score  Specificity  Frames  Videos/Images\n",
       "covid           0.88    0.97      0.92         0.79     630             39\n",
       "pneunomia       0.96    0.94      0.95         0.99     263             14\n",
       "regular         0.71    0.54      0.60         0.99      95             11"
      ]
     },
     "execution_count": 15,
     "metadata": {},
     "output_type": "execute_result"
    }
   ],
   "source": [
    "df_classes\n",
    "# negative predictive value --> gegenstueck zu precision\n",
    "# specificity --> gegenstück zu recall"
   ]
  },
  {
   "cell_type": "markdown",
   "metadata": {},
   "source": [
    "## Comparison to Covid-Net\n",
    "\n",
    "Manually copied data from txt fil\n",
    "\n",
    "F-Measure = (2 * Precision * Recall) / (Precision + Recall)"
   ]
  },
  {
   "cell_type": "code",
   "execution_count": 29,
   "metadata": {},
   "outputs": [
    {
     "name": "stdout",
     "output_type": "stream",
     "text": [
      "(5, 3, 3)\n"
     ]
    }
   ],
   "source": [
    "cm0 = np.array([[24., 12., 12.], [ 0., 28.,  0.], [29.,  4., 30.]])\n",
    "cm1 = np.array([[  0.,   1.,  48.],[  0.,  22.,   0.],[  0.,   2., 109.]])\n",
    "cm2 = np.array([[17., 5., 13.],[ 2., 24., 0.],[ 0.,  0, 94.]])\n",
    "cm3 = np.array([[30., 0., 0.],[ 0., 25.,  0.],[ 3., 0, 85.]])\n",
    "cm4 = np.array([[19., 0., 8.],[ 6., 25., 0.], [ 0.,  0., 80.]])\n",
    "\n",
    "# sensitivities\n",
    "sens_reg = np.mean([0.5, 0, 0.486, 1.0, 0.704])\n",
    "sens_pneu = np.mean([1.0, 1.0, 0.923, 1.0, 0.806])\n",
    "sens_covid = np.mean([0.476, 0.982, 1.0, 0.966, 1.0])\n",
    "# precisions\n",
    "prec_reg = np.mean([0.453, 0, 0.895, 0.909, 0.76])\n",
    "prec_pneu = np.mean([0.636, 0.88, 0.828, 1.0, 1.0])\n",
    "prec_covid = np.mean([0.714, 0.694, 0.879, 1.0, 0.909])\n",
    "\n",
    "accs_covidnet = [0.58992805, 0.719, 0.871, 0.979, 0.89855]\n",
    "\n",
    "all_cms_cov_model = np.array([cm0, cm1, cm2, cm3, cm4])\n",
    "print(all_cms_cov_model.shape)"
   ]
  },
  {
   "cell_type": "code",
   "execution_count": 30,
   "metadata": {},
   "outputs": [],
   "source": [
    "def f_measure(prec, rec):\n",
    "    return (2*prec*rec)/(prec+rec)"
   ]
  },
  {
   "cell_type": "markdown",
   "metadata": {},
   "source": [
    "#### Output accuracy and balanced accuracy"
   ]
  },
  {
   "cell_type": "code",
   "execution_count": 31,
   "metadata": {},
   "outputs": [
    {
     "name": "stdout",
     "output_type": "stream",
     "text": [
      "The accuracy and balanced accuracy of our model are:\n",
      "[0.59 0.72 0.87 0.98 0.9 ] [0.48 0.94 0.91]\n",
      "MEAN ACC: 0.81 MEAN BAL ACC: 0.78\n"
     ]
    }
   ],
   "source": [
    "added_cms_cov_net = np.sum(all_cms_cov_model, axis=0)\n",
    "bal_acc_covidnet = np.diag(added_cms_cov_net)/np.sum(added_cms_cov_net, axis=1)\n",
    "print(\"The accuracy and balanced accuracy of our model are:\")\n",
    "print(np.around(accs_covidnet,2),np.around(bal_acc_covidnet,2))\n",
    "print(\"MEAN ACC:\", round(np.mean(accs_covidnet), 2), \"MEAN BAL ACC:\", round(np.mean(bal_acc_covidnet),2))"
   ]
  },
  {
   "cell_type": "markdown",
   "metadata": {},
   "source": [
    "#### Make similar table for covid-net"
   ]
  },
  {
   "cell_type": "code",
   "execution_count": 32,
   "metadata": {},
   "outputs": [],
   "source": [
    "df_classes[\"Class\"] = df_classes.index\n",
    "df_classes.index = [\"our model\", \"our model\",\"our model\"]\n",
    "df_cov = df_classes.copy()\n",
    "df_cov.index = [\"covid-net\", \"covid-net\", \"covid-net\"]\n",
    "df_cov[\"Precision\"] = np.around([prec_covid, prec_pneu, prec_reg], 2).tolist()\n",
    "df_cov[\"Recall\"] = np.around([sens_covid, sens_pneu, sens_reg], 2).tolist()\n",
    "sens = np.array(compute_specificity(all_cms_cov_model))[[2,1,0]]\n",
    "df_cov[\"Specificity\"] = sens.tolist()\n",
    "df_cov[\"F1-score\"] = np.around([f_measure(p, r) for (p,r) in zip(df_cov[\"Precision\"], df_cov[\"Recall\"])], 2)"
   ]
  },
  {
   "cell_type": "code",
   "execution_count": 33,
   "metadata": {},
   "outputs": [
    {
     "data": {
      "text/html": [
       "<div>\n",
       "<style scoped>\n",
       "    .dataframe tbody tr th:only-of-type {\n",
       "        vertical-align: middle;\n",
       "    }\n",
       "\n",
       "    .dataframe tbody tr th {\n",
       "        vertical-align: top;\n",
       "    }\n",
       "\n",
       "    .dataframe thead th {\n",
       "        text-align: right;\n",
       "    }\n",
       "</style>\n",
       "<table border=\"1\" class=\"dataframe\">\n",
       "  <thead>\n",
       "    <tr style=\"text-align: right;\">\n",
       "      <th></th>\n",
       "      <th>Precision</th>\n",
       "      <th>Recall</th>\n",
       "      <th>F1-score</th>\n",
       "      <th>Specificity</th>\n",
       "      <th>Frames</th>\n",
       "      <th>Videos/Images</th>\n",
       "      <th>Class</th>\n",
       "    </tr>\n",
       "  </thead>\n",
       "  <tbody>\n",
       "    <tr>\n",
       "      <th>covid-net</th>\n",
       "      <td>0.84</td>\n",
       "      <td>0.88</td>\n",
       "      <td>0.86</td>\n",
       "      <td>0.76</td>\n",
       "      <td>371</td>\n",
       "      <td>20</td>\n",
       "      <td>covid</td>\n",
       "    </tr>\n",
       "    <tr>\n",
       "      <th>covid-net</th>\n",
       "      <td>0.87</td>\n",
       "      <td>0.95</td>\n",
       "      <td>0.91</td>\n",
       "      <td>0.96</td>\n",
       "      <td>122</td>\n",
       "      <td>11</td>\n",
       "      <td>pneunomia</td>\n",
       "    </tr>\n",
       "    <tr>\n",
       "      <th>covid-net</th>\n",
       "      <td>0.60</td>\n",
       "      <td>0.54</td>\n",
       "      <td>0.57</td>\n",
       "      <td>0.92</td>\n",
       "      <td>158</td>\n",
       "      <td>14</td>\n",
       "      <td>regular</td>\n",
       "    </tr>\n",
       "  </tbody>\n",
       "</table>\n",
       "</div>"
      ],
      "text/plain": [
       "           Precision  Recall  F1-score  Specificity  Frames  Videos/Images  \\\n",
       "covid-net       0.84    0.88      0.86         0.76     371             20   \n",
       "covid-net       0.87    0.95      0.91         0.96     122             11   \n",
       "covid-net       0.60    0.54      0.57         0.92     158             14   \n",
       "\n",
       "               Class  \n",
       "covid-net      covid  \n",
       "covid-net  pneunomia  \n",
       "covid-net    regular  "
      ]
     },
     "execution_count": 33,
     "metadata": {},
     "output_type": "execute_result"
    }
   ],
   "source": [
    "df_cov"
   ]
  },
  {
   "cell_type": "markdown",
   "metadata": {},
   "source": [
    "#### Merge both tables and output final table as latex"
   ]
  },
  {
   "cell_type": "code",
   "execution_count": 34,
   "metadata": {},
   "outputs": [
    {
     "name": "stdout",
     "output_type": "stream",
     "text": [
      "\\begin{tabular}{llrrrrrr}\n",
      "\\toprule\n",
      "{} &      Class &  Sensitivity &  Specificity &  Precision &  F1-score &  Frames &  Videos/Images \\\\\n",
      "\\midrule\n",
      "our model &      covid &         0.82 &         0.87 &       0.87 &      0.84 &     371 &             20 \\\\\n",
      "our model &  pneunomia &         0.93 &         0.98 &       0.92 &      0.92 &     122 &             11 \\\\\n",
      "our model &    regular &         0.80 &         0.90 &       0.75 &      0.77 &     158 &             14 \\\\\n",
      "covid-net &      covid &         0.88 &         0.76 &       0.84 &      0.86 &     371 &             20 \\\\\n",
      "covid-net &  pneunomia &         0.95 &         0.96 &       0.87 &      0.91 &     122 &             11 \\\\\n",
      "covid-net &    regular &         0.54 &         0.92 &       0.60 &      0.57 &     158 &             14 \\\\\n",
      "\\bottomrule\n",
      "\\end{tabular}\n",
      "\n"
     ]
    }
   ],
   "source": [
    "results_together = pd.concat([df_classes, df_cov])\n",
    "results_together[\"Sensitivity\"] = results_together[\"Recall\"]\n",
    "results_together = results_together[[\"Class\", \"Sensitivity\", \"Specificity\", \"Precision\", \"F1-score\", \"Frames\", \"Videos/Images\"]]\n",
    "print(results_together.to_latex())"
   ]
  },
  {
   "cell_type": "code",
   "execution_count": 35,
   "metadata": {},
   "outputs": [
    {
     "data": {
      "text/html": [
       "<div>\n",
       "<style scoped>\n",
       "    .dataframe tbody tr th:only-of-type {\n",
       "        vertical-align: middle;\n",
       "    }\n",
       "\n",
       "    .dataframe tbody tr th {\n",
       "        vertical-align: top;\n",
       "    }\n",
       "\n",
       "    .dataframe thead th {\n",
       "        text-align: right;\n",
       "    }\n",
       "</style>\n",
       "<table border=\"1\" class=\"dataframe\">\n",
       "  <thead>\n",
       "    <tr style=\"text-align: right;\">\n",
       "      <th></th>\n",
       "      <th>Class</th>\n",
       "      <th>Sensitivity</th>\n",
       "      <th>Specificity</th>\n",
       "      <th>Precision</th>\n",
       "      <th>F1-score</th>\n",
       "      <th>Frames</th>\n",
       "      <th>Videos/Images</th>\n",
       "    </tr>\n",
       "  </thead>\n",
       "  <tbody>\n",
       "    <tr>\n",
       "      <th>our model</th>\n",
       "      <td>covid</td>\n",
       "      <td>0.82</td>\n",
       "      <td>0.87</td>\n",
       "      <td>0.87</td>\n",
       "      <td>0.84</td>\n",
       "      <td>371</td>\n",
       "      <td>20</td>\n",
       "    </tr>\n",
       "    <tr>\n",
       "      <th>our model</th>\n",
       "      <td>pneunomia</td>\n",
       "      <td>0.93</td>\n",
       "      <td>0.98</td>\n",
       "      <td>0.92</td>\n",
       "      <td>0.92</td>\n",
       "      <td>122</td>\n",
       "      <td>11</td>\n",
       "    </tr>\n",
       "    <tr>\n",
       "      <th>our model</th>\n",
       "      <td>regular</td>\n",
       "      <td>0.80</td>\n",
       "      <td>0.90</td>\n",
       "      <td>0.75</td>\n",
       "      <td>0.77</td>\n",
       "      <td>158</td>\n",
       "      <td>14</td>\n",
       "    </tr>\n",
       "    <tr>\n",
       "      <th>covid-net</th>\n",
       "      <td>covid</td>\n",
       "      <td>0.88</td>\n",
       "      <td>0.76</td>\n",
       "      <td>0.84</td>\n",
       "      <td>0.86</td>\n",
       "      <td>371</td>\n",
       "      <td>20</td>\n",
       "    </tr>\n",
       "    <tr>\n",
       "      <th>covid-net</th>\n",
       "      <td>pneunomia</td>\n",
       "      <td>0.95</td>\n",
       "      <td>0.96</td>\n",
       "      <td>0.87</td>\n",
       "      <td>0.91</td>\n",
       "      <td>122</td>\n",
       "      <td>11</td>\n",
       "    </tr>\n",
       "    <tr>\n",
       "      <th>covid-net</th>\n",
       "      <td>regular</td>\n",
       "      <td>0.54</td>\n",
       "      <td>0.92</td>\n",
       "      <td>0.60</td>\n",
       "      <td>0.57</td>\n",
       "      <td>158</td>\n",
       "      <td>14</td>\n",
       "    </tr>\n",
       "  </tbody>\n",
       "</table>\n",
       "</div>"
      ],
      "text/plain": [
       "               Class  Sensitivity  Specificity  Precision  F1-score  Frames  \\\n",
       "our model      covid         0.82         0.87       0.87      0.84     371   \n",
       "our model  pneunomia         0.93         0.98       0.92      0.92     122   \n",
       "our model    regular         0.80         0.90       0.75      0.77     158   \n",
       "covid-net      covid         0.88         0.76       0.84      0.86     371   \n",
       "covid-net  pneunomia         0.95         0.96       0.87      0.91     122   \n",
       "covid-net    regular         0.54         0.92       0.60      0.57     158   \n",
       "\n",
       "           Videos/Images  \n",
       "our model             20  \n",
       "our model             11  \n",
       "our model             14  \n",
       "covid-net             20  \n",
       "covid-net             11  \n",
       "covid-net             14  "
      ]
     },
     "execution_count": 35,
     "metadata": {},
     "output_type": "execute_result"
    }
   ],
   "source": [
    "results_together"
   ]
  },
  {
   "cell_type": "markdown",
   "metadata": {},
   "source": [
    "## Compute video accuracy"
   ]
  },
  {
   "cell_type": "code",
   "execution_count": 19,
   "metadata": {},
   "outputs": [
    {
     "name": "stdout",
     "output_type": "stream",
     "text": [
      "[1.0, 0.9166666666666666, 0.95, 0.8333333333333334, 0.9]\n"
     ]
    }
   ],
   "source": [
    "def preds_to_score(vid_preds_out):\n",
    "    return accuracy_score([p[1] for p in vid_preds_out], [p[2] for p in vid_preds_out])\n",
    "    \n",
    "scores_certainty = []\n",
    "scores_majority = []\n",
    "for i in range(len(saved_files)):\n",
    "    vid_preds_certainty = average_certainty(saved_logits[i], saved_gt[i], saved_files[i])\n",
    "    vid_preds_majority = majority_vote(np.argmax(saved_logits[i], axis=1), saved_gt[i], saved_files[i])\n",
    "    scores_certainty.append(preds_to_score(vid_preds_certainty))\n",
    "    scores_majority.append(preds_to_score(vid_preds_majority))\n",
    "    \n",
    "print(scores_certainty)"
   ]
  },
  {
   "cell_type": "markdown",
   "metadata": {},
   "source": [
    "## Confusion matrix plots"
   ]
  },
  {
   "cell_type": "markdown",
   "metadata": {},
   "source": [
    "#### Load the results"
   ]
  },
  {
   "cell_type": "code",
   "execution_count": 6,
   "metadata": {},
   "outputs": [],
   "source": [
    "with open(\"eval.dat\", \"rb\") as outfile:\n",
    "    (saved_logits, saved_gt, saved_files) = pickle.load(outfile)"
   ]
  },
  {
   "cell_type": "markdown",
   "metadata": {},
   "source": [
    "#### Sum up confusion matrices"
   ]
  },
  {
   "cell_type": "code",
   "execution_count": 16,
   "metadata": {},
   "outputs": [],
   "source": [
    "all_cms = np.zeros((5,3,3))\n",
    "for s in range(5):\n",
    "    # print(saved_files[s])\n",
    "    gt_s = saved_gt[s]\n",
    "    pred_idx_s = np.argmax(np.array(saved_logits[s]), axis=1)\n",
    "    assert len(gt_s)==len(pred_idx_s)\n",
    "    cm = np.array(confusion_matrix(gt_s, pred_idx_s))\n",
    "    all_cms[s] = cm"
   ]
  },
  {
   "cell_type": "markdown",
   "metadata": {},
   "source": [
    "#### Function to make labels with std from the data"
   ]
  },
  {
   "cell_type": "code",
   "execution_count": 20,
   "metadata": {},
   "outputs": [],
   "source": [
    "def data_to_label(data, text):\n",
    "    return (np.asarray([\"{0:.2f}\\n\".format(data)+u\"\\u00B1\"+\"{0:.2f}\".format(text) for data, text in zip(data.flatten(), text.flatten())])).reshape(3,3)"
   ]
  },
  {
   "cell_type": "markdown",
   "metadata": {},
   "source": [
    "#### Make figure"
   ]
  },
  {
   "cell_type": "code",
   "execution_count": 21,
   "metadata": {},
   "outputs": [
    {
     "name": "stderr",
     "output_type": "stream",
     "text": [
      "/Users/jab/miniconda3/envs/codevscovid/lib/python3.7/site-packages/ipykernel_launcher.py:32: RuntimeWarning: invalid value encountered in true_divide\n"
     ]
    },
    {
     "data": {
      "image/png": "[encoded data removed]",
      "text/plain": [
       "<Figure size 1800x432 with 6 Axes>"
      ]
     },
     "metadata": {
      "needs_background": "light"
     },
     "output_type": "display_data"
    }
   ],
   "source": [
    "plt.figure(figsize = (25,6))\n",
    "fig = plt.subplot(1,3,1)\n",
    "ax = fig.axes\n",
    "\n",
    "data_abs = np.sum(all_cms, axis=0)\n",
    "df_cm = pd.DataFrame(data_abs, index = [i for i in [\"COVID-19\", \"Pneunomia\", \"Normal\"]],\n",
    "                  columns = [i for i in [\"COVID-19\", \"Pneunomia\", \"Normal\"]])\n",
    "\n",
    "sn.set(font_scale=1.5)\n",
    "#plt.xticks(np.arange(3)+0.5,(\"COVID-19\", \"Pneunomia\", \"Normal\"), rotation=0, fontsize=\"17\", va=\"center\")\n",
    "plt.yticks(np.arange(3)+0.5,(\"COVID-19\", \"Pneunomia\", \"Normal\"), rotation=0, fontsize=\"17\", va=\"center\")\n",
    "sn.heatmap(df_cm, annot=True, fmt=\"g\", cmap=\"YlGnBu\")\n",
    "ax.xaxis.tick_top()\n",
    "plt.tick_params(\n",
    "    axis='x',          # changes apply to the x-axis\n",
    "    which='both',      # both major and minor ticks are affected\n",
    "    bottom=False,      # ticks along the bottom edge are off\n",
    "    top=False,         # ticks along the top edge are off\n",
    "    labelbottom=False) \n",
    "plt.xlabel('\\nPredictions', size=25)\n",
    "plt.ylabel('Ground truth', size=25)\n",
    "plt.title(\"Absolute values\\n\", size=30)\n",
    "\n",
    "\n",
    "# PRECISION SUBPLOT\n",
    "fig = plt.subplot(1,3,2)\n",
    "ax = fig.axes\n",
    "\n",
    "\n",
    "data_prec = all_cms.copy()\n",
    "for i in range(5):\n",
    "    data_prec[i] = data_prec[i]/np.sum(data_prec[i], axis=0)\n",
    "prec_stds = np.std(data_prec, axis = 0)\n",
    "data_prec = np.mean(data_prec, axis=0)\n",
    "labels_prec = data_to_label(data_prec, prec_stds)\n",
    "\n",
    "df_cm = pd.DataFrame(data_prec, index = [i for i in [\"COVID-19\", \"Pneunomia\", \"Normal\"]],\n",
    "                  columns = [i for i in [\"COVID-19\", \"Pneunomia\", \"Normal\"]])\n",
    "sn.set(font_scale=1.5)\n",
    "plt.ylabel(\"ground truth\")\n",
    "plt.xlabel(\"predictions\")\n",
    "plt.title(\"Precision\")\n",
    "ax.xaxis.tick_top()\n",
    "plt.tick_params(\n",
    "    axis='x',          # changes apply to the x-axis\n",
    "    which='both',      # both major and minor ticks are affected\n",
    "    bottom=False,      # ticks along the bottom edge are off\n",
    "    top=False,         # ticks along the top edge are off\n",
    "    labelbottom=False) \n",
    "plt.yticks(np.arange(3)+0.5,(\"COVID-19\", \"Pneunomia\", \"Normal\"), rotation=0, fontsize=\"17\", va=\"center\")\n",
    "sn.heatmap(df_cm, annot=labels_prec, fmt='', cmap=\"YlGnBu\")\n",
    "plt.xlabel('\\nPredictions', size=25)\n",
    "plt.ylabel('Ground truth', size=25)\n",
    "plt.title(\"Sensitivity (Recall)\\n\", size=30)\n",
    "\n",
    "\n",
    "#  SENSITIVITY SUBPLOT\n",
    "fig = plt.subplot(1,3,3)\n",
    "ax = fig.axes\n",
    "data_sens = all_cms.copy()\n",
    "for i in range(5):\n",
    "    sums_axis = np.sum(data_sens[i], axis=1)\n",
    "    data_sens[i] = np.array([data_sens[i,j,:]/sums_axis[j] for j in range(3)])\n",
    "sens_stds = np.std(data_sens, axis = 0)\n",
    "data_sens = np.mean(data_sens, axis=0)\n",
    "\n",
    "labels_sens = data_to_label(data_sens, sens_stds)\n",
    "df_cm = pd.DataFrame(data_sens, index = [i for i in [\"COVID-19\", \"Pneunomia\", \"Normal\"]],\n",
    "                  columns = [i for i in [\"COVID-19\", \"Pneunomia\", \"Normal\"]])\n",
    "# sn.set(font_scale=1.5)\n",
    "\n",
    "plt.yticks(np.arange(3)+0.5,(\"COVID-19\", \"Pneunomia\", \"Normal\"), rotation=0, fontsize=\"17\", va=\"center\")\n",
    "#plt.xticks(np.arange(3)+0.5,(\"COVID-19\", \"Pneunomia\", \"Normal\"), rotation=0, fontsize=\"17\", va=\"center\")\n",
    "ax.xaxis.tick_top()\n",
    "plt.tick_params(\n",
    "    axis='x',          # changes apply to the x-axis\n",
    "    which='both',      # both major and minor ticks are affected\n",
    "    bottom=False,      # ticks along the bottom edge are off\n",
    "    top=False,         # ticks along the top edge are off\n",
    "    labelbottom=False) \n",
    "\n",
    "\n",
    "\n",
    "sn.heatmap(df_cm, annot=labels_sens, fmt='', cmap=\"YlGnBu\")\n",
    "plt.xlabel('\\nPredictions', size=25)\n",
    "plt.ylabel('Ground truth', size=25)\n",
    "plt.title(\"Precision\\n\", size=30)\n",
    "\n",
    "plt.savefig(\"confusion_matrix.pdf\", bottom=0.2)\n",
    "\n"
   ]
  },
  {
   "cell_type": "markdown",
   "metadata": {},
   "source": [
    "## ROC AUC"
   ]
  },
  {
   "cell_type": "code",
   "execution_count": 22,
   "metadata": {},
   "outputs": [
    {
     "ename": "FileNotFoundError",
     "evalue": "[Errno 2] No such file or directory: 'eval.dat'",
     "output_type": "error",
     "traceback": [
      "\u001b[0;31m---------------------------------------------------------------------------\u001b[0m",
      "\u001b[0;31mFileNotFoundError\u001b[0m                         Traceback (most recent call last)",
      "\u001b[0;32m<ipython-input-22-2a834a5d4e73>\u001b[0m in \u001b[0;36m<module>\u001b[0;34m\u001b[0m\n\u001b[0;32m----> 1\u001b[0;31m \u001b[0;32mwith\u001b[0m \u001b[0mopen\u001b[0m\u001b[0;34m(\u001b[0m\u001b[0;34m\"eval.dat\"\u001b[0m\u001b[0;34m,\u001b[0m \u001b[0;34m\"rb\"\u001b[0m\u001b[0;34m)\u001b[0m \u001b[0;32mas\u001b[0m \u001b[0moutfile\u001b[0m\u001b[0;34m:\u001b[0m\u001b[0;34m\u001b[0m\u001b[0;34m\u001b[0m\u001b[0m\n\u001b[0m\u001b[1;32m      2\u001b[0m     \u001b[0;34m(\u001b[0m\u001b[0msaved_logits\u001b[0m\u001b[0;34m,\u001b[0m \u001b[0msaved_gt\u001b[0m\u001b[0;34m,\u001b[0m \u001b[0msaved_files\u001b[0m\u001b[0;34m)\u001b[0m \u001b[0;34m=\u001b[0m \u001b[0mpickle\u001b[0m\u001b[0;34m.\u001b[0m\u001b[0mload\u001b[0m\u001b[0;34m(\u001b[0m\u001b[0moutfile\u001b[0m\u001b[0;34m)\u001b[0m\u001b[0;34m\u001b[0m\u001b[0;34m\u001b[0m\u001b[0m\n",
      "\u001b[0;31mFileNotFoundError\u001b[0m: [Errno 2] No such file or directory: 'eval.dat'"
     ]
    }
   ],
   "source": [
    "with open(\"eval.dat\", \"rb\") as outfile:\n",
    "    (saved_logits, saved_gt, saved_files) = pickle.load(outfile)"
   ]
  },
  {
   "cell_type": "code",
   "execution_count": 23,
   "metadata": {},
   "outputs": [],
   "source": [
    "from sklearn.metrics import roc_curve, roc_auc_score, precision_score, recall_score"
   ]
  },
  {
   "cell_type": "markdown",
   "metadata": {},
   "source": [
    "### Compute scores and curve"
   ]
  },
  {
   "cell_type": "code",
   "execution_count": 24,
   "metadata": {},
   "outputs": [],
   "source": [
    "data, scores, roc_auc_std = [], [], []\n",
    "max_points = []\n",
    "for i in range(3):\n",
    "    precs = [[] for _ in range(5)]\n",
    "    recs = [[] for _ in range(5)]\n",
    "    julie_points = [[] for _ in range(5)]\n",
    "    roc_auc = []\n",
    "    for j in range(5):\n",
    "        # roc auc score\n",
    "        preds = saved_logits[j][:, i]\n",
    "        gt = (saved_gt[j] == i).astype(int)\n",
    "        roc_auc.append(roc_auc_score(gt, preds))\n",
    "        # compute roc curve\n",
    "        for k in np.linspace(0,1.1,100):\n",
    "            preds_thresholded = (preds>k).astype(int)\n",
    "            tp = np.sum(preds_thresholded[gt==1])\n",
    "            p = np.sum(gt)\n",
    "            n = len(gt)-p\n",
    "            fp = np.sum(preds_thresholded[gt==0])\n",
    "            inverted = np.absolute(preds_thresholded - 1)\n",
    "            tn = np.sum(inverted[gt==0])\n",
    "            fn = np.sum(inverted[gt==1])\n",
    "            fpr = fp/n\n",
    "            tpr = tp/p\n",
    "            precs[j].append(fpr)\n",
    "            recs[j].append(tpr)\n",
    "            julie_points[j].append((tp+tn)/(tp+tn+fp+fn)) # (TP+TN)/(TP+TN+FN+FP)\n",
    "            # precs[j].append(precision_score(gt, preds_thresholded))\n",
    "            # recs[j].append(recall_score(gt, preds_thresholded))\n",
    "        \n",
    "    # append scores\n",
    "    scores.append(round(np.mean(roc_auc),2))\n",
    "    roc_auc_std.append(round(np.std(roc_auc),2))\n",
    "    # take mean and std of fpr and tpr\n",
    "    stds = np.std(np.asarray(recs), axis=0)\n",
    "    precs = np.mean(np.asarray(precs), axis=0)\n",
    "    recs = np.mean(np.asarray(recs), axis=0)\n",
    "    # point of maximum accuracy\n",
    "    julie_points = np.mean(np.asarray(julie_points), axis=0)\n",
    "    max_points.append(np.argmax(julie_points))\n",
    "    data.append((precs, recs, stds))"
   ]
  },
  {
   "cell_type": "code",
   "execution_count": 25,
   "metadata": {},
   "outputs": [],
   "source": [
    "plt.rcParams['legend.title_fontsize'] = 15\n",
    "from matplotlib import rc\n",
    "\n",
    "# activate latex text rendering\n",
    "rc('text', usetex=False)"
   ]
  },
  {
   "cell_type": "code",
   "execution_count": 27,
   "metadata": {},
   "outputs": [
    {
     "data": {
      "image/png": "[encoded data removed]",
      "text/plain": [
       "<Figure size 504x504 with 1 Axes>"
      ]
     },
     "metadata": {},
     "output_type": "display_data"
    }
   ],
   "source": [
    "cols = [\"red\", \"orange\", \"green\"]\n",
    "classes = [\"COVID-19\", \"Pneumonia\", \"Regular\"]\n",
    "# roc_auc_scores = np.mean(np.asarray(scores), axis=0)\n",
    "plt.figure(figsize=(7,7))\n",
    "for i in range(3):\n",
    "    p, r, s = data[i]\n",
    "    # sns.lineplot(x=p, y=r)\n",
    "    # plt.plot(p, r,label=classes[i])\n",
    "    # plt.plot(p,r-s)\n",
    "    lab = classes[i]+\" (%.2f\"%scores[i]+\"$\\pm$\"+str(roc_auc_std[i])+\")\"\n",
    "    plt.plot(p, r, 'k-', c=cols[i], label=lab, lw=3)\n",
    "    # print(len(r), max_points[i])\n",
    "    plt.scatter(p[max_points[i]], r[max_points[i]], s=150, marker=\"o\", c=cols[i])\n",
    "    plt.fill_between(p, r-s, r+s, alpha=0.1, facecolor=cols[i])\n",
    "plt.ylim(0,1.1)\n",
    "plt.xlim(0,1)\n",
    "plt.ylabel(\"$\\\\bf{Sensitivity}$\", fontsize=15)\n",
    "plt.xlabel(\"$\\\\bf{False\\ positive\\ rate}$\", fontsize=15)\n",
    "plt.legend(fontsize=15, title=\"    $\\\\bf{Class}\\ \\\\bf(ROC-AUC)}$\\n  $\\\\bf{(o:\\ maximal\\ accuracy)}$\")\n",
    "plt.title(\"$\\\\bf{ROC\\ curves}$\", fontsize=15)\n",
    "plt.savefig(\"roc_curves.pdf\", bbox_inches='tight', pad_inches=0, transparent=True)\n",
    "plt.show()"
   ]
  },
  {
   "cell_type": "markdown",
   "metadata": {},
   "source": [
    "### Compute roc-auc score"
   ]
  },
  {
   "cell_type": "code",
   "execution_count": 28,
   "metadata": {},
   "outputs": [
    {
     "name": "stdout",
     "output_type": "stream",
     "text": [
      "[0.94, 0.99, 0.93] [0.06, 0.01, 0.07]\n"
     ]
    }
   ],
   "source": [
    "print(scores, roc_auc_std)"
   ]
  },
  {
   "cell_type": "code",
   "execution_count": 30,
   "metadata": {},
   "outputs": [
    {
     "data": {
      "text/plain": [
       "(array([1.00000000e+00, 7.35584592e-01, 5.79607366e-01, 4.53814770e-01,\n",
       "        3.86981938e-01, 3.38900904e-01, 2.96918601e-01, 2.67853911e-01,\n",
       "        2.45143013e-01, 2.28659756e-01, 2.09371571e-01, 1.84514185e-01,\n",
       "        1.78724560e-01, 1.69534315e-01, 1.54194091e-01, 1.42018200e-01,\n",
       "        1.31502291e-01, 1.20280572e-01, 1.10941134e-01, 8.82160811e-02,\n",
       "        8.46339638e-02, 8.06006387e-02, 6.71751703e-02, 5.66065564e-02,\n",
       "        5.21841623e-02, 4.35265454e-02, 3.85567961e-02, 3.28523508e-02,\n",
       "        3.04994096e-02, 3.04994096e-02, 2.71479054e-02, 2.35036494e-02,\n",
       "        2.35036494e-02, 2.03106011e-02, 1.87357979e-02, 1.55427496e-02,\n",
       "        1.55427496e-02, 1.32955586e-02, 1.32955586e-02, 1.25081570e-02,\n",
       "        1.25081570e-02, 1.25081570e-02, 1.00496351e-02, 1.00496351e-02,\n",
       "        8.76758383e-03, 6.85658675e-03, 5.73299124e-03, 5.73299124e-03,\n",
       "        5.73299124e-03, 4.60939574e-03, 4.60939574e-03, 4.60939574e-03,\n",
       "        2.69839866e-03, 2.69839866e-03, 2.69839866e-03, 2.69839866e-03,\n",
       "        2.69839866e-03, 2.69839866e-03, 2.69839866e-03, 2.69839866e-03,\n",
       "        2.69839866e-03, 1.57480315e-03, 1.57480315e-03, 1.57480315e-03,\n",
       "        1.57480315e-03, 1.57480315e-03, 1.57480315e-03, 1.57480315e-03,\n",
       "        7.87401575e-04, 7.87401575e-04, 7.87401575e-04, 7.87401575e-04,\n",
       "        7.87401575e-04, 7.87401575e-04, 7.87401575e-04, 7.87401575e-04,\n",
       "        0.00000000e+00, 0.00000000e+00, 0.00000000e+00, 0.00000000e+00,\n",
       "        0.00000000e+00, 0.00000000e+00, 0.00000000e+00, 0.00000000e+00,\n",
       "        0.00000000e+00, 0.00000000e+00, 0.00000000e+00, 0.00000000e+00,\n",
       "        0.00000000e+00, 0.00000000e+00, 0.00000000e+00, 0.00000000e+00,\n",
       "        0.00000000e+00, 0.00000000e+00, 0.00000000e+00, 0.00000000e+00,\n",
       "        0.00000000e+00, 0.00000000e+00, 0.00000000e+00, 0.00000000e+00]),\n",
       " array([1.        , 0.99090909, 0.99090909, 0.99090909, 0.99090909,\n",
       "        0.99090909, 0.96246334, 0.94624713, 0.9289847 , 0.88708885,\n",
       "        0.84242688, 0.81539986, 0.79813743, 0.78732662, 0.7700642 ,\n",
       "        0.75925339, 0.75384798, 0.74303717, 0.73286986, 0.72141825,\n",
       "        0.72141825, 0.71125094, 0.67844599, 0.66935508, 0.66935508,\n",
       "        0.64297156, 0.63388065, 0.61397893, 0.61397893, 0.60857352,\n",
       "        0.60857352, 0.60212191, 0.59736001, 0.59736001, 0.5882691 ,\n",
       "        0.58350719, 0.56922148, 0.56922148, 0.56922148, 0.56445957,\n",
       "        0.55969767, 0.54065005, 0.53112624, 0.53112624, 0.52636433,\n",
       "        0.51207862, 0.51207862, 0.50562701, 0.4961032 , 0.4911032 ,\n",
       "        0.4911032 , 0.4911032 , 0.48465158, 0.48465158, 0.46965158,\n",
       "        0.45965158, 0.44579877, 0.43579877, 0.41079877, 0.40079877,\n",
       "        0.39103687, 0.38603687, 0.36218405, 0.36218405, 0.35242215,\n",
       "        0.35242215, 0.31826491, 0.308503  , 0.29205139, 0.27319858,\n",
       "        0.25910767, 0.25910767, 0.25910767, 0.24434576, 0.20116394,\n",
       "        0.17562142, 0.15585952, 0.1376777 , 0.10784946, 0.10284946,\n",
       "        0.09139785, 0.08018433, 0.07542243, 0.07542243, 0.07542243,\n",
       "        0.06897081, 0.0577573 , 0.05130568, 0.02580645, 0.01935484,\n",
       "        0.        , 0.        , 0.        , 0.        , 0.        ,\n",
       "        0.        , 0.        , 0.        , 0.        , 0.        ]),\n",
       " array([0.        , 0.01818182, 0.01818182, 0.01818182, 0.01818182,\n",
       "        0.01818182, 0.04601023, 0.04417464, 0.05993234, 0.0922678 ,\n",
       "        0.13026103, 0.16118782, 0.1805944 , 0.19659983, 0.21695344,\n",
       "        0.23417181, 0.24304501, 0.26122979, 0.26602377, 0.26349771,\n",
       "        0.26349771, 0.26839898, 0.29039843, 0.2894375 , 0.2894375 ,\n",
       "        0.3218653 , 0.32128111, 0.34019162, 0.34019162, 0.34956064,\n",
       "        0.34956064, 0.35090701, 0.34657956, 0.34657956, 0.34722508,\n",
       "        0.34298942, 0.33160162, 0.33160162, 0.33160162, 0.32827084,\n",
       "        0.32518497, 0.31542571, 0.31217924, 0.31217924, 0.31098108,\n",
       "        0.30912415, 0.30912415, 0.30930885, 0.30933549, 0.3016612 ,\n",
       "        0.3016612 , 0.3016612 , 0.30209153, 0.30209153, 0.27964055,\n",
       "        0.26550305, 0.26288591, 0.2488473 , 0.21786445, 0.20755937,\n",
       "        0.20184327, 0.1974869 , 0.18358189, 0.18358189, 0.1790579 ,\n",
       "        0.1790579 , 0.16635098, 0.16157002, 0.14927172, 0.14153016,\n",
       "        0.1361417 , 0.1361417 , 0.1361417 , 0.12984138, 0.12632198,\n",
       "        0.12207394, 0.12824504, 0.13593397, 0.12343299, 0.12615149,\n",
       "        0.11857246, 0.10474524, 0.10230046, 0.10230046, 0.10230046,\n",
       "        0.09096815, 0.07726804, 0.06621706, 0.0516129 , 0.03870968,\n",
       "        0.        , 0.        , 0.        , 0.        , 0.        ,\n",
       "        0.        , 0.        , 0.        , 0.        , 0.        ]))"
      ]
     },
     "execution_count": 30,
     "metadata": {},
     "output_type": "execute_result"
    }
   ],
   "source": [
    "data[i]"
   ]
  },
  {
   "cell_type": "code",
   "execution_count": null,
   "metadata": {},
   "outputs": [],
   "source": []
  }
 ],
 "metadata": {
  "kernelspec": {
   "display_name": "Python 3",
   "language": "python",
   "name": "python3"
  },
  "language_info": {
   "codemirror_mode": {
    "name": "ipython",
    "version": 3
   },
   "file_extension": ".py",
   "mimetype": "text/x-python",
   "name": "python",
   "nbconvert_exporter": "python",
   "pygments_lexer": "ipython3",
   "version": "3.7.6"
  }
 },
 "nbformat": 4,
 "nbformat_minor": 4
}

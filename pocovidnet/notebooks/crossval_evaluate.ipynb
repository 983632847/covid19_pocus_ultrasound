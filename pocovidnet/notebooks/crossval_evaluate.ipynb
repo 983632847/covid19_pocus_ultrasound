{
 "cells": [
  {
   "cell_type": "code",
   "execution_count": 14,
   "metadata": {},
   "outputs": [],
   "source": [
    "import os\n",
    "import numpy as np\n",
    "import cv2\n",
    "from imutils import paths\n",
    "from sklearn.metrics import accuracy_score\n",
    "from sklearn.metrics import classification_report, confusion_matrix\n",
    "import matplotlib.pyplot as plt\n",
    "from scipy import stats\n",
    "import pickle\n",
    "import pandas as pd\n",
    "import seaborn as sn\n",
    "\n",
    "from sklearn.metrics import accuracy_score, balanced_accuracy_score, precision_score, recall_score"
   ]
  },
  {
   "cell_type": "code",
   "execution_count": 382,
   "metadata": {
    "scrolled": true
   },
   "outputs": [
    {
     "name": "stderr",
     "output_type": "stream",
     "text": [
      "/Users/ninawiedemann/miniconda3/envs/covid_env/lib/python3.6/site-packages/tensorflow/python/framework/dtypes.py:526: FutureWarning: Passing (type, 1) or '1type' as a synonym of type is deprecated; in a future version of numpy, it will be understood as (type, (1,)) / '(1,)type'.\n",
      "  _np_qint8 = np.dtype([(\"qint8\", np.int8, 1)])\n",
      "/Users/ninawiedemann/miniconda3/envs/covid_env/lib/python3.6/site-packages/tensorflow/python/framework/dtypes.py:527: FutureWarning: Passing (type, 1) or '1type' as a synonym of type is deprecated; in a future version of numpy, it will be understood as (type, (1,)) / '(1,)type'.\n",
      "  _np_quint8 = np.dtype([(\"quint8\", np.uint8, 1)])\n",
      "/Users/ninawiedemann/miniconda3/envs/covid_env/lib/python3.6/site-packages/tensorflow/python/framework/dtypes.py:528: FutureWarning: Passing (type, 1) or '1type' as a synonym of type is deprecated; in a future version of numpy, it will be understood as (type, (1,)) / '(1,)type'.\n",
      "  _np_qint16 = np.dtype([(\"qint16\", np.int16, 1)])\n",
      "/Users/ninawiedemann/miniconda3/envs/covid_env/lib/python3.6/site-packages/tensorflow/python/framework/dtypes.py:529: FutureWarning: Passing (type, 1) or '1type' as a synonym of type is deprecated; in a future version of numpy, it will be understood as (type, (1,)) / '(1,)type'.\n",
      "  _np_quint16 = np.dtype([(\"quint16\", np.uint16, 1)])\n",
      "/Users/ninawiedemann/miniconda3/envs/covid_env/lib/python3.6/site-packages/tensorflow/python/framework/dtypes.py:530: FutureWarning: Passing (type, 1) or '1type' as a synonym of type is deprecated; in a future version of numpy, it will be understood as (type, (1,)) / '(1,)type'.\n",
      "  _np_qint32 = np.dtype([(\"qint32\", np.int32, 1)])\n",
      "/Users/ninawiedemann/miniconda3/envs/covid_env/lib/python3.6/site-packages/tensorflow/python/framework/dtypes.py:535: FutureWarning: Passing (type, 1) or '1type' as a synonym of type is deprecated; in a future version of numpy, it will be understood as (type, (1,)) / '(1,)type'.\n",
      "  np_resource = np.dtype([(\"resource\", np.ubyte, 1)])\n"
     ]
    }
   ],
   "source": [
    "from covid_detector.evaluate_covid19 import Evaluator"
   ]
  },
  {
   "cell_type": "markdown",
   "metadata": {},
   "source": [
    "### Functions for prediction of video label"
   ]
  },
  {
   "cell_type": "code",
   "execution_count": 37,
   "metadata": {},
   "outputs": [],
   "source": [
    "def majority_vote(preds, gt, vid_filenames):\n",
    "    \"\"\"\n",
    "    Arguments:\n",
    "    \tpreds: predicted classes (1-d list of class_names or integers)\n",
    "        gt: list of same size with ground truth labels\n",
    "        vid_filenames: list of filenames\n",
    "    \"\"\"\n",
    "    preds = np.asarray(preds)\n",
    "    gt = np.asarray(gt)\n",
    "    vids = np.asarray([vid.split(\".\")[0] for vid in vid_filenames])\n",
    "    vid_preds_out = []\n",
    "    for v in np.unique(vids):\n",
    "        preds_video = preds[vids==v]\n",
    "        gt_check = np.unique(gt[vids==v])\n",
    "        assert len(gt_check)==1, \"gt must have the same label for the whole video\"\n",
    "        labs, pred_counts = np.unique(preds_video, return_counts=True)\n",
    "        # take label that is predicted most often\n",
    "        vid_pred = labs[np.argmax(pred_counts)]\n",
    "        # print(\"preds for video:\", preds_video)\n",
    "        # print(v, vid_pred, gt_check[0])\n",
    "        vid_preds_out.append([v, vid_pred, gt_check[0]])\n",
    "    # print(\"video accuracy (majority):\", accuracy_score([p[1] for p in vid_preds_out], [p[2] for p in vid_preds_out]))\n",
    "    return vid_preds_out\n",
    "        \n",
    "def average_certainty(preds_logits, gt, vid_filenames):\n",
    "    \"\"\"\n",
    "    Arguments:\n",
    "    \tpreds: predicted classes (1-d list of class_names or integers)\n",
    "        gt: list of same size with ground truth labels\n",
    "        vid_filenames: list of filenames\n",
    "    \"\"\"\n",
    "    preds_logits = np.asarray(preds_logits)\n",
    "    gt = np.asarray(gt)\n",
    "    vid_preds_out = []\n",
    "    vids = np.array([vid.split(\".\")[0] for vid in vid_filenames])\n",
    "    for v in np.unique(vids):\n",
    "        preds_video_logits = preds_logits[vids==v]\n",
    "        preds_video = np.sum(preds_video_logits, axis=0)\n",
    "        # print(\"preds for video:\", preds_video)\n",
    "        gt_check = np.unique(gt[vids==v])\n",
    "        assert len(gt_check)==1, \"gt must have the same label for the whole video\"\n",
    "        # take label that is predicted most often\n",
    "        vid_pred = np.argmax(preds_video)\n",
    "        # print(v, vid_pred, gt_check[0])\n",
    "        vid_preds_out.append([v, vid_pred, gt_check[0]])\n",
    "    # print(\"video accuracy (certainty):\", accuracy_score([p[1] for p in vid_preds_out], [p[2] for p in vid_preds_out]))\n",
    "    return vid_preds_out"
   ]
  },
  {
   "cell_type": "markdown",
   "metadata": {},
   "source": [
    "## Evaluation script for cross validation"
   ]
  },
  {
   "cell_type": "code",
   "execution_count": 4,
   "metadata": {},
   "outputs": [
    {
     "name": "stdout",
     "output_type": "stream",
     "text": [
      "------------- SPLIT  0 -------------------\n",
      "init\n",
      "Loading weights from  ../trained_models/fold_0/variables/variables\n",
      "WARNING:tensorflow:From /Users/ninawiedemann/miniconda3/envs/covid_env/lib/python3.6/site-packages/tensorflow/python/ops/resource_variable_ops.py:435: colocate_with (from tensorflow.python.framework.ops) is deprecated and will be removed in a future version.\n",
      "Instructions for updating:\n",
      "Colocations handled automatically by placer.\n",
      "WARNING:tensorflow:From /Users/ninawiedemann/miniconda3/envs/covid_env/lib/python3.6/site-packages/tensorflow/python/keras/layers/core.py:143: calling dropout (from tensorflow.python.ops.nn_ops) with keep_prob is deprecated and will be removed in a future version.\n",
      "Instructions for updating:\n",
      "Please use `rate` instead of `keep_prob`. Rate should be set to `rate = 1 - keep_prob`.\n",
      "Model restored. Class mappings are ['covid', 'pneunomia', 'regular']\n",
      "              precision    recall  f1-score   support\n",
      "\n",
      "       covid       0.70      0.56      0.62        63\n",
      "   pneunomia       0.71      0.79      0.75        28\n",
      "     regular       0.67      0.81      0.74        48\n",
      "\n",
      "    accuracy                           0.69       139\n",
      "   macro avg       0.69      0.72      0.70       139\n",
      "weighted avg       0.69      0.69      0.69       139\n",
      "\n",
      "preds for video: [0.41692764 5.862566   2.720506  ]\n",
      "Cov-Atlas+(44) 1 0\n",
      "preds for video: [0.2946806 1.1493942 3.5559251]\n",
      "Cov-Atlas+(45) 2 0\n",
      "preds for video: [0.2536777 2.318747  5.4275756]\n",
      "Cov-Atlas-+(43) 2 0\n",
      "preds for video: [1.0876949  0.30086467 5.61144   ]\n",
      "Cov-Atlas-Day+1 2 0\n",
      "preds for video: [11.281307   2.2195392  3.4991531]\n",
      "Cov-Atlas-Day+2 0 0\n",
      "preds for video: [6.9004602  0.37701795 0.72252214]\n",
      "Cov-Atlas-Day+3 0 0\n",
      "preds for video: [7.207155   0.11220858 0.68063533]\n",
      "Cov-Atlas-Day+4 0 0\n",
      "preds for video: [0.9263738  0.06457515 0.0090511 ]\n",
      "Cov-B_ConvexProb_score1 0 0\n",
      "preds for video: [ 3.1745064 23.195557   1.6299381]\n",
      "Pneu-grep-pneumonia2 1 1\n",
      "preds for video: [5.6316576 1.944488  4.4238553]\n",
      "Reg-Atlas 0 2\n",
      "preds for video: [ 0.09701819  1.1377169  10.765265  ]\n",
      "Reg-Atlas-alines 2 2\n",
      "preds for video: [0.48782772 2.7532372  8.758935  ]\n",
      "Reg-Atlas-lungcurtain 2 2\n",
      "preds for video: [1.9299976 2.7541149 7.3158875]\n",
      "Reg-Youtube 2 2\n",
      "video accuracy (certainty): 0.6153846153846154\n",
      "preds for video: [1 1 1 1 1 1 1 1 1]\n",
      "preds for video: [2 2 2 2 2]\n",
      "preds for video: [2 2 2 2 2 2 2 2]\n",
      "preds for video: [2 2 2 0 2 2 2]\n",
      "preds for video: [0 0 0 0 0 0 0 0 0 0 0 0 0 0 0 0 0]\n",
      "preds for video: [0 0 0 0 0 0 0 0]\n",
      "preds for video: [0 0 0 0 0 0 0 0]\n",
      "preds for video: [0]\n",
      "preds for video: [1 1 0 1 1 1 1 1 1 1 0 0 1 1 1 1 1 1 0 1 0 0 1 1 1 1 1 1]\n",
      "preds for video: [0 0 2 2 2 2 0 0 2 0 0 0]\n",
      "preds for video: [2 2 2 2 2 2 2 2 2 2 2 2]\n",
      "preds for video: [2 2 2 2 2 2 2 2 2 2 2 2]\n",
      "preds for video: [2 2 0 2 2 2 2 2 0 2 2 2]\n",
      "video accuracy (majority): 0.6153846153846154\n",
      "------------- SPLIT  1 -------------------\n",
      "init\n",
      "Loading weights from  ../trained_models/fold_1/variables/variables\n",
      "Model restored. Class mappings are ['covid', 'pneunomia', 'regular']\n",
      "              precision    recall  f1-score   support\n",
      "\n",
      "       covid       1.00      0.99      1.00       111\n",
      "   pneunomia       0.96      1.00      0.98        22\n",
      "     regular       1.00      1.00      1.00        49\n",
      "\n",
      "    accuracy                           0.99       182\n",
      "   macro avg       0.99      1.00      0.99       182\n",
      "weighted avg       0.99      0.99      0.99       182\n",
      "\n",
      "preds for video: [49.459686   0.8778944  4.66241  ]\n",
      "Cov-Butterfly-COVID Lung 1 0 0\n",
      "preds for video: [0.01668004 0.88386697 0.09945303]\n",
      "Cov-C_ConvexProb_score3 1 0\n",
      "preds for video: [48.888733   0.8593776  5.251895 ]\n",
      "Cov-MSU-SkipLesions 0 0\n",
      "preds for video: [0.52138484 9.024886   2.4537296 ]\n",
      "Pneu-Atlas-pneumonia 1 1\n",
      "preds for video: [4.1147294e-05 9.9864788e+00 1.3480580e-02]\n",
      "Pneu-grep-pneumonia4 1 1\n",
      "preds for video: [ 4.2803226  1.1730975 43.546577 ]\n",
      "Reg-Butterfly 2 2\n",
      "video accuracy (certainty): 0.8333333333333334\n",
      "preds for video: [0 0 0 0 0 0 0 0 0 0 0 0 0 0 0 0 0 0 0 0 0 0 0 0 0 0 0 0 0 0 0 0 0 0 0 0 0\n",
      " 0 0 0 0 0 0 0 0 0 0 0 0 0 0 0 0 0 0]\n",
      "preds for video: [1]\n",
      "preds for video: [0 0 0 0 0 0 0 0 0 0 0 0 0 0 0 0 0 0 0 0 0 0 0 0 0 0 0 0 0 0 0 0 0 0 0 0 0\n",
      " 0 0 0 0 0 0 0 0 0 0 0 0 0 0 0 0 0 0]\n",
      "preds for video: [1 1 1 1 1 1 1 1 1 1 1 1]\n",
      "preds for video: [1 1 1 1 1 1 1 1 1 1]\n",
      "preds for video: [2 2 2 2 2 2 2 2 2 2 2 2 2 2 2 2 2 2 2 2 2 2 2 2 2 2 2 2 2 2 2 2 2 2 2 2 2\n",
      " 2 2 2 2 2 2 2 2 2 2 2 2]\n",
      "video accuracy (majority): 0.8333333333333334\n",
      "------------- SPLIT  2 -------------------\n",
      "init\n",
      "Loading weights from  ../trained_models/fold_2/variables/variables\n",
      "Model restored. Class mappings are ['covid', 'pneunomia', 'regular']\n",
      "              precision    recall  f1-score   support\n",
      "\n",
      "       covid       1.00      1.00      1.00        94\n",
      "   pneunomia       1.00      1.00      1.00        26\n",
      "     regular       1.00      1.00      1.00        35\n",
      "\n",
      "    accuracy                           1.00       155\n",
      "   macro avg       1.00      1.00      1.00       155\n",
      "weighted avg       1.00      1.00      1.00       155\n",
      "\n",
      "preds for video: [42.184307  1.141545  3.674146]\n",
      "Cov-Butterfly-COVID Lung 2 0 0\n",
      "preds for video: [41.137127   1.415992   4.4468822]\n",
      "Cov-MSU-COVID Lung 2-Blines 0 0\n",
      "preds for video: [4.2988006e-03 6.8543482e+00 1.4135283e-01]\n",
      "Pneu-grep-pneumonia3 1 1\n",
      "preds for video: [0.71609277 0.02679102 7.2571163 ]\n",
      "Reg-Grep-Alines 2 2\n",
      "preds for video: [7.9162093e-03 5.3084320e-01 1.0461242e+01]\n",
      "Reg-NormalLungs 2 2\n",
      "preds for video: [1.0826740e-02 1.2671584e-02 1.5976501e+01]\n",
      "Reg-Youtube-Video_902_Lung_POCUS-left 2 2\n",
      "preds for video: [ 0.09891438 12.18862     0.7124652 ]\n",
      "pneu-everyday 1 1\n",
      "preds for video: [3.0895937e-03 5.9846601e+00 1.2250386e-02]\n",
      "pneu-gred-7 1 1\n",
      "video accuracy (certainty): 1.0\n",
      "preds for video: [0 0 0 0 0 0 0 0 0 0 0 0 0 0 0 0 0 0 0 0 0 0 0 0 0 0 0 0 0 0 0 0 0 0 0 0 0\n",
      " 0 0 0 0 0 0 0 0 0 0]\n",
      "preds for video: [0 0 0 0 0 0 0 0 0 0 0 0 0 0 0 0 0 0 0 0 0 0 0 0 0 0 0 0 0 0 0 0 0 0 0 0 0\n",
      " 0 0 0 0 0 0 0 0 0 0]\n",
      "preds for video: [1 1 1 1 1 1 1]\n",
      "preds for video: [2 2 2 2 2 2 2 2]\n",
      "preds for video: [2 2 2 2 2 2 2 2 2 2 2]\n",
      "preds for video: [2 2 2 2 2 2 2 2 2 2 2 2 2 2 2 2]\n",
      "preds for video: [1 1 1 1 1 1 1 1 1 1 1 1 1]\n",
      "preds for video: [1 1 1 1 1 1]\n",
      "video accuracy (majority): 1.0\n",
      "------------- SPLIT  3 -------------------\n",
      "init\n",
      "Loading weights from  ../trained_models/fold_3/variables/variables\n",
      "Model restored. Class mappings are ['covid', 'pneunomia', 'regular']\n",
      "              precision    recall  f1-score   support\n",
      "\n",
      "       covid       0.96      0.93      0.95        88\n",
      "   pneunomia       0.96      1.00      0.98        25\n",
      "     regular       0.84      0.90      0.87        30\n",
      "\n",
      "    accuracy                           0.94       143\n",
      "   macro avg       0.92      0.94      0.93       143\n",
      "weighted avg       0.94      0.94      0.94       143\n",
      "\n",
      "preds for video: [78.12149    1.816316   7.0622025]\n",
      "Cov-Butterfly-COVID Skip Lesion 0 0\n",
      "preds for video: [0.0496341  0.7562337  0.19413213]\n",
      "Cov-D_Convex_Prob_score3 1 0\n",
      "preds for video: [ 0.10375641 12.85957     0.03667431]\n",
      "Pneu-grep-pneumonia1 1 1\n",
      "preds for video: [6.6977744  0.08658654 9.21564   ]\n",
      "Reg-Youtube-Video_902_Lung_POCUS 2 2\n",
      "preds for video: [3.9696053e-02 2.1802711e-03 6.9581242e+00]\n",
      "Reg-Youtube_Video_29_Lung_POCUS_right 2 2\n",
      "preds for video: [0.44685504 0.17098393 6.3821607 ]\n",
      "Reg-nephropocus 2 2\n",
      "preds for video: [ 0.12750927 11.849777    0.02271395]\n",
      "pneu-gred-6 1 1\n",
      "video accuracy (certainty): 0.8571428571428571\n",
      "preds for video: [0 0 0 0 0 0 0 2 0 0 0 0 0 0 0 0 0 0 0 0 0 0 0 0 0 0 0 0 0 0 0 0 0 0 0 0 0\n",
      " 0 0 0 0 0 0 0 0 0 0 0 0 0 0 0 0 0 0 0 0 0 0 0 0 0 0 0 0 0 0 0 2 2 0 0 0 0\n",
      " 0 0 0 0 2 0 0 0 0 0 0 2 0]\n",
      "preds for video: [1]\n",
      "preds for video: [1 1 1 1 1 1 1 1 1 1 1 1 1]\n",
      "preds for video: [2 2 2 2 2 2 2 2 2 0 0 2 2 0 2 2]\n",
      "preds for video: [2 2 2 2 2 2 2]\n",
      "preds for video: [2 2 2 2 2 2 2]\n",
      "preds for video: [1 1 1 1 1 1 1 1 1 1 1 1]\n",
      "video accuracy (majority): 0.8571428571428571\n",
      "------------- SPLIT  4 -------------------\n",
      "init\n",
      "Loading weights from  ../trained_models/fold_4/variables/variables\n",
      "Model restored. Class mappings are ['covid', 'pneunomia', 'regular']\n",
      "              precision    recall  f1-score   support\n",
      "\n",
      "       covid       0.68      0.62      0.65        80\n",
      "   pneunomia       0.96      0.87      0.92        31\n",
      "     regular       0.22      0.30      0.25        27\n",
      "\n",
      "    accuracy                           0.62       138\n",
      "   macro avg       0.62      0.60      0.61       138\n",
      "weighted avg       0.66      0.62      0.63       138\n",
      "\n",
      "preds for video: [0.17086805 0.60056007 0.22857185]\n",
      "Cov-C_Convex_Prob_score2 1 0\n",
      "preds for video: [11.925936    0.15491189  8.919153  ]\n",
      "Cov-clarius 0 0\n",
      "preds for video: [13.08319     0.50392926  7.412879  ]\n",
      "Cov-grepmed-blines-pocus- 0 0\n",
      "preds for video: [ 6.539376    0.08638698 12.374236  ]\n",
      "Cov-grepmed2 2 0\n",
      "preds for video: [1.7995806e+01 8.8430673e-04 3.3106524e-03]\n",
      "Cov-grepmed3 0 0\n",
      "preds for video: [0.07202855 7.903541   0.02443035]\n",
      "Pneu-Atlas-pneumonia-AirBronch 1 1\n",
      "preds for video: [0.10670329 7.839998   0.05329855]\n",
      "Pneu-Atlas-pneumonia2 1 1\n",
      "preds for video: [6.9926643e+00 4.2320049e-04 6.9122016e-03]\n",
      "Reg-Grep-Normal 0 2\n",
      "preds for video: [0.3453817  0.02589639 6.6287217 ]\n",
      "Reg-Youtube_Video_29_Lung_POCUS_left 2 2\n",
      "preds for video: [7.859549  2.5347235 2.6057272]\n",
      "Reg-bcpocus 0 2\n",
      "preds for video: [ 3.8731365 10.028043   1.0988209]\n",
      "pneu-radiopaeda 1 1\n",
      "video accuracy (certainty): 0.6363636363636364\n",
      "preds for video: [1]\n",
      "preds for video: [0 0 0 2 0 0 0 0 2 2 0 2 0 0 2 0 2 0 2 0 0]\n",
      "preds for video: [0 0 0 0 0 0 0 2 0 2 2 0 0 0 0 0 0 0 0 0 0]\n",
      "preds for video: [2 2 2 2 2 2 2 2 2 2 2 2 2 2 2 2 2 2 2]\n",
      "preds for video: [0 0 0 0 0 0 0 0 0 0 0 0 0 0 0 0 0 0]\n",
      "preds for video: [1 1 1 1 1 1 1 1]\n",
      "preds for video: [1 1 1 1 1 1 1 1]\n",
      "preds for video: [0 0 0 0 0 0 0]\n",
      "preds for video: [2 2 2 2 2 2 2]\n",
      "preds for video: [0 0 0 0 0 0 0 0 0 0 0 0 2]\n",
      "preds for video: [0 1 1 1 1 1 0 0 0 1 1 1 1 1 1]\n",
      "video accuracy (majority): 0.6363636363636364\n"
     ]
    }
   ],
   "source": [
    "saved_logits, saved_gt, saved_files = [], [], []\n",
    "\n",
    "for i in range(5):\n",
    "    print(\"------------- SPLIT \", i, \"-------------------\")\n",
    "    # define data input path\n",
    "    path = \"../data_pocus/cross_validation_data/split\"+str(i)\n",
    "    \n",
    "    train_labels, test_labels, test_files = [], [], []\n",
    "    train_data, test_data = [], []\n",
    "\n",
    "    # loop over the image paths (train and test)\n",
    "    for imagePath in paths.list_images(path):\n",
    "\n",
    "        # extract the class label from the filename\n",
    "        label = imagePath.split(os.path.sep)[-2]\n",
    "\n",
    "        # load the image, swap color channels, and resize it to be a fixed\n",
    "        # 224x224 pixels while ignoring aspect ratio\n",
    "        image = cv2.imread(imagePath)\n",
    "        # image = cv2.cvtColor(image, cv2.COLOR_BGR2RGB)\n",
    "        # image = cv2.resize(image, (224, 224))\n",
    "\n",
    "        # update the data and labels lists, respectively\n",
    "        test_labels.append(label)\n",
    "        test_data.append(image)\n",
    "        test_files.append(imagePath.split(os.path.sep)[-1])\n",
    "\n",
    "    # build ground truth data\n",
    "    classes = [\"covid\", \"pneunomia\", \"regular\"]\n",
    "    gt_class_idx = np.array([classes.index(lab) for lab in test_labels])\n",
    "    \n",
    "    # load model\n",
    "    model = Evaluator(split=str(i))\n",
    "    \n",
    "    # MAIN STEP: feed through model and compute logits\n",
    "    logits = np.array([model(img) for img in test_data])\n",
    "    \n",
    "    # remember for evaluation:\n",
    "    saved_logits.append(logits)\n",
    "    saved_gt.append(gt_class_idx)\n",
    "    saved_files.append(test_files)\n",
    "    \n",
    "    # output the information\n",
    "    predIdxs = np.argmax(logits, axis=1)\n",
    "    \n",
    "    print(\n",
    "    classification_report(\n",
    "        gt_class_idx, predIdxs, target_names=classes\n",
    "        )\n",
    "    )\n",
    "\n",
    "    vid_preds_certainty = average_certainty(logits, gt_class_idx, np.array(test_files))\n",
    "    vid_preds_majority = majority_vote(predIdxs, gt_class_idx, np.array(test_files))\n",
    "    print(\"video accuracies:\", vid_preds_certainty, vid_preds_majority)"
   ]
  },
  {
   "cell_type": "markdown",
   "metadata": {},
   "source": [
    "### Save outputs"
   ]
  },
  {
   "cell_type": "code",
   "execution_count": 6,
   "metadata": {},
   "outputs": [],
   "source": [
    "import pickle\n",
    "with open(\"eval.dat\", \"wb\") as outfile:\n",
    "    pickle.dump((saved_logits, saved_gt, saved_files), outfile)"
   ]
  },
  {
   "cell_type": "markdown",
   "metadata": {},
   "source": [
    "### Load outputs"
   ]
  },
  {
   "cell_type": "code",
   "execution_count": 20,
   "metadata": {},
   "outputs": [],
   "source": [
    "import pickle\n",
    "with open(\"eval.dat\", \"rb\") as outfile:\n",
    "    (saved_logits, saved_gt, saved_files) = pickle.load(outfile)"
   ]
  },
  {
   "cell_type": "markdown",
   "metadata": {},
   "source": [
    "## Compute scores of our model"
   ]
  },
  {
   "cell_type": "markdown",
   "metadata": {},
   "source": [
    "### Sum up confusion matrices"
   ]
  },
  {
   "cell_type": "code",
   "execution_count": 21,
   "metadata": {},
   "outputs": [],
   "source": [
    "all_cms = np.zeros((5,3,3))\n",
    "for s in range(5):\n",
    "    # print(saved_files[s])\n",
    "    gt_s = saved_gt[s]\n",
    "    pred_idx_s = np.argmax(np.array(saved_logits[s]), axis=1)\n",
    "    assert len(gt_s)==len(pred_idx_s)\n",
    "    cm = np.array(confusion_matrix(gt_s, pred_idx_s))\n",
    "    all_cms[s] = cm"
   ]
  },
  {
   "cell_type": "markdown",
   "metadata": {},
   "source": [
    "### Compute the reports and accuracies"
   ]
  },
  {
   "cell_type": "code",
   "execution_count": 22,
   "metadata": {},
   "outputs": [],
   "source": [
    "classes = [\"covid\", \"pneunomia\", \"regular\"]\n",
    "\n",
    "all_reports = []\n",
    "accs = []\n",
    "bal_accs = []\n",
    "for s in range(5):\n",
    "    gt_s = saved_gt[s]\n",
    "    pred_idx_s = np.argmax(np.array(saved_logits[s]), axis=1)\n",
    "    report = classification_report(\n",
    "        gt_s, pred_idx_s, target_names=classes, output_dict=True\n",
    "        )\n",
    "    df = pd.DataFrame(report).transpose()\n",
    "    #print(report[\"accuracy\"])\n",
    "    # print(np.array(df)[:3,:])\n",
    "    accs.append(report[\"accuracy\"])\n",
    "    bal_accs.append(balanced_accuracy_score(gt_s, pred_idx_s))\n",
    "    # df = np.array(report)\n",
    "    all_reports.append(np.array(df)[:3])"
   ]
  },
  {
   "cell_type": "markdown",
   "metadata": {
    "scrolled": true
   },
   "source": [
    "### Output accuracy"
   ]
  },
  {
   "cell_type": "code",
   "execution_count": 23,
   "metadata": {},
   "outputs": [
    {
     "name": "stdout",
     "output_type": "stream",
     "text": [
      "The accuracy and balanced accuracy of our model are:\n",
      "[0.69 0.99 1.   0.94 0.62] [0.72 1.   1.   0.94 0.6 ]\n",
      "MEAN ACC: 0.85 MEAN BAL ACC: 0.85\n"
     ]
    }
   ],
   "source": [
    "print(\"The accuracy and balanced accuracy of our model are:\")\n",
    "print(np.around(accs,2),np.around(bal_accs,2))\n",
    "print(\"MEAN ACC:\", round(np.mean(accs), 2), \"MEAN BAL ACC:\", round(np.mean(bal_accs),2))"
   ]
  },
  {
   "cell_type": "markdown",
   "metadata": {},
   "source": [
    "## Make table of results distinguished by classes"
   ]
  },
  {
   "cell_type": "markdown",
   "metadata": {},
   "source": [
    "#### Helper functions"
   ]
  },
  {
   "cell_type": "code",
   "execution_count": 24,
   "metadata": {},
   "outputs": [],
   "source": [
    "def comp_nr_videos(saved_files):\n",
    "    file_list = []\n",
    "    for sav in saved_files:\n",
    "        file_list.extend(sav)\n",
    "    assert len(np.unique(file_list)) == len(file_list)\n",
    "    cutted_files = [f.split(\".\")[0] for f in file_list]\n",
    "    print(\"number of videos\", len(np.unique(cutted_files)))\n",
    "    vid_file_labels = [v[:3].lower() for v in np.unique(cutted_files)]\n",
    "    print(len(vid_file_labels))\n",
    "    print(np.unique(vid_file_labels, return_counts=True))\n",
    "    lab, counts = np.unique(vid_file_labels, return_counts=True)\n",
    "    return counts.tolist()\n",
    "\n",
    "def compute_specificity(all_cms):\n",
    "    \"\"\"\n",
    "    Function to compute the specificity from confusion matrices\n",
    "    all_cms: array of size 5 x 3 x 3 --> confusion matrix for each fold\n",
    "    \"\"\"\n",
    "    specificities_fold = []\n",
    "    for k in range(len(all_cms)):\n",
    "        arr = all_cms[k]\n",
    "        overall = np.sum(arr)\n",
    "        specificity = []\n",
    "        for i in range(len(arr)):\n",
    "            tn_fp = overall - np.sum(arr[i])\n",
    "            # print(bottom_six)\n",
    "            fp = 0\n",
    "            for j in range(len(arr)):\n",
    "                if i!=j:\n",
    "                    fp += arr[j, i]\n",
    "            spec = (tn_fp-fp)/tn_fp\n",
    "            # print(\"tn\", tn_fp-fp, \"tn and fp:\", tn_fp)\n",
    "            # print(spec)\n",
    "            specificity.append(spec)\n",
    "        specificities_fold.append(specificity)\n",
    "    out_spec = np.mean(np.asarray(specificities_fold), axis=0)\n",
    "    return np.around(out_spec, 2)"
   ]
  },
  {
   "cell_type": "code",
   "execution_count": 25,
   "metadata": {},
   "outputs": [],
   "source": [
    "df_arr = np.around(np.mean(all_reports, axis=0), 2)"
   ]
  },
  {
   "cell_type": "code",
   "execution_count": 26,
   "metadata": {},
   "outputs": [],
   "source": [
    "df_classes = pd.DataFrame(df_arr, columns=[\"Precision\", \"Recall\", \"F1-score\", \"Support\"], index=[\"covid\",\"pneunomia\", \"regular\"])\n"
   ]
  },
  {
   "cell_type": "markdown",
   "metadata": {},
   "source": [
    "#### Add specificit, number of frames etc"
   ]
  },
  {
   "cell_type": "code",
   "execution_count": 27,
   "metadata": {},
   "outputs": [
    {
     "name": "stdout",
     "output_type": "stream",
     "text": [
      "number of videos 45\n",
      "45\n",
      "(array(['cov', 'pne', 'reg'], dtype='<U3'), array([20, 11, 14]))\n"
     ]
    }
   ],
   "source": [
    "df_classes[\"Specificity\"] = np.around(compute_specificity(all_cms),2)\n",
    "df_classes[\"Frames\"] = np.diag(np.sum(all_cms, axis=0)).astype(int).tolist()\n",
    "df_classes[\"Videos/Images\"] = comp_nr_videos(saved_files)\n",
    "df_classes = df_classes.drop(columns=[\"Support\"])"
   ]
  },
  {
   "cell_type": "code",
   "execution_count": 28,
   "metadata": {},
   "outputs": [
    {
     "data": {
      "text/html": [
       "<div>\n",
       "<style scoped>\n",
       "    .dataframe tbody tr th:only-of-type {\n",
       "        vertical-align: middle;\n",
       "    }\n",
       "\n",
       "    .dataframe tbody tr th {\n",
       "        vertical-align: top;\n",
       "    }\n",
       "\n",
       "    .dataframe thead th {\n",
       "        text-align: right;\n",
       "    }\n",
       "</style>\n",
       "<table border=\"1\" class=\"dataframe\">\n",
       "  <thead>\n",
       "    <tr style=\"text-align: right;\">\n",
       "      <th></th>\n",
       "      <th>Precision</th>\n",
       "      <th>Recall</th>\n",
       "      <th>F1-score</th>\n",
       "      <th>Specificity</th>\n",
       "      <th>Frames</th>\n",
       "      <th>Videos/Images</th>\n",
       "    </tr>\n",
       "  </thead>\n",
       "  <tbody>\n",
       "    <tr>\n",
       "      <th>covid</th>\n",
       "      <td>0.87</td>\n",
       "      <td>0.82</td>\n",
       "      <td>0.84</td>\n",
       "      <td>0.87</td>\n",
       "      <td>371</td>\n",
       "      <td>20</td>\n",
       "    </tr>\n",
       "    <tr>\n",
       "      <th>pneunomia</th>\n",
       "      <td>0.92</td>\n",
       "      <td>0.93</td>\n",
       "      <td>0.92</td>\n",
       "      <td>0.98</td>\n",
       "      <td>122</td>\n",
       "      <td>11</td>\n",
       "    </tr>\n",
       "    <tr>\n",
       "      <th>regular</th>\n",
       "      <td>0.75</td>\n",
       "      <td>0.80</td>\n",
       "      <td>0.77</td>\n",
       "      <td>0.90</td>\n",
       "      <td>158</td>\n",
       "      <td>14</td>\n",
       "    </tr>\n",
       "  </tbody>\n",
       "</table>\n",
       "</div>"
      ],
      "text/plain": [
       "           Precision  Recall  F1-score  Specificity  Frames  Videos/Images\n",
       "covid           0.87    0.82      0.84         0.87     371             20\n",
       "pneunomia       0.92    0.93      0.92         0.98     122             11\n",
       "regular         0.75    0.80      0.77         0.90     158             14"
      ]
     },
     "execution_count": 28,
     "metadata": {},
     "output_type": "execute_result"
    }
   ],
   "source": [
    "df_classes\n",
    "# negative predictive value --> gegenstueck zu precision\n",
    "# specificity --> gegenstück zu recall"
   ]
  },
  {
   "cell_type": "markdown",
   "metadata": {},
   "source": [
    "## Comparison to Covid-Net\n",
    "\n",
    "Manually copied data from txt fil\n",
    "\n",
    "F-Measure = (2 * Precision * Recall) / (Precision + Recall)"
   ]
  },
  {
   "cell_type": "code",
   "execution_count": 29,
   "metadata": {},
   "outputs": [
    {
     "name": "stdout",
     "output_type": "stream",
     "text": [
      "(5, 3, 3)\n"
     ]
    }
   ],
   "source": [
    "cm0 = np.array([[24., 12., 12.], [ 0., 28.,  0.], [29.,  4., 30.]])\n",
    "cm1 = np.array([[  0.,   1.,  48.],[  0.,  22.,   0.],[  0.,   2., 109.]])\n",
    "cm2 = np.array([[17., 5., 13.],[ 2., 24., 0.],[ 0.,  0, 94.]])\n",
    "cm3 = np.array([[30., 0., 0.],[ 0., 25.,  0.],[ 3., 0, 85.]])\n",
    "cm4 = np.array([[19., 0., 8.],[ 6., 25., 0.], [ 0.,  0., 80.]])\n",
    "\n",
    "# sensitivities\n",
    "sens_reg = np.mean([0.5, 0, 0.486, 1.0, 0.704])\n",
    "sens_pneu = np.mean([1.0, 1.0, 0.923, 1.0, 0.806])\n",
    "sens_covid = np.mean([0.476, 0.982, 1.0, 0.966, 1.0])\n",
    "# precisions\n",
    "prec_reg = np.mean([0.453, 0, 0.895, 0.909, 0.76])\n",
    "prec_pneu = np.mean([0.636, 0.88, 0.828, 1.0, 1.0])\n",
    "prec_covid = np.mean([0.714, 0.694, 0.879, 1.0, 0.909])\n",
    "\n",
    "accs_covidnet = [0.58992805, 0.719, 0.871, 0.979, 0.89855]\n",
    "\n",
    "all_cms_cov_model = np.array([cm0, cm1, cm2, cm3, cm4])\n",
    "print(all_cms_cov_model.shape)"
   ]
  },
  {
   "cell_type": "code",
   "execution_count": 30,
   "metadata": {},
   "outputs": [],
   "source": [
    "def f_measure(prec, rec):\n",
    "    return (2*prec*rec)/(prec+rec)"
   ]
  },
  {
   "cell_type": "markdown",
   "metadata": {},
   "source": [
    "#### Output accuracy and balanced accuracy"
   ]
  },
  {
   "cell_type": "code",
   "execution_count": 31,
   "metadata": {},
   "outputs": [
    {
     "name": "stdout",
     "output_type": "stream",
     "text": [
      "The accuracy and balanced accuracy of our model are:\n",
      "[0.59 0.72 0.87 0.98 0.9 ] [0.48 0.94 0.91]\n",
      "MEAN ACC: 0.81 MEAN BAL ACC: 0.78\n"
     ]
    }
   ],
   "source": [
    "added_cms_cov_net = np.sum(all_cms_cov_model, axis=0)\n",
    "bal_acc_covidnet = np.diag(added_cms_cov_net)/np.sum(added_cms_cov_net, axis=1)\n",
    "print(\"The accuracy and balanced accuracy of our model are:\")\n",
    "print(np.around(accs_covidnet,2),np.around(bal_acc_covidnet,2))\n",
    "print(\"MEAN ACC:\", round(np.mean(accs_covidnet), 2), \"MEAN BAL ACC:\", round(np.mean(bal_acc_covidnet),2))"
   ]
  },
  {
   "cell_type": "markdown",
   "metadata": {},
   "source": [
    "#### Make similar table for covid-net"
   ]
  },
  {
   "cell_type": "code",
   "execution_count": 32,
   "metadata": {},
   "outputs": [],
   "source": [
    "df_classes[\"Class\"] = df_classes.index\n",
    "df_classes.index = [\"our model\", \"our model\",\"our model\"]\n",
    "df_cov = df_classes.copy()\n",
    "df_cov.index = [\"covid-net\", \"covid-net\", \"covid-net\"]\n",
    "df_cov[\"Precision\"] = np.around([prec_covid, prec_pneu, prec_reg], 2).tolist()\n",
    "df_cov[\"Recall\"] = np.around([sens_covid, sens_pneu, sens_reg], 2).tolist()\n",
    "sens = np.array(compute_specificity(all_cms_cov_model))[[2,1,0]]\n",
    "df_cov[\"Specificity\"] = sens.tolist()\n",
    "df_cov[\"F1-score\"] = np.around([f_measure(p, r) for (p,r) in zip(df_cov[\"Precision\"], df_cov[\"Recall\"])], 2)"
   ]
  },
  {
   "cell_type": "code",
   "execution_count": 33,
   "metadata": {},
   "outputs": [
    {
     "data": {
      "text/html": [
       "<div>\n",
       "<style scoped>\n",
       "    .dataframe tbody tr th:only-of-type {\n",
       "        vertical-align: middle;\n",
       "    }\n",
       "\n",
       "    .dataframe tbody tr th {\n",
       "        vertical-align: top;\n",
       "    }\n",
       "\n",
       "    .dataframe thead th {\n",
       "        text-align: right;\n",
       "    }\n",
       "</style>\n",
       "<table border=\"1\" class=\"dataframe\">\n",
       "  <thead>\n",
       "    <tr style=\"text-align: right;\">\n",
       "      <th></th>\n",
       "      <th>Precision</th>\n",
       "      <th>Recall</th>\n",
       "      <th>F1-score</th>\n",
       "      <th>Specificity</th>\n",
       "      <th>Frames</th>\n",
       "      <th>Videos/Images</th>\n",
       "      <th>Class</th>\n",
       "    </tr>\n",
       "  </thead>\n",
       "  <tbody>\n",
       "    <tr>\n",
       "      <th>covid-net</th>\n",
       "      <td>0.84</td>\n",
       "      <td>0.88</td>\n",
       "      <td>0.86</td>\n",
       "      <td>0.76</td>\n",
       "      <td>371</td>\n",
       "      <td>20</td>\n",
       "      <td>covid</td>\n",
       "    </tr>\n",
       "    <tr>\n",
       "      <th>covid-net</th>\n",
       "      <td>0.87</td>\n",
       "      <td>0.95</td>\n",
       "      <td>0.91</td>\n",
       "      <td>0.96</td>\n",
       "      <td>122</td>\n",
       "      <td>11</td>\n",
       "      <td>pneunomia</td>\n",
       "    </tr>\n",
       "    <tr>\n",
       "      <th>covid-net</th>\n",
       "      <td>0.60</td>\n",
       "      <td>0.54</td>\n",
       "      <td>0.57</td>\n",
       "      <td>0.92</td>\n",
       "      <td>158</td>\n",
       "      <td>14</td>\n",
       "      <td>regular</td>\n",
       "    </tr>\n",
       "  </tbody>\n",
       "</table>\n",
       "</div>"
      ],
      "text/plain": [
       "           Precision  Recall  F1-score  Specificity  Frames  Videos/Images  \\\n",
       "covid-net       0.84    0.88      0.86         0.76     371             20   \n",
       "covid-net       0.87    0.95      0.91         0.96     122             11   \n",
       "covid-net       0.60    0.54      0.57         0.92     158             14   \n",
       "\n",
       "               Class  \n",
       "covid-net      covid  \n",
       "covid-net  pneunomia  \n",
       "covid-net    regular  "
      ]
     },
     "execution_count": 33,
     "metadata": {},
     "output_type": "execute_result"
    }
   ],
   "source": [
    "df_cov"
   ]
  },
  {
   "cell_type": "markdown",
   "metadata": {},
   "source": [
    "#### Merge both tables and output final table as latex"
   ]
  },
  {
   "cell_type": "code",
   "execution_count": 34,
   "metadata": {},
   "outputs": [
    {
     "name": "stdout",
     "output_type": "stream",
     "text": [
      "\\begin{tabular}{llrrrrrr}\n",
      "\\toprule\n",
      "{} &      Class &  Sensitivity &  Specificity &  Precision &  F1-score &  Frames &  Videos/Images \\\\\n",
      "\\midrule\n",
      "our model &      covid &         0.82 &         0.87 &       0.87 &      0.84 &     371 &             20 \\\\\n",
      "our model &  pneunomia &         0.93 &         0.98 &       0.92 &      0.92 &     122 &             11 \\\\\n",
      "our model &    regular &         0.80 &         0.90 &       0.75 &      0.77 &     158 &             14 \\\\\n",
      "covid-net &      covid &         0.88 &         0.76 &       0.84 &      0.86 &     371 &             20 \\\\\n",
      "covid-net &  pneunomia &         0.95 &         0.96 &       0.87 &      0.91 &     122 &             11 \\\\\n",
      "covid-net &    regular &         0.54 &         0.92 &       0.60 &      0.57 &     158 &             14 \\\\\n",
      "\\bottomrule\n",
      "\\end{tabular}\n",
      "\n"
     ]
    }
   ],
   "source": [
    "results_together = pd.concat([df_classes, df_cov])\n",
    "results_together[\"Sensitivity\"] = results_together[\"Recall\"]\n",
    "results_together = results_together[[\"Class\", \"Sensitivity\", \"Specificity\", \"Precision\", \"F1-score\", \"Frames\", \"Videos/Images\"]]\n",
    "print(results_together.to_latex())"
   ]
  },
  {
   "cell_type": "code",
   "execution_count": 35,
   "metadata": {},
   "outputs": [
    {
     "data": {
      "text/html": [
       "<div>\n",
       "<style scoped>\n",
       "    .dataframe tbody tr th:only-of-type {\n",
       "        vertical-align: middle;\n",
       "    }\n",
       "\n",
       "    .dataframe tbody tr th {\n",
       "        vertical-align: top;\n",
       "    }\n",
       "\n",
       "    .dataframe thead th {\n",
       "        text-align: right;\n",
       "    }\n",
       "</style>\n",
       "<table border=\"1\" class=\"dataframe\">\n",
       "  <thead>\n",
       "    <tr style=\"text-align: right;\">\n",
       "      <th></th>\n",
       "      <th>Class</th>\n",
       "      <th>Sensitivity</th>\n",
       "      <th>Specificity</th>\n",
       "      <th>Precision</th>\n",
       "      <th>F1-score</th>\n",
       "      <th>Frames</th>\n",
       "      <th>Videos/Images</th>\n",
       "    </tr>\n",
       "  </thead>\n",
       "  <tbody>\n",
       "    <tr>\n",
       "      <th>our model</th>\n",
       "      <td>covid</td>\n",
       "      <td>0.82</td>\n",
       "      <td>0.87</td>\n",
       "      <td>0.87</td>\n",
       "      <td>0.84</td>\n",
       "      <td>371</td>\n",
       "      <td>20</td>\n",
       "    </tr>\n",
       "    <tr>\n",
       "      <th>our model</th>\n",
       "      <td>pneunomia</td>\n",
       "      <td>0.93</td>\n",
       "      <td>0.98</td>\n",
       "      <td>0.92</td>\n",
       "      <td>0.92</td>\n",
       "      <td>122</td>\n",
       "      <td>11</td>\n",
       "    </tr>\n",
       "    <tr>\n",
       "      <th>our model</th>\n",
       "      <td>regular</td>\n",
       "      <td>0.80</td>\n",
       "      <td>0.90</td>\n",
       "      <td>0.75</td>\n",
       "      <td>0.77</td>\n",
       "      <td>158</td>\n",
       "      <td>14</td>\n",
       "    </tr>\n",
       "    <tr>\n",
       "      <th>covid-net</th>\n",
       "      <td>covid</td>\n",
       "      <td>0.88</td>\n",
       "      <td>0.76</td>\n",
       "      <td>0.84</td>\n",
       "      <td>0.86</td>\n",
       "      <td>371</td>\n",
       "      <td>20</td>\n",
       "    </tr>\n",
       "    <tr>\n",
       "      <th>covid-net</th>\n",
       "      <td>pneunomia</td>\n",
       "      <td>0.95</td>\n",
       "      <td>0.96</td>\n",
       "      <td>0.87</td>\n",
       "      <td>0.91</td>\n",
       "      <td>122</td>\n",
       "      <td>11</td>\n",
       "    </tr>\n",
       "    <tr>\n",
       "      <th>covid-net</th>\n",
       "      <td>regular</td>\n",
       "      <td>0.54</td>\n",
       "      <td>0.92</td>\n",
       "      <td>0.60</td>\n",
       "      <td>0.57</td>\n",
       "      <td>158</td>\n",
       "      <td>14</td>\n",
       "    </tr>\n",
       "  </tbody>\n",
       "</table>\n",
       "</div>"
      ],
      "text/plain": [
       "               Class  Sensitivity  Specificity  Precision  F1-score  Frames  \\\n",
       "our model      covid         0.82         0.87       0.87      0.84     371   \n",
       "our model  pneunomia         0.93         0.98       0.92      0.92     122   \n",
       "our model    regular         0.80         0.90       0.75      0.77     158   \n",
       "covid-net      covid         0.88         0.76       0.84      0.86     371   \n",
       "covid-net  pneunomia         0.95         0.96       0.87      0.91     122   \n",
       "covid-net    regular         0.54         0.92       0.60      0.57     158   \n",
       "\n",
       "           Videos/Images  \n",
       "our model             20  \n",
       "our model             11  \n",
       "our model             14  \n",
       "covid-net             20  \n",
       "covid-net             11  \n",
       "covid-net             14  "
      ]
     },
     "execution_count": 35,
     "metadata": {},
     "output_type": "execute_result"
    }
   ],
   "source": [
    "results_together"
   ]
  },
  {
   "cell_type": "markdown",
   "metadata": {},
   "source": [
    "## Compute video accuracy"
   ]
  },
  {
   "cell_type": "code",
   "execution_count": 38,
   "metadata": {},
   "outputs": [],
   "source": [
    "def preds_to_score(vid_preds_out):\n",
    "    return accuracy_score([p[1] for p in vid_preds_out], [p[2] for p in vid_preds_out])\n",
    "    \n",
    "scores_certainty = []\n",
    "scores_majority = []\n",
    "for i in range(len(saved_files)):\n",
    "    vid_preds_certainty = average_certainty(saved_logits[i], saved_gt[i], saved_files[i])\n",
    "    vid_preds_majority = majority_vote(np.argmax(saved_logits[i], axis=1), saved_gt[i], saved_files[i])\n",
    "    scores_certainty.append(preds_to_score(vid_preds_certainty))\n",
    "    scores_majority.append(preds_to_score(vid_preds_majority))"
   ]
  },
  {
   "cell_type": "markdown",
   "metadata": {},
   "source": [
    "## Confusion matrix plots"
   ]
  },
  {
   "cell_type": "markdown",
   "metadata": {},
   "source": [
    "#### Load the results"
   ]
  },
  {
   "cell_type": "code",
   "execution_count": 6,
   "metadata": {},
   "outputs": [],
   "source": [
    "with open(\"eval.dat\", \"rb\") as outfile:\n",
    "    (saved_logits, saved_gt, saved_files) = pickle.load(outfile)"
   ]
  },
  {
   "cell_type": "markdown",
   "metadata": {},
   "source": [
    "#### Sum up confusion matrices"
   ]
  },
  {
   "cell_type": "code",
   "execution_count": 7,
   "metadata": {},
   "outputs": [],
   "source": [
    "all_cms = np.zeros((5,3,3))\n",
    "for s in range(5):\n",
    "    # print(saved_files[s])\n",
    "    gt_s = saved_gt[s]\n",
    "    pred_idx_s = np.argmax(np.array(saved_logits[s]), axis=1)\n",
    "    assert len(gt_s)==len(pred_idx_s)\n",
    "    cm = np.array(confusion_matrix(gt_s, pred_idx_s))\n",
    "    all_cms[s] = cm"
   ]
  },
  {
   "cell_type": "markdown",
   "metadata": {},
   "source": [
    "#### Function to make labels with std from the data"
   ]
  },
  {
   "cell_type": "code",
   "execution_count": 8,
   "metadata": {},
   "outputs": [],
   "source": [
    "def data_to_label(data, text):\n",
    "    return (np.asarray([\"{0:.2f}\\n\".format(data)+u\"\\u00B1\"+\"{0:.2f}\".format(text) for data, text in zip(data.flatten(), text.flatten())])).reshape(3,3)"
   ]
  },
  {
   "cell_type": "markdown",
   "metadata": {},
   "source": [
    "#### Make figure"
   ]
  },
  {
   "cell_type": "code",
   "execution_count": 12,
   "metadata": {},
   "outputs": [
    {
     "data": {
      "image/png": "[encoded data removed]",
      "text/plain": [
       "<Figure size 1800x432 with 6 Axes>"
      ]
     },
     "metadata": {
      "needs_background": "light"
     },
     "output_type": "display_data"
    }
   ],
   "source": [
    "plt.figure(figsize = (25,6))\n",
    "fig = plt.subplot(1,3,1)\n",
    "ax = fig.axes\n",
    "\n",
    "data_abs = np.sum(all_cms, axis=0)\n",
    "df_cm = pd.DataFrame(data_abs, index = [i for i in [\"COVID-19\", \"Pneunomia\", \"Normal\"]],\n",
    "                  columns = [i for i in [\"COVID-19\", \"Pneunomia\", \"Normal\"]])\n",
    "\n",
    "sn.set(font_scale=1.5)\n",
    "#plt.xticks(np.arange(3)+0.5,(\"COVID-19\", \"Pneunomia\", \"Normal\"), rotation=0, fontsize=\"17\", va=\"center\")\n",
    "plt.yticks(np.arange(3)+0.5,(\"COVID-19\", \"Pneunomia\", \"Normal\"), rotation=0, fontsize=\"17\", va=\"center\")\n",
    "sn.heatmap(df_cm, annot=True, fmt=\"g\", cmap=\"YlGnBu\")\n",
    "ax.xaxis.tick_top()\n",
    "plt.tick_params(\n",
    "    axis='x',          # changes apply to the x-axis\n",
    "    which='both',      # both major and minor ticks are affected\n",
    "    bottom=False,      # ticks along the bottom edge are off\n",
    "    top=False,         # ticks along the top edge are off\n",
    "    labelbottom=False) \n",
    "plt.xlabel('\\nPredictions', size=25)\n",
    "plt.ylabel('Ground truth', size=25)\n",
    "plt.title(\"Absolute values\\n\", size=30)\n",
    "\n",
    "\n",
    "# PRECISION SUBPLOT\n",
    "fig = plt.subplot(1,3,2)\n",
    "ax = fig.axes\n",
    "\n",
    "\n",
    "data_prec = all_cms.copy()\n",
    "for i in range(5):\n",
    "    data_prec[i] = data_prec[i]/np.sum(data_prec[i], axis=0)\n",
    "prec_stds = np.std(data_prec, axis = 0)\n",
    "data_prec = np.mean(data_prec, axis=0)\n",
    "labels_prec = data_to_label(data_prec, prec_stds)\n",
    "\n",
    "df_cm = pd.DataFrame(data_prec, index = [i for i in [\"COVID-19\", \"Pneunomia\", \"Normal\"]],\n",
    "                  columns = [i for i in [\"COVID-19\", \"Pneunomia\", \"Normal\"]])\n",
    "sn.set(font_scale=1.5)\n",
    "plt.ylabel(\"ground truth\")\n",
    "plt.xlabel(\"predictions\")\n",
    "plt.title(\"Precision\")\n",
    "ax.xaxis.tick_top()\n",
    "plt.tick_params(\n",
    "    axis='x',          # changes apply to the x-axis\n",
    "    which='both',      # both major and minor ticks are affected\n",
    "    bottom=False,      # ticks along the bottom edge are off\n",
    "    top=False,         # ticks along the top edge are off\n",
    "    labelbottom=False) \n",
    "plt.yticks(np.arange(3)+0.5,(\"COVID-19\", \"Pneunomia\", \"Normal\"), rotation=0, fontsize=\"17\", va=\"center\")\n",
    "sn.heatmap(df_cm, annot=labels_prec, fmt='', cmap=\"YlGnBu\")\n",
    "plt.xlabel('\\nPredictions', size=25)\n",
    "plt.ylabel('Ground truth', size=25)\n",
    "plt.title(\"Sensitivity (Recall)\\n\", size=30)\n",
    "\n",
    "\n",
    "#  SENSITIVITY SUBPLOT\n",
    "fig = plt.subplot(1,3,3)\n",
    "ax = fig.axes\n",
    "data_sens = all_cms.copy()\n",
    "for i in range(5):\n",
    "    sums_axis = np.sum(data_sens[i], axis=1)\n",
    "    data_sens[i] = np.array([data_sens[i,j,:]/sums_axis[j] for j in range(3)])\n",
    "sens_stds = np.std(data_sens, axis = 0)\n",
    "data_sens = np.mean(data_sens, axis=0)\n",
    "\n",
    "labels_sens = data_to_label(data_sens, sens_stds)\n",
    "df_cm = pd.DataFrame(data_sens, index = [i for i in [\"COVID-19\", \"Pneunomia\", \"Normal\"]],\n",
    "                  columns = [i for i in [\"COVID-19\", \"Pneunomia\", \"Normal\"]])\n",
    "# sn.set(font_scale=1.5)\n",
    "\n",
    "plt.yticks(np.arange(3)+0.5,(\"COVID-19\", \"Pneunomia\", \"Normal\"), rotation=0, fontsize=\"17\", va=\"center\")\n",
    "#plt.xticks(np.arange(3)+0.5,(\"COVID-19\", \"Pneunomia\", \"Normal\"), rotation=0, fontsize=\"17\", va=\"center\")\n",
    "ax.xaxis.tick_top()\n",
    "plt.tick_params(\n",
    "    axis='x',          # changes apply to the x-axis\n",
    "    which='both',      # both major and minor ticks are affected\n",
    "    bottom=False,      # ticks along the bottom edge are off\n",
    "    top=False,         # ticks along the top edge are off\n",
    "    labelbottom=False) \n",
    "\n",
    "\n",
    "\n",
    "sn.heatmap(df_cm, annot=labels_sens, fmt='', cmap=\"YlGnBu\")\n",
    "plt.xlabel('\\nPredictions', size=25)\n",
    "plt.ylabel('Ground truth', size=25)\n",
    "plt.title(\"Precision\\n\", size=30)\n",
    "\n",
    "plt.savefig(\"confusion_matrix.pdf\", bottom=0.2)\n",
    "\n"
   ]
  },
  {
   "cell_type": "markdown",
   "metadata": {},
   "source": [
    "## ROC AUC"
   ]
  },
  {
   "cell_type": "code",
   "execution_count": 40,
   "metadata": {},
   "outputs": [],
   "source": [
    "with open(\"eval.dat\", \"rb\") as outfile:\n",
    "    (saved_logits, saved_gt, saved_files) = pickle.load(outfile)"
   ]
  },
  {
   "cell_type": "code",
   "execution_count": 41,
   "metadata": {},
   "outputs": [],
   "source": [
    "from sklearn.metrics import roc_curve, roc_auc_score, precision_score, recall_score"
   ]
  },
  {
   "cell_type": "markdown",
   "metadata": {},
   "source": [
    "### Compute scores and curve"
   ]
  },
  {
   "cell_type": "code",
   "execution_count": 42,
   "metadata": {},
   "outputs": [],
   "source": [
    "data, scores, roc_auc_std = [], [], []\n",
    "max_points = []\n",
    "for i in range(3):\n",
    "    precs = [[] for _ in range(5)]\n",
    "    recs = [[] for _ in range(5)]\n",
    "    julie_points = [[] for _ in range(5)]\n",
    "    roc_auc = []\n",
    "    for j in range(5):\n",
    "        # roc auc score\n",
    "        preds = saved_logits[j][:, i]\n",
    "        gt = (saved_gt[j] == i).astype(int)\n",
    "        roc_auc.append(roc_auc_score(gt, preds))\n",
    "        # compute roc curve\n",
    "        for k in np.linspace(0,1.1,100):\n",
    "            preds_thresholded = (preds>k).astype(int)\n",
    "            tp = np.sum(preds_thresholded[gt==1])\n",
    "            p = np.sum(gt)\n",
    "            n = len(gt)-p\n",
    "            fp = np.sum(preds_thresholded[gt==0])\n",
    "            inverted = np.absolute(preds_thresholded - 1)\n",
    "            tn = np.sum(inverted[gt==0])\n",
    "            fn = np.sum(inverted[gt==1])\n",
    "            fpr = fp/n\n",
    "            tpr = tp/p\n",
    "            precs[j].append(fpr)\n",
    "            recs[j].append(tpr)\n",
    "            julie_points[j].append((tp+tn)/(tp+tn+fp+fn)) # (TP+TN)/(TP+TN+FN+FP)\n",
    "            # precs[j].append(precision_score(gt, preds_thresholded))\n",
    "            # recs[j].append(recall_score(gt, preds_thresholded))\n",
    "        \n",
    "    # append scores\n",
    "    scores.append(round(np.mean(roc_auc),2))\n",
    "    roc_auc_std.append(round(np.std(roc_auc),2))\n",
    "    # take mean and std of fpr and tpr\n",
    "    stds = np.std(np.asarray(recs), axis=0)\n",
    "    precs = np.mean(np.asarray(precs), axis=0)\n",
    "    recs = np.mean(np.asarray(recs), axis=0)\n",
    "    # point of maximum accuracy\n",
    "    julie_points = np.mean(np.asarray(julie_points), axis=0)\n",
    "    max_points.append(np.argmax(julie_points))\n",
    "    data.append((precs, recs, stds))"
   ]
  },
  {
   "cell_type": "code",
   "execution_count": 43,
   "metadata": {},
   "outputs": [],
   "source": [
    "plt.rcParams['legend.title_fontsize'] = 15\n",
    "from matplotlib import rc\n",
    "\n",
    "# activate latex text rendering\n",
    "rc('text', usetex=False)"
   ]
  },
  {
   "cell_type": "code",
   "execution_count": 44,
   "metadata": {},
   "outputs": [
    {
     "data": {
      "image/png": "[encoded data removed]",
      "text/plain": [
       "<Figure size 504x360 with 1 Axes>"
      ]
     },
     "metadata": {},
     "output_type": "display_data"
    }
   ],
   "source": [
    "cols = [\"red\", \"orange\", \"green\"]\n",
    "classes = [\"COVID-19\", \"Pneumonia\", \"Regular\"]\n",
    "# roc_auc_scores = np.mean(np.asarray(scores), axis=0)\n",
    "plt.figure(figsize=(7,5))\n",
    "for i in range(3):\n",
    "    p, r, s = data[i]\n",
    "    # sns.lineplot(x=p, y=r)\n",
    "    # plt.plot(p, r,label=classes[i])\n",
    "    # plt.plot(p,r-s)\n",
    "    lab = classes[i]+\" (%.2f\"%scores[i]+\"$\\pm$\"+str(roc_auc_std[i])+\")\"\n",
    "    plt.plot(p, r, 'k-', c=cols[i], label=lab, lw=3)\n",
    "    # print(len(r), max_points[i])\n",
    "    plt.scatter(p[max_points[i]], r[max_points[i]], s=150, marker=\"o\", c=cols[i])\n",
    "    plt.fill_between(p, r-s, r+s, alpha=0.1, facecolor=cols[i])\n",
    "plt.ylim(0,1.1)\n",
    "plt.xlim(0,1)\n",
    "plt.ylabel(\"$\\\\bf{Sensitivity}$\", fontsize=15)\n",
    "plt.xlabel(\"$\\\\bf{False\\ positive\\ rate}$\", fontsize=15)\n",
    "plt.legend(fontsize=15, title=\"    $\\\\bf{Class}\\ \\\\bf(ROC-AUC)}$\\n  $\\\\bf{(o:\\ maximal\\ accuracy)}$\")\n",
    "plt.title(\"$\\\\bf{ROC\\ curves}$\", fontsize=15)\n",
    "plt.savefig(\"roc_curves.pdf\", bbox_inches='tight', pad_inches=0, transparent=True)\n",
    "plt.show()"
   ]
  },
  {
   "cell_type": "markdown",
   "metadata": {},
   "source": [
    "### Compute roc-auc score"
   ]
  },
  {
   "cell_type": "code",
   "execution_count": 45,
   "metadata": {},
   "outputs": [
    {
     "name": "stdout",
     "output_type": "stream",
     "text": [
      "[0.9, 0.99, 0.87] [0.11, 0.02, 0.18]\n"
     ]
    }
   ],
   "source": [
    "print(scores, roc_auc_std)"
   ]
  },
  {
   "cell_type": "code",
   "execution_count": null,
   "metadata": {},
   "outputs": [],
   "source": []
  }
 ],
 "metadata": {
  "kernelspec": {
   "display_name": "Python 3",
   "language": "python",
   "name": "python3"
  },
  "language_info": {
   "codemirror_mode": {
    "name": "ipython",
    "version": 3
   },
   "file_extension": ".py",
   "mimetype": "text/x-python",
   "name": "python",
   "nbconvert_exporter": "python",
   "pygments_lexer": "ipython3",
   "version": "3.6.10"
  }
 },
 "nbformat": 4,
 "nbformat_minor": 4
}

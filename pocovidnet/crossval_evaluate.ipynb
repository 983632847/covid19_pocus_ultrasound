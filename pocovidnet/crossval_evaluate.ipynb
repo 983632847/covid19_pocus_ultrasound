{
 "cells": [
  {
   "cell_type": "code",
   "execution_count": 4,
   "metadata": {},
   "outputs": [],
   "source": [
    "import os\n",
    "import numpy as np\n",
    "import cv2\n",
    "from imutils import paths\n",
    "from sklearn.metrics import accuracy_score\n",
    "from sklearn.metrics import classification_report, confusion_matrix\n",
    "import matplotlib.pyplot as plt"
   ]
  },
  {
   "cell_type": "code",
   "execution_count": 5,
   "metadata": {},
   "outputs": [],
   "source": [
    "from covid_detector.evaluate_covid19 import Evaluator"
   ]
  },
  {
   "cell_type": "markdown",
   "metadata": {},
   "source": [
    "### Functions for prediction of video label"
   ]
  },
  {
   "cell_type": "code",
   "execution_count": 6,
   "metadata": {},
   "outputs": [],
   "source": [
    "def majority_vote(preds, gt, vid_filenames):\n",
    "    \"\"\"\n",
    "    Arguments:\n",
    "    \tpreds: predicted classes (1-d list of class_names or integers)\n",
    "        gt: list of same size with ground truth labels\n",
    "        vid_filenames: list of filenames\n",
    "    \"\"\"\n",
    "    preds = np.asarray(preds)\n",
    "    gt = np.asarray(gt)\n",
    "    vids = np.asarray([vid.split(\".\")[0] for vid in vid_filenames])\n",
    "    vid_preds_out = []\n",
    "    for v in np.unique(vids):\n",
    "        preds_video = preds[vids==v]\n",
    "        gt_check = np.unique(gt[vids==v])\n",
    "        assert len(gt_check)==1, \"gt must have the same label for the whole video\"\n",
    "        labs, pred_counts = np.unique(preds_video, return_counts=True)\n",
    "        # take label that is predicted most often\n",
    "        vid_pred = labs[np.argmax(pred_counts)]\n",
    "        print(\"preds for video:\", preds_video)\n",
    "        # print(v, vid_pred, gt_check[0])\n",
    "        vid_preds_out.append([v, vid_pred, gt_check[0]])\n",
    "    print(\"video accuracy (majority):\", accuracy_score([p[1] for p in vid_preds_out], [p[2] for p in vid_preds_out]))\n",
    "    return vid_preds_out\n",
    "        \n",
    "def average_certainty(preds_logits, gt, vid_filenames):\n",
    "    \"\"\"\n",
    "    Arguments:\n",
    "    \tpreds: predicted classes (1-d list of class_names or integers)\n",
    "        gt: list of same size with ground truth labels\n",
    "        vid_filenames: list of filenames\n",
    "    \"\"\"\n",
    "    preds_logits = np.asarray(preds_logits)\n",
    "    gt = np.asarray(gt)\n",
    "    vid_preds_out = []\n",
    "    vids = np.array([vid.split(\".\")[0] for vid in vid_filenames])\n",
    "    for v in np.unique(vids):\n",
    "        preds_video_logits = preds_logits[vids==v]\n",
    "        preds_video = np.sum(preds_video_logits, axis=0)\n",
    "        print(\"preds for video:\", preds_video)\n",
    "        gt_check = np.unique(gt[vids==v])\n",
    "        assert len(gt_check)==1, \"gt must have the same label for the whole video\"\n",
    "        # take label that is predicted most often\n",
    "        vid_pred = np.argmax(preds_video)\n",
    "        print(v, vid_pred, gt_check[0])\n",
    "        vid_preds_out.append([v, vid_pred, gt_check[0]])\n",
    "    print(\"video accuracy (certainty):\", accuracy_score([p[1] for p in vid_preds_out], [p[2] for p in vid_preds_out]))\n",
    "    return vid_preds_out"
   ]
  },
  {
   "cell_type": "markdown",
   "metadata": {},
   "source": [
    "## Evaluation script for cross validation"
   ]
  },
  {
   "cell_type": "code",
   "execution_count": 7,
   "metadata": {},
   "outputs": [
    {
     "name": "stdout",
     "output_type": "stream",
     "text": [
      "------------- SPLIT  0 -------------------\n",
      "Loading weights from  /Users/jab/codevscovid/covid_detector/covid19_pocus_ultrasound/trained_models/fold_0/variables/variables\n",
      "Model restored. Class mappings are ['covid', 'pneunomia', 'regular']\n",
      "              precision    recall  f1-score   support\n",
      "\n",
      "       covid       0.70      0.56      0.62        63\n",
      "   pneunomia       0.71      0.79      0.75        28\n",
      "     regular       0.67      0.81      0.74        48\n",
      "\n",
      "    accuracy                           0.69       139\n",
      "   macro avg       0.69      0.72      0.70       139\n",
      "weighted avg       0.69      0.69      0.69       139\n",
      "\n",
      "preds for video: [0.41692764 5.8625665  2.720506  ]\n",
      "Cov-Atlas+(44) 1 0\n",
      "preds for video: [0.29468063 1.1493944  3.555925  ]\n",
      "Cov-Atlas+(45) 2 0\n",
      "preds for video: [0.25367773 2.3187468  5.4275756 ]\n",
      "Cov-Atlas-+(43) 2 0\n",
      "preds for video: [1.0876949 0.3008647 5.61144  ]\n",
      "Cov-Atlas-Day+1 2 0\n",
      "preds for video: [11.281306   2.2195396  3.4991534]\n",
      "Cov-Atlas-Day+2 0 0\n",
      "preds for video: [6.9004602 0.3770179 0.722522 ]\n",
      "Cov-Atlas-Day+3 0 0\n",
      "preds for video: [7.207155   0.1122086  0.68063563]\n",
      "Cov-Atlas-Day+4 0 0\n",
      "preds for video: [0.9263738  0.06457508 0.00905109]\n",
      "Cov-B_ConvexProb_score1 0 0\n",
      "preds for video: [ 3.1745064 23.195557   1.629938 ]\n",
      "Pneu-grep-pneumonia2 1 1\n",
      "preds for video: [5.6316576 1.944488  4.4238544]\n",
      "Reg-Atlas 0 2\n",
      "preds for video: [ 0.09701823  1.1377172  10.7652645 ]\n",
      "Reg-Atlas-alines 2 2\n",
      "preds for video: [0.48782736 2.753238   8.758934  ]\n",
      "Reg-Atlas-lungcurtain 2 2\n",
      "preds for video: [1.929998 2.754115 7.315887]\n",
      "Reg-Youtube 2 2\n",
      "video accuracy (certainty): 0.6153846153846154\n",
      "preds for video: [1 1 1 1 1 1 1 1 1]\n",
      "preds for video: [2 2 2 2 2]\n",
      "preds for video: [2 2 2 2 2 2 2 2]\n",
      "preds for video: [2 2 2 0 2 2 2]\n",
      "preds for video: [0 0 0 0 0 0 0 0 0 0 0 0 0 0 0 0 0]\n",
      "preds for video: [0 0 0 0 0 0 0 0]\n",
      "preds for video: [0 0 0 0 0 0 0 0]\n",
      "preds for video: [0]\n",
      "preds for video: [1 1 0 1 1 1 1 1 1 1 0 0 1 1 1 1 1 1 0 1 0 0 1 1 1 1 1 1]\n",
      "preds for video: [0 0 2 2 2 2 0 0 2 0 0 0]\n",
      "preds for video: [2 2 2 2 2 2 2 2 2 2 2 2]\n",
      "preds for video: [2 2 2 2 2 2 2 2 2 2 2 2]\n",
      "preds for video: [2 2 0 2 2 2 2 2 0 2 2 2]\n",
      "video accuracy (majority): 0.6153846153846154\n",
      "------------- SPLIT  1 -------------------\n",
      "Loading weights from  /Users/jab/codevscovid/covid_detector/covid19_pocus_ultrasound/trained_models/fold_1/variables/variables\n",
      "Model restored. Class mappings are ['covid', 'pneunomia', 'regular']\n",
      "              precision    recall  f1-score   support\n",
      "\n",
      "       covid       1.00      0.99      1.00       111\n",
      "   pneunomia       0.96      1.00      0.98        22\n",
      "     regular       1.00      1.00      1.00        49\n",
      "\n",
      "    accuracy                           0.99       182\n",
      "   macro avg       0.99      1.00      0.99       182\n",
      "weighted avg       0.99      0.99      0.99       182\n",
      "\n",
      "preds for video: [49.459698   0.8778939  4.6624103]\n",
      "Cov-Butterfly-COVID Lung 1 0 0\n",
      "preds for video: [0.01668007 0.88386685 0.09945314]\n",
      "Cov-C_ConvexProb_score3 1 0\n",
      "preds for video: [48.888733  0.859377  5.251895]\n",
      "Cov-MSU-SkipLesions 0 0\n",
      "preds for video: [0.521384  9.024886  2.4537294]\n",
      "Pneu-Atlas-pneumonia 1 1\n",
      "preds for video: [4.1147225e-05 9.9864788e+00 1.3480574e-02]\n",
      "Pneu-grep-pneumonia4 1 1\n",
      "preds for video: [ 4.280322   1.1730958 43.54658  ]\n",
      "Reg-Butterfly 2 2\n",
      "video accuracy (certainty): 0.8333333333333334\n",
      "preds for video: [0 0 0 0 0 0 0 0 0 0 0 0 0 0 0 0 0 0 0 0 0 0 0 0 0 0 0 0 0 0 0 0 0 0 0 0 0\n",
      " 0 0 0 0 0 0 0 0 0 0 0 0 0 0 0 0 0 0]\n",
      "preds for video: [1]\n",
      "preds for video: [0 0 0 0 0 0 0 0 0 0 0 0 0 0 0 0 0 0 0 0 0 0 0 0 0 0 0 0 0 0 0 0 0 0 0 0 0\n",
      " 0 0 0 0 0 0 0 0 0 0 0 0 0 0 0 0 0 0]\n",
      "preds for video: [1 1 1 1 1 1 1 1 1 1 1 1]\n",
      "preds for video: [1 1 1 1 1 1 1 1 1 1]\n",
      "preds for video: [2 2 2 2 2 2 2 2 2 2 2 2 2 2 2 2 2 2 2 2 2 2 2 2 2 2 2 2 2 2 2 2 2 2 2 2 2\n",
      " 2 2 2 2 2 2 2 2 2 2 2 2]\n",
      "video accuracy (majority): 0.8333333333333334\n",
      "------------- SPLIT  2 -------------------\n",
      "Loading weights from  /Users/jab/codevscovid/covid_detector/covid19_pocus_ultrasound/trained_models/fold_2/variables/variables\n",
      "Model restored. Class mappings are ['covid', 'pneunomia', 'regular']\n",
      "              precision    recall  f1-score   support\n",
      "\n",
      "       covid       1.00      1.00      1.00        94\n",
      "   pneunomia       1.00      1.00      1.00        26\n",
      "     regular       1.00      1.00      1.00        35\n",
      "\n",
      "    accuracy                           1.00       155\n",
      "   macro avg       1.00      1.00      1.00       155\n",
      "weighted avg       1.00      1.00      1.00       155\n",
      "\n",
      "preds for video: [42.18431    1.1415449  3.6741455]\n",
      "Cov-Butterfly-COVID Lung 2 0 0\n",
      "preds for video: [41.137127   1.4159917  4.446882 ]\n",
      "Cov-MSU-COVID Lung 2-Blines 0 0\n",
      "preds for video: [4.2987969e-03 6.8543482e+00 1.4135276e-01]\n",
      "Pneu-grep-pneumonia3 1 1\n",
      "preds for video: [0.71609277 0.02679102 7.2571163 ]\n",
      "Reg-Grep-Alines 2 2\n",
      "preds for video: [7.9162065e-03 5.3084290e-01 1.0461242e+01]\n",
      "Reg-NormalLungs 2 2\n",
      "preds for video: [1.0826741e-02 1.2671581e-02 1.5976501e+01]\n",
      "Reg-Youtube-Video_902_Lung_POCUS-left 2 2\n",
      "preds for video: [ 0.09891412 12.188621    0.71246475]\n",
      "pneu-everyday 1 1\n",
      "preds for video: [3.0895898e-03 5.9846601e+00 1.2250383e-02]\n",
      "pneu-gred-7 1 1\n",
      "video accuracy (certainty): 1.0\n",
      "preds for video: [0 0 0 0 0 0 0 0 0 0 0 0 0 0 0 0 0 0 0 0 0 0 0 0 0 0 0 0 0 0 0 0 0 0 0 0 0\n",
      " 0 0 0 0 0 0 0 0 0 0]\n",
      "preds for video: [0 0 0 0 0 0 0 0 0 0 0 0 0 0 0 0 0 0 0 0 0 0 0 0 0 0 0 0 0 0 0 0 0 0 0 0 0\n",
      " 0 0 0 0 0 0 0 0 0 0]\n",
      "preds for video: [1 1 1 1 1 1 1]\n",
      "preds for video: [2 2 2 2 2 2 2 2]\n",
      "preds for video: [2 2 2 2 2 2 2 2 2 2 2]\n",
      "preds for video: [2 2 2 2 2 2 2 2 2 2 2 2 2 2 2 2]\n",
      "preds for video: [1 1 1 1 1 1 1 1 1 1 1 1 1]\n",
      "preds for video: [1 1 1 1 1 1]\n",
      "video accuracy (majority): 1.0\n",
      "------------- SPLIT  3 -------------------\n",
      "Loading weights from  /Users/jab/codevscovid/covid_detector/covid19_pocus_ultrasound/trained_models/fold_3/variables/variables\n",
      "Model restored. Class mappings are ['covid', 'pneunomia', 'regular']\n",
      "              precision    recall  f1-score   support\n",
      "\n",
      "       covid       0.96      0.93      0.95        88\n",
      "   pneunomia       0.96      1.00      0.98        25\n",
      "     regular       0.84      0.90      0.87        30\n",
      "\n",
      "    accuracy                           0.94       143\n",
      "   macro avg       0.92      0.94      0.93       143\n",
      "weighted avg       0.94      0.94      0.94       143\n",
      "\n",
      "preds for video: [78.12148    1.8163166  7.0622115]\n",
      "Cov-Butterfly-COVID Skip Lesion 0 0\n",
      "preds for video: [0.0496341  0.75623405 0.19413185]\n",
      "Cov-D_Convex_Prob_score3 1 0\n",
      "preds for video: [ 0.10375638 12.85957     0.0366743 ]\n",
      "Pneu-grep-pneumonia1 1 1\n",
      "preds for video: [6.6977725  0.08658655 9.21564   ]\n",
      "Reg-Youtube-Video_902_Lung_POCUS 2 2\n",
      "preds for video: [3.9696053e-02 2.1802706e-03 6.9581242e+00]\n",
      "Reg-Youtube_Video_29_Lung_POCUS_right 2 2\n",
      "preds for video: [0.44685513 0.17098397 6.382161  ]\n",
      "Reg-nephropocus 2 2\n",
      "preds for video: [ 0.12750916 11.849777    0.02271394]\n",
      "pneu-gred-6 1 1\n",
      "video accuracy (certainty): 0.8571428571428571\n",
      "preds for video: [0 0 0 0 0 0 0 2 0 0 0 0 0 0 0 0 0 0 0 0 0 0 0 0 0 0 0 0 0 0 0 0 0 0 0 0 0\n",
      " 0 0 0 0 0 0 0 0 0 0 0 0 0 0 0 0 0 0 0 0 0 0 0 0 0 0 0 0 0 0 0 2 2 0 0 0 0\n",
      " 0 0 0 0 2 0 0 0 0 0 0 2 0]\n",
      "preds for video: [1]\n",
      "preds for video: [1 1 1 1 1 1 1 1 1 1 1 1 1]\n",
      "preds for video: [2 2 2 2 2 2 2 2 2 0 0 2 2 0 2 2]\n",
      "preds for video: [2 2 2 2 2 2 2]\n",
      "preds for video: [2 2 2 2 2 2 2]\n",
      "preds for video: [1 1 1 1 1 1 1 1 1 1 1 1]\n",
      "video accuracy (majority): 0.8571428571428571\n",
      "------------- SPLIT  4 -------------------\n",
      "Loading weights from  /Users/jab/codevscovid/covid_detector/covid19_pocus_ultrasound/trained_models/fold_4/variables/variables\n",
      "Model restored. Class mappings are ['covid', 'pneunomia', 'regular']\n",
      "              precision    recall  f1-score   support\n",
      "\n",
      "       covid       0.68      0.62      0.65        80\n",
      "   pneunomia       0.96      0.87      0.92        31\n",
      "     regular       0.22      0.30      0.25        27\n",
      "\n",
      "    accuracy                           0.62       138\n",
      "   macro avg       0.62      0.60      0.61       138\n",
      "weighted avg       0.66      0.62      0.63       138\n",
      "\n",
      "preds for video: [0.17086811 0.60055983 0.22857206]\n",
      "Cov-C_Convex_Prob_score2 1 0\n",
      "preds for video: [11.925937    0.15491189  8.919152  ]\n",
      "Cov-clarius 0 0\n",
      "preds for video: [13.083191   0.5039292  7.4128795]\n",
      "Cov-grepmed-blines-pocus- 0 0\n",
      "preds for video: [ 6.539377    0.08638696 12.374236  ]\n",
      "Cov-grepmed2 2 0\n",
      "preds for video: [1.7995806e+01 8.8430749e-04 3.3106548e-03]\n",
      "Cov-grepmed3 0 0\n",
      "preds for video: [0.07202853 7.903541   0.02443036]\n",
      "Pneu-Atlas-pneumonia-AirBronch 1 1\n",
      "preds for video: [0.10670324 7.839998   0.05329855]\n",
      "Pneu-Atlas-pneumonia2 1 1\n",
      "preds for video: [6.9926643e+00 4.2320098e-04 6.9122100e-03]\n",
      "Reg-Grep-Normal 0 2\n",
      "preds for video: [0.34538183 0.0258964  6.6287217 ]\n",
      "Reg-Youtube_Video_29_Lung_POCUS_left 2 2\n",
      "preds for video: [7.859548  2.5347235 2.6057286]\n",
      "Reg-bcpocus 0 2\n",
      "preds for video: [ 3.8731363 10.028042   1.0988219]\n",
      "pneu-radiopaeda 1 1\n",
      "video accuracy (certainty): 0.6363636363636364\n",
      "preds for video: [1]\n",
      "preds for video: [0 0 0 2 0 0 0 0 2 2 0 2 0 0 2 0 2 0 2 0 0]\n",
      "preds for video: [0 0 0 0 0 0 0 2 0 2 2 0 0 0 0 0 0 0 0 0 0]\n",
      "preds for video: [2 2 2 2 2 2 2 2 2 2 2 2 2 2 2 2 2 2 2]\n",
      "preds for video: [0 0 0 0 0 0 0 0 0 0 0 0 0 0 0 0 0 0]\n",
      "preds for video: [1 1 1 1 1 1 1 1]\n",
      "preds for video: [1 1 1 1 1 1 1 1]\n",
      "preds for video: [0 0 0 0 0 0 0]\n",
      "preds for video: [2 2 2 2 2 2 2]\n",
      "preds for video: [0 0 0 0 0 0 0 0 0 0 0 0 2]\n",
      "preds for video: [0 1 1 1 1 1 0 0 0 1 1 1 1 1 1]\n",
      "video accuracy (majority): 0.6363636363636364\n"
     ]
    }
   ],
   "source": [
    "saved_logits, saved_gt, saved_files = [], [], []\n",
    "\n",
    "for i in range(5):\n",
    "    print(\"------------- SPLIT \", i, \"-------------------\")\n",
    "    # define data input path\n",
    "    path = \"data_pocus/cross_validation_data/split\"+str(i)\n",
    "    \n",
    "    train_labels, test_labels, test_files = [], [], []\n",
    "    train_data, test_data = [], []\n",
    "\n",
    "    # loop over the image paths (train and test)\n",
    "    for imagePath in paths.list_images(path):\n",
    "\n",
    "        # extract the class label from the filename\n",
    "        label = imagePath.split(os.path.sep)[-2]\n",
    "\n",
    "        # load the image, swap color channels, and resize it to be a fixed\n",
    "        # 224x224 pixels while ignoring aspect ratio\n",
    "        image = cv2.imread(imagePath)\n",
    "        # image = cv2.cvtColor(image, cv2.COLOR_BGR2RGB)\n",
    "        # image = cv2.resize(image, (224, 224))\n",
    "\n",
    "        # update the data and labels lists, respectively\n",
    "        test_labels.append(label)\n",
    "        test_data.append(image)\n",
    "        test_files.append(imagePath.split(os.path.sep)[-1])\n",
    "\n",
    "    # build ground truth data\n",
    "    classes = [\"covid\", \"pneunomia\", \"regular\"]\n",
    "    gt_class_idx = np.array([classes.index(lab) for lab in test_labels])\n",
    "    \n",
    "    model = Evaluator(split=str(i))\n",
    "    \n",
    "    logits = np.array([model(img) for img in test_data])\n",
    "    \n",
    "    # remember for evaluation:\n",
    "    saved_logits.append(logits)\n",
    "    saved_gt.append(gt_class_idx)\n",
    "    saved_files.append(test_files)\n",
    "    \n",
    "    # output the information\n",
    "    predIdxs = np.argmax(logits, axis=1)\n",
    "    \n",
    "    print(\n",
    "    classification_report(\n",
    "        gt_class_idx, predIdxs, target_names=classes\n",
    "        )\n",
    "    )\n",
    "\n",
    "    vid_preds_certainty = average_certainty(logits, gt_class_idx, np.array(test_files))\n",
    "    vid_preds_majority = majority_vote(predIdxs, gt_class_idx, np.array(test_files))"
   ]
  },
  {
   "cell_type": "markdown",
   "metadata": {},
   "source": [
    "### Save outputs"
   ]
  },
  {
   "cell_type": "code",
   "execution_count": 8,
   "metadata": {},
   "outputs": [],
   "source": [
    "import pickle\n",
    "with open(\"eval.dat\", \"wb\") as outfile:\n",
    "    pickle.dump((saved_logits, saved_gt, saved_files), outfile)"
   ]
  },
  {
   "cell_type": "markdown",
   "metadata": {},
   "source": [
    "## Evaluation plots"
   ]
  },
  {
   "cell_type": "code",
   "execution_count": 11,
   "metadata": {},
   "outputs": [
    {
     "name": "stdout",
     "output_type": "stream",
     "text": [
      "Collecting seaborn\n",
      "  Downloading seaborn-0.10.0-py3-none-any.whl (215 kB)\n",
      "\u001b[K     |████████████████████████████████| 215 kB 2.8 MB/s eta 0:00:01\n",
      "\u001b[?25hRequirement already satisfied: numpy>=1.13.3 in /Users/jab/miniconda3/envs/codevscovid/lib/python3.7/site-packages (from seaborn) (1.18.2)\n",
      "Requirement already satisfied: pandas>=0.22.0 in /Users/jab/miniconda3/envs/codevscovid/lib/python3.7/site-packages (from seaborn) (1.0.3)\n",
      "Requirement already satisfied: matplotlib>=2.1.2 in /Users/jab/miniconda3/envs/codevscovid/lib/python3.7/site-packages (from seaborn) (3.2.1)\n",
      "Requirement already satisfied: scipy>=1.0.1 in /Users/jab/miniconda3/envs/codevscovid/lib/python3.7/site-packages (from seaborn) (1.4.1)\n",
      "Requirement already satisfied: python-dateutil>=2.6.1 in /Users/jab/miniconda3/envs/codevscovid/lib/python3.7/site-packages (from pandas>=0.22.0->seaborn) (2.8.1)\n",
      "Requirement already satisfied: pytz>=2017.2 in /Users/jab/miniconda3/envs/codevscovid/lib/python3.7/site-packages (from pandas>=0.22.0->seaborn) (2019.3)\n",
      "Requirement already satisfied: kiwisolver>=1.0.1 in /Users/jab/miniconda3/envs/codevscovid/lib/python3.7/site-packages (from matplotlib>=2.1.2->seaborn) (1.1.0)\n",
      "Requirement already satisfied: pyparsing!=2.0.4,!=2.1.2,!=2.1.6,>=2.0.1 in /Users/jab/miniconda3/envs/codevscovid/lib/python3.7/site-packages (from matplotlib>=2.1.2->seaborn) (2.4.6)\n",
      "Requirement already satisfied: cycler>=0.10 in /Users/jab/miniconda3/envs/codevscovid/lib/python3.7/site-packages (from matplotlib>=2.1.2->seaborn) (0.10.0)\n",
      "Requirement already satisfied: six>=1.5 in /Users/jab/miniconda3/envs/codevscovid/lib/python3.7/site-packages (from python-dateutil>=2.6.1->pandas>=0.22.0->seaborn) (1.14.0)\n",
      "Requirement already satisfied: setuptools in /Users/jab/miniconda3/envs/codevscovid/lib/python3.7/site-packages (from kiwisolver>=1.0.1->matplotlib>=2.1.2->seaborn) (46.1.3.post20200325)\n",
      "Installing collected packages: seaborn\n",
      "Successfully installed seaborn-0.10.0\n"
     ]
    }
   ],
   "source": [
    "!pip install seaborn"
   ]
  },
  {
   "cell_type": "code",
   "execution_count": 12,
   "metadata": {},
   "outputs": [],
   "source": [
    "import seaborn as sn\n",
    "import pandas as pd"
   ]
  },
  {
   "cell_type": "code",
   "execution_count": 13,
   "metadata": {},
   "outputs": [],
   "source": [
    "# confusion matrix with avg acc and std\n",
    "# sensitivity, specificity, avg and std\n",
    "# cm = confusion_matrix(testY.argmax(axis=1), predIdxs)"
   ]
  },
  {
   "cell_type": "code",
   "execution_count": 14,
   "metadata": {},
   "outputs": [],
   "source": [
    "all_cms = np.zeros((5,3,3))\n",
    "for s in range(5):\n",
    "    # print(saved_files[s])\n",
    "    gt_s = saved_gt[s]\n",
    "    pred_idx_s = np.argmax(np.array(saved_logits[s]), axis=1)\n",
    "    assert len(gt_s)==len(pred_idx_s)\n",
    "    cm = np.array(confusion_matrix(gt_s, pred_idx_s))\n",
    "    all_cms[s] = cm"
   ]
  },
  {
   "cell_type": "code",
   "execution_count": 15,
   "metadata": {},
   "outputs": [],
   "source": [
    "data_sens = all_cms.copy()\n",
    "for i in range(5):\n",
    "    data_sens[i] = data_sens[i]/np.sum(data_sens[i], axis=1)\n",
    "sens_stds = np.std(data_sens, axis = 0)\n",
    "data_sens = np.mean(data_sens, axis=0)"
   ]
  },
  {
   "cell_type": "code",
   "execution_count": 16,
   "metadata": {},
   "outputs": [
    {
     "data": {
      "text/plain": [
       "array([[0.82067295, 0.08782824, 0.32731481],\n",
       "       [0.02904762, 0.93133641, 0.        ],\n",
       "       [0.08288961, 0.        , 0.80175926]])"
      ]
     },
     "execution_count": 16,
     "metadata": {},
     "output_type": "execute_result"
    }
   ],
   "source": [
    "data_sens"
   ]
  },
  {
   "cell_type": "markdown",
   "metadata": {},
   "source": [
    "#### Function to make labels with std from the data"
   ]
  },
  {
   "cell_type": "code",
   "execution_count": 17,
   "metadata": {},
   "outputs": [],
   "source": [
    "def data_to_label(data, text):\n",
    "    return (np.asarray([\"{0:.2f}\\n\".format(data)+u\"\\u00B1\"+\"{0:.2f}\".format(text) for data, text in zip(data.flatten(), text.flatten())])).reshape(3,3)"
   ]
  },
  {
   "cell_type": "markdown",
   "metadata": {},
   "source": [
    "## Confusion matrix plots"
   ]
  },
  {
   "cell_type": "code",
   "execution_count": 70,
   "metadata": {},
   "outputs": [
    {
     "data": {
      "image/png": "[encoded data removed]",
      "text/plain": [
       "<Figure size 1800x432 with 6 Axes>"
      ]
     },
     "metadata": {},
     "output_type": "display_data"
    }
   ],
   "source": [
    "plt.figure(figsize = (25,6))\n",
    "fig = plt.subplot(1,3,1)\n",
    "ax = fig.axes\n",
    "\n",
    "data_abs = np.sum(all_cms, axis=0)\n",
    "df_cm = pd.DataFrame(data_abs, index = [i for i in [\"COVID-19\", \"Pneunomia\", \"Normal\"]],\n",
    "                  columns = [i for i in [\"COVID-19\", \"Pneunomia\", \"Normal\"]])\n",
    "\n",
    "sn.set(font_scale=1.5)\n",
    "#plt.xticks(np.arange(3)+0.5,(\"COVID-19\", \"Pneunomia\", \"Normal\"), rotation=0, fontsize=\"17\", va=\"center\")\n",
    "plt.yticks(np.arange(3)+0.5,(\"COVID-19\", \"Pneunomia\", \"Normal\"), rotation=0, fontsize=\"17\", va=\"center\")\n",
    "sn.heatmap(df_cm, annot=True, fmt=\"g\", cmap=\"YlGnBu\")\n",
    "ax.xaxis.tick_top()\n",
    "plt.tick_params(\n",
    "    axis='x',          # changes apply to the x-axis\n",
    "    which='both',      # both major and minor ticks are affected\n",
    "    bottom=False,      # ticks along the bottom edge are off\n",
    "    top=False,         # ticks along the top edge are off\n",
    "    labelbottom=False) \n",
    "plt.xlabel('\\nPredictions', size=25)\n",
    "plt.ylabel('Ground truth', size=25)\n",
    "plt.title(\"Absolute values\\n\", size=30)\n",
    "\n",
    "\n",
    "# PRECISION SUBPLOT\n",
    "fig = plt.subplot(1,3,2)\n",
    "ax = fig.axes\n",
    "\n",
    "\n",
    "data_prec = all_cms.copy()\n",
    "for i in range(5):\n",
    "    data_prec[i] = data_prec[i]/np.sum(data_prec[i], axis=0)\n",
    "prec_stds = np.std(data_prec, axis = 0)\n",
    "data_prec = np.mean(data_prec, axis=0)\n",
    "labels_prec = data_to_label(data_prec, prec_stds)\n",
    "\n",
    "df_cm = pd.DataFrame(data_prec, index = [i for i in [\"COVID-19\", \"Pneunomia\", \"Normal\"]],\n",
    "                  columns = [i for i in [\"COVID-19\", \"Pneunomia\", \"Normal\"]])\n",
    "sn.set(font_scale=1.5)\n",
    "plt.ylabel(\"ground truth\")\n",
    "plt.xlabel(\"predictions\")\n",
    "plt.title(\"Precision\")\n",
    "ax.xaxis.tick_top()\n",
    "plt.tick_params(\n",
    "    axis='x',          # changes apply to the x-axis\n",
    "    which='both',      # both major and minor ticks are affected\n",
    "    bottom=False,      # ticks along the bottom edge are off\n",
    "    top=False,         # ticks along the top edge are off\n",
    "    labelbottom=False) \n",
    "plt.yticks(np.arange(3)+0.5,(\"COVID-19\", \"Pneunomia\", \"Normal\"), rotation=0, fontsize=\"17\", va=\"center\")\n",
    "sn.heatmap(df_cm, annot=labels_prec, fmt='', cmap=\"YlGnBu\")\n",
    "plt.xlabel('\\nPredictions', size=25)\n",
    "plt.ylabel('Ground truth', size=25)\n",
    "plt.title(\"Sensitivity (Recall)\\n\", size=30)\n",
    "\n",
    "\n",
    "#  SENSITIVITY SUBPLOT\n",
    "fig = plt.subplot(1,3,3)\n",
    "ax = fig.axes\n",
    "data_sens = all_cms.copy()\n",
    "for i in range(5):\n",
    "    sums_axis = np.sum(data_sens[i], axis=1)\n",
    "    data_sens[i] = np.array([data_sens[i,j,:]/sums_axis[j] for j in range(3)])\n",
    "sens_stds = np.std(data_sens, axis = 0)\n",
    "data_sens = np.mean(data_sens, axis=0)\n",
    "\n",
    "labels_sens = data_to_label(data_sens, sens_stds)\n",
    "df_cm = pd.DataFrame(data_sens, index = [i for i in [\"COVID-19\", \"Pneunomia\", \"Normal\"]],\n",
    "                  columns = [i for i in [\"COVID-19\", \"Pneunomia\", \"Normal\"]])\n",
    "# sn.set(font_scale=1.5)\n",
    "\n",
    "plt.yticks(np.arange(3)+0.5,(\"COVID-19\", \"Pneunomia\", \"Normal\"), rotation=0, fontsize=\"17\", va=\"center\")\n",
    "#plt.xticks(np.arange(3)+0.5,(\"COVID-19\", \"Pneunomia\", \"Normal\"), rotation=0, fontsize=\"17\", va=\"center\")\n",
    "ax.xaxis.tick_top()\n",
    "plt.tick_params(\n",
    "    axis='x',          # changes apply to the x-axis\n",
    "    which='both',      # both major and minor ticks are affected\n",
    "    bottom=False,      # ticks along the bottom edge are off\n",
    "    top=False,         # ticks along the top edge are off\n",
    "    labelbottom=False) \n",
    "\n",
    "\n",
    "\n",
    "sn.heatmap(df_cm, annot=labels_sens, fmt='', cmap=\"YlGnBu\")\n",
    "plt.xlabel('\\nPredictions', size=25)\n",
    "plt.ylabel('Ground truth', size=25)\n",
    "plt.title(\"Precision\\n\", size=30)\n",
    "\n",
    "plt.savefig(\"confusion_matrix.pdf\", bottom=0.2)\n"
   ]
  },
  {
   "cell_type": "markdown",
   "metadata": {},
   "source": [
    "# Tests"
   ]
  },
  {
   "cell_type": "code",
   "execution_count": 30,
   "metadata": {},
   "outputs": [
    {
     "name": "stdout",
     "output_type": "stream",
     "text": [
      "init\n",
      "../trained_models/fold_0/pocus_fold_0.model\n",
      "Model restored. Class mappings are ['covid', 'pneunomia', 'regular']\n"
     ]
    }
   ],
   "source": [
    "model = Evaluator(split=str(i))"
   ]
  },
  {
   "cell_type": "code",
   "execution_count": 31,
   "metadata": {
    "scrolled": true
   },
   "outputs": [
    {
     "name": "stdout",
     "output_type": "stream",
     "text": [
      "              precision    recall  f1-score   support\n",
      "\n",
      "       covid       0.56      0.56      0.56        63\n",
      "   pneunomia       0.44      0.79      0.56        28\n",
      "     regular       0.67      0.38      0.48        48\n",
      "\n",
      "    accuracy                           0.54       139\n",
      "   macro avg       0.56      0.57      0.53       139\n",
      "weighted avg       0.57      0.54      0.53       139\n",
      "\n",
      "Cov-Atlas+(44) 1 0\n",
      "Cov-Atlas+(45) 1 0\n",
      "Cov-Atlas-+(43) 1 0\n",
      "Cov-Atlas-Day+1 2 0\n",
      "Cov-Atlas-Day+2 0 0\n",
      "Cov-Atlas-Day+3 0 0\n",
      "Cov-Atlas-Day+4 0 0\n",
      "Cov-B_ConvexProb_score1 0 0\n",
      "Pneu-grep-pneumonia2 1 1\n",
      "Reg-Atlas 0 2\n",
      "Reg-Atlas-alines 2 2\n",
      "Reg-Atlas-lungcurtain 1 2\n",
      "Reg-Youtube 0 2\n",
      "video accuracy (certainty): 0.46153846153846156\n",
      "video accuracy (majority): 0.46153846153846156\n"
     ]
    }
   ],
   "source": [
    "logits = np.array([model(img) for img in test_data])\n",
    "predIdxs = np.argmax(logits, axis=1)\n",
    "\n",
    "print(\n",
    "classification_report(\n",
    "    gt_class_idx, predIdxs, target_names=classes\n",
    "    )\n",
    ")\n",
    "\n",
    "vid_preds_certainty = average_certainty(logits, gt_class_idx, np.array(test_files))\n",
    "vid_preds_majority = majority_vote(predIdxs, gt_class_idx, np.array(test_files))"
   ]
  },
  {
   "cell_type": "code",
   "execution_count": 49,
   "metadata": {},
   "outputs": [
    {
     "name": "stdout",
     "output_type": "stream",
     "text": [
      "init\n",
      "../trained_models/fold_0/variables/variables\n",
      "Model restored. Class mappings are ['covid', 'pneunomia', 'regular']\n"
     ]
    }
   ],
   "source": [
    "model2 = Evaluator(split=str(i))"
   ]
  },
  {
   "cell_type": "code",
   "execution_count": null,
   "metadata": {},
   "outputs": [],
   "source": []
  }
 ],
 "metadata": {
  "kernelspec": {
   "display_name": "Python 3",
   "language": "python",
   "name": "python3"
  },
  "language_info": {
   "codemirror_mode": {
    "name": "ipython",
    "version": 3
   },
   "file_extension": ".py",
   "mimetype": "text/x-python",
   "name": "python",
   "nbconvert_exporter": "python",
   "pygments_lexer": "ipython3",
   "version": "3.7.6"
  }
 },
 "nbformat": 4,
 "nbformat_minor": 4
}
